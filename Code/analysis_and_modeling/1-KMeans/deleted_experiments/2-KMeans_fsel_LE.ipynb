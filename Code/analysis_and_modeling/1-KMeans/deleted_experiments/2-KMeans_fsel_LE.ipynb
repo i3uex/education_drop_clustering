{
 "cells": [
  {
   "cell_type": "code",
   "execution_count": 1,
   "metadata": {
    "ExecuteTime": {
     "start_time": "2024-11-22T10:46:08.564530Z",
     "end_time": "2024-11-22T10:46:10.366915Z"
    }
   },
   "outputs": [],
   "source": [
    "import random\n",
    "\n",
    "import numpy as np\n",
    "import pandas as pd\n",
    "import sklearn\n",
    "from sklearn import cluster                   # Algoritmos de clustering.\n",
    "from sklearn import datasets                  # Crear datasets.\n",
    "from sklearn import manifold                  # Algoritmos de reduccion de dimensionalidad.\n",
    "from sklearn import decomposition             # Módulo de reducción de dimensionalidad.\n",
    "from sklearn.utils import check_random_state  # Gestión de números aleatorios.\n",
    "\n",
    "# Clustering jerárquico y dendrograma.\n",
    "from scipy.spatial.distance import pdist\n",
    "from scipy.cluster.hierarchy import dendrogram, linkage, fcluster\n",
    "from sklearn.neighbors import NearestNeighbors\n",
    "\n",
    "# UMAP para reducción de dimensionalidad.\n",
    "import umap\n",
    "\n",
    "# Visualizacion.\n",
    "import matplotlib\n",
    "import matplotlib.pyplot as plt\n",
    "from sklearn.cluster import AffinityPropagation\n",
    "import sys \n",
    "import os\n",
    "sys.path.append(os.path.abspath('/home/fran/Escritorio/i3uex/education_drop_clustering/Code/analysis_and_modeling'))\n",
    "import dunn_index\n",
    "from sklearn import metrics\n",
    "\n",
    "%matplotlib inline"
   ]
  },
  {
   "cell_type": "code",
   "execution_count": 2,
   "metadata": {
    "ExecuteTime": {
     "start_time": "2024-11-22T10:46:10.366915Z",
     "end_time": "2024-11-22T10:46:10.398156Z"
    }
   },
   "outputs": [],
   "source": [
    "analys_personal_data = pd.read_csv('../../../Data/For_analysis_and_modeling/2nd_quadrimester/analys_personal_data.csv',sep='|')"
   ]
  },
  {
   "cell_type": "code",
   "execution_count": 3,
   "metadata": {
    "ExecuteTime": {
     "start_time": "2024-11-22T10:46:10.398156Z",
     "end_time": "2024-11-22T10:46:10.429406Z"
    }
   },
   "outputs": [
    {
     "data": {
      "text/plain": "   expediente  cod_plan                                           des_plan  \\\n0           2      1623  GRADO EN INGENIERÍA CIVIL - CONSTRUCCIONES CIV...   \n1           3      1623  GRADO EN INGENIERÍA CIVIL - CONSTRUCCIONES CIV...   \n2           4      1623  GRADO EN INGENIERÍA CIVIL - CONSTRUCCIONES CIV...   \n3           5      1623  GRADO EN INGENIERÍA CIVIL - CONSTRUCCIONES CIV...   \n4           6      1623  GRADO EN INGENIERÍA CIVIL - CONSTRUCCIONES CIV...   \n\n  anio_apertura_expediente  abandona convocatoria_acceso  \\\n0                  2009-10         0                 JUN   \n1                  2009-10         1                 JUN   \n2                  2009-10         0                 JUN   \n3                  2009-10         1                 JUN   \n4                  2009-10         0                 JUN   \n\n              des_acceso  nota_admision_def sexo  edad_acceso  distance  \\\n0           Selectividad              6.836    D           25  300.6305   \n1  Formación Profesional              6.836    H           31  667.4115   \n2  Formación Profesional              6.836    D           28   91.0020   \n3           Selectividad              6.730    D           25   91.0020   \n4           Selectividad              6.836    H           25   91.0020   \n\n  becario  cum_pass_ratio  cum_absent_ratio  std_deviation  cum_median  \\\n0       S        0.235294          0.176471       1.990064       4.175   \n1       S        0.312500          0.562500       1.566486       5.000   \n2       N        0.166667          0.444444       1.345324       3.825   \n3       N        0.263158          0.315789       1.850120       3.670   \n4       N        1.000000          0.000000       1.339003       7.000   \n\n   cum_pass_median  cum_fail_median  \n0              5.7             3.84  \n1              5.0             2.50  \n2              5.2             2.53  \n3              5.4             2.50  \n4              7.0             0.00  ",
      "text/html": "<div>\n<style scoped>\n    .dataframe tbody tr th:only-of-type {\n        vertical-align: middle;\n    }\n\n    .dataframe tbody tr th {\n        vertical-align: top;\n    }\n\n    .dataframe thead th {\n        text-align: right;\n    }\n</style>\n<table border=\"1\" class=\"dataframe\">\n  <thead>\n    <tr style=\"text-align: right;\">\n      <th></th>\n      <th>expediente</th>\n      <th>cod_plan</th>\n      <th>des_plan</th>\n      <th>anio_apertura_expediente</th>\n      <th>abandona</th>\n      <th>convocatoria_acceso</th>\n      <th>des_acceso</th>\n      <th>nota_admision_def</th>\n      <th>sexo</th>\n      <th>edad_acceso</th>\n      <th>distance</th>\n      <th>becario</th>\n      <th>cum_pass_ratio</th>\n      <th>cum_absent_ratio</th>\n      <th>std_deviation</th>\n      <th>cum_median</th>\n      <th>cum_pass_median</th>\n      <th>cum_fail_median</th>\n    </tr>\n  </thead>\n  <tbody>\n    <tr>\n      <th>0</th>\n      <td>2</td>\n      <td>1623</td>\n      <td>GRADO EN INGENIERÍA CIVIL - CONSTRUCCIONES CIV...</td>\n      <td>2009-10</td>\n      <td>0</td>\n      <td>JUN</td>\n      <td>Selectividad</td>\n      <td>6.836</td>\n      <td>D</td>\n      <td>25</td>\n      <td>300.6305</td>\n      <td>S</td>\n      <td>0.235294</td>\n      <td>0.176471</td>\n      <td>1.990064</td>\n      <td>4.175</td>\n      <td>5.7</td>\n      <td>3.84</td>\n    </tr>\n    <tr>\n      <th>1</th>\n      <td>3</td>\n      <td>1623</td>\n      <td>GRADO EN INGENIERÍA CIVIL - CONSTRUCCIONES CIV...</td>\n      <td>2009-10</td>\n      <td>1</td>\n      <td>JUN</td>\n      <td>Formación Profesional</td>\n      <td>6.836</td>\n      <td>H</td>\n      <td>31</td>\n      <td>667.4115</td>\n      <td>S</td>\n      <td>0.312500</td>\n      <td>0.562500</td>\n      <td>1.566486</td>\n      <td>5.000</td>\n      <td>5.0</td>\n      <td>2.50</td>\n    </tr>\n    <tr>\n      <th>2</th>\n      <td>4</td>\n      <td>1623</td>\n      <td>GRADO EN INGENIERÍA CIVIL - CONSTRUCCIONES CIV...</td>\n      <td>2009-10</td>\n      <td>0</td>\n      <td>JUN</td>\n      <td>Formación Profesional</td>\n      <td>6.836</td>\n      <td>D</td>\n      <td>28</td>\n      <td>91.0020</td>\n      <td>N</td>\n      <td>0.166667</td>\n      <td>0.444444</td>\n      <td>1.345324</td>\n      <td>3.825</td>\n      <td>5.2</td>\n      <td>2.53</td>\n    </tr>\n    <tr>\n      <th>3</th>\n      <td>5</td>\n      <td>1623</td>\n      <td>GRADO EN INGENIERÍA CIVIL - CONSTRUCCIONES CIV...</td>\n      <td>2009-10</td>\n      <td>1</td>\n      <td>JUN</td>\n      <td>Selectividad</td>\n      <td>6.730</td>\n      <td>D</td>\n      <td>25</td>\n      <td>91.0020</td>\n      <td>N</td>\n      <td>0.263158</td>\n      <td>0.315789</td>\n      <td>1.850120</td>\n      <td>3.670</td>\n      <td>5.4</td>\n      <td>2.50</td>\n    </tr>\n    <tr>\n      <th>4</th>\n      <td>6</td>\n      <td>1623</td>\n      <td>GRADO EN INGENIERÍA CIVIL - CONSTRUCCIONES CIV...</td>\n      <td>2009-10</td>\n      <td>0</td>\n      <td>JUN</td>\n      <td>Selectividad</td>\n      <td>6.836</td>\n      <td>H</td>\n      <td>25</td>\n      <td>91.0020</td>\n      <td>N</td>\n      <td>1.000000</td>\n      <td>0.000000</td>\n      <td>1.339003</td>\n      <td>7.000</td>\n      <td>7.0</td>\n      <td>0.00</td>\n    </tr>\n  </tbody>\n</table>\n</div>"
     },
     "execution_count": 3,
     "metadata": {},
     "output_type": "execute_result"
    }
   ],
   "source": [
    "analys_personal_data.head()"
   ]
  },
  {
   "cell_type": "code",
   "execution_count": 4,
   "metadata": {
    "ExecuteTime": {
     "start_time": "2024-11-22T10:46:10.429406Z",
     "end_time": "2024-11-22T10:46:10.476766Z"
    }
   },
   "outputs": [],
   "source": [
    "def le_dataset(dset, le_cols, cat_cols):\n",
    "    from sklearn import preprocessing\n",
    "    for col in cat_cols:\n",
    "        le = preprocessing.LabelEncoder()\n",
    "        le.fit(dset[col].cat.categories)\n",
    "        le_cols.append(le)\n",
    "        dset[col] = le.transform(dset[col])"
   ]
  },
  {
   "cell_type": "code",
   "execution_count": 5,
   "metadata": {
    "ExecuteTime": {
     "start_time": "2024-11-22T10:46:10.445502Z",
     "end_time": "2024-11-22T10:46:10.492424Z"
    }
   },
   "outputs": [],
   "source": [
    "def inverse_le_dataset(dset, le_cols, cat_cols):\n",
    "    from sklearn import preprocessing\n",
    "    i = 0\n",
    "    for col in cat_cols:\n",
    "        le = le_cols[i]\n",
    "        from sklearn import preprocessing\n",
    "        dset[col] = le.inverse_transform(dset[col])\n",
    "        i +=1"
   ]
  },
  {
   "cell_type": "code",
   "execution_count": 6,
   "metadata": {
    "ExecuteTime": {
     "start_time": "2024-11-22T10:46:11.304824Z",
     "end_time": "2024-11-22T10:46:11.313548Z"
    }
   },
   "outputs": [],
   "source": [
    "def get_dunn_index(data, labels):\n",
    "    from sklearn.metrics.pairwise import euclidean_distances\n",
    "    distances = euclidean_distances(data)\n",
    "    return dunn_index.dunn(labels,distances)\n"
   ]
  },
  {
   "cell_type": "code",
   "execution_count": 7,
   "outputs": [],
   "source": [
    "for col in analys_personal_data.columns:\n",
    "    if 'object' in str(analys_personal_data.dtypes[col]):\n",
    "        analys_personal_data[col] = analys_personal_data[col].astype('category')\n",
    "\n"
   ],
   "metadata": {
    "collapsed": false,
    "ExecuteTime": {
     "start_time": "2024-11-22T10:46:11.627288Z",
     "end_time": "2024-11-22T10:46:11.674585Z"
    }
   }
  },
  {
   "cell_type": "code",
   "execution_count": 8,
   "outputs": [
    {
     "data": {
      "text/plain": "Index(['des_plan', 'anio_apertura_expediente', 'convocatoria_acceso',\n       'des_acceso', 'sexo', 'becario'],\n      dtype='object')"
     },
     "execution_count": 8,
     "metadata": {},
     "output_type": "execute_result"
    }
   ],
   "source": [
    "analys_personal_data.select_dtypes('category').columns\n"
   ],
   "metadata": {
    "collapsed": false,
    "ExecuteTime": {
     "start_time": "2024-11-22T10:46:11.976188Z",
     "end_time": "2024-11-22T10:46:12.004927Z"
    }
   }
  },
  {
   "cell_type": "code",
   "execution_count": 9,
   "outputs": [],
   "source": [
    "le_cols = []\n",
    "cat_cols_le = [ 'convocatoria_acceso']"
   ],
   "metadata": {
    "collapsed": false
   }
  },
  {
   "cell_type": "code",
   "execution_count": 11,
   "outputs": [],
   "source": [
    "analys_personal_data_model = analys_personal_data.copy()\n",
    "analys_personal_data_model.drop(['expediente','cod_plan','abandona','distance','becario','des_acceso'],axis=1,inplace=True)"
   ],
   "metadata": {
    "collapsed": false
   }
  },
  {
   "cell_type": "code",
   "execution_count": 12,
   "outputs": [
    {
     "data": {
      "text/plain": "   convocatoria_acceso  nota_admision_def  edad_acceso  cum_pass_ratio  \\\n0                    4              6.836           25        0.235294   \n1                    4              6.836           31        0.312500   \n2                    4              6.836           28        0.166667   \n3                    4              6.730           25        0.263158   \n4                    4              6.836           25        1.000000   \n\n   cum_absent_ratio  std_deviation  cum_median  cum_pass_median  \\\n0          0.176471       1.990064       4.175              5.7   \n1          0.562500       1.566486       5.000              5.0   \n2          0.444444       1.345324       3.825              5.2   \n3          0.315789       1.850120       3.670              5.4   \n4          0.000000       1.339003       7.000              7.0   \n\n   cum_fail_median  des_plan_GRADO EN EDIFICACIÓN  ...  \\\n0             3.84                              0  ...   \n1             2.50                              0  ...   \n2             2.53                              0  ...   \n3             2.50                              0  ...   \n4             0.00                              0  ...   \n\n   anio_apertura_expediente_2009-10  anio_apertura_expediente_2010-11  \\\n0                                 1                                 0   \n1                                 1                                 0   \n2                                 1                                 0   \n3                                 1                                 0   \n4                                 1                                 0   \n\n   anio_apertura_expediente_2011-12  anio_apertura_expediente_2012-13  \\\n0                                 0                                 0   \n1                                 0                                 0   \n2                                 0                                 0   \n3                                 0                                 0   \n4                                 0                                 0   \n\n   anio_apertura_expediente_2013-14  anio_apertura_expediente_2014-15  \\\n0                                 0                                 0   \n1                                 0                                 0   \n2                                 0                                 0   \n3                                 0                                 0   \n4                                 0                                 0   \n\n   anio_apertura_expediente_2015-16  anio_apertura_expediente_2016-17  sexo_D  \\\n0                                 0                                 0       1   \n1                                 0                                 0       0   \n2                                 0                                 0       1   \n3                                 0                                 0       1   \n4                                 0                                 0       0   \n\n   sexo_H  \n0       0  \n1       1  \n2       0  \n3       0  \n4       1  \n\n[5 rows x 27 columns]",
      "text/html": "<div>\n<style scoped>\n    .dataframe tbody tr th:only-of-type {\n        vertical-align: middle;\n    }\n\n    .dataframe tbody tr th {\n        vertical-align: top;\n    }\n\n    .dataframe thead th {\n        text-align: right;\n    }\n</style>\n<table border=\"1\" class=\"dataframe\">\n  <thead>\n    <tr style=\"text-align: right;\">\n      <th></th>\n      <th>convocatoria_acceso</th>\n      <th>nota_admision_def</th>\n      <th>edad_acceso</th>\n      <th>cum_pass_ratio</th>\n      <th>cum_absent_ratio</th>\n      <th>std_deviation</th>\n      <th>cum_median</th>\n      <th>cum_pass_median</th>\n      <th>cum_fail_median</th>\n      <th>des_plan_GRADO EN EDIFICACIÓN</th>\n      <th>...</th>\n      <th>anio_apertura_expediente_2009-10</th>\n      <th>anio_apertura_expediente_2010-11</th>\n      <th>anio_apertura_expediente_2011-12</th>\n      <th>anio_apertura_expediente_2012-13</th>\n      <th>anio_apertura_expediente_2013-14</th>\n      <th>anio_apertura_expediente_2014-15</th>\n      <th>anio_apertura_expediente_2015-16</th>\n      <th>anio_apertura_expediente_2016-17</th>\n      <th>sexo_D</th>\n      <th>sexo_H</th>\n    </tr>\n  </thead>\n  <tbody>\n    <tr>\n      <th>0</th>\n      <td>4</td>\n      <td>6.836</td>\n      <td>25</td>\n      <td>0.235294</td>\n      <td>0.176471</td>\n      <td>1.990064</td>\n      <td>4.175</td>\n      <td>5.7</td>\n      <td>3.84</td>\n      <td>0</td>\n      <td>...</td>\n      <td>1</td>\n      <td>0</td>\n      <td>0</td>\n      <td>0</td>\n      <td>0</td>\n      <td>0</td>\n      <td>0</td>\n      <td>0</td>\n      <td>1</td>\n      <td>0</td>\n    </tr>\n    <tr>\n      <th>1</th>\n      <td>4</td>\n      <td>6.836</td>\n      <td>31</td>\n      <td>0.312500</td>\n      <td>0.562500</td>\n      <td>1.566486</td>\n      <td>5.000</td>\n      <td>5.0</td>\n      <td>2.50</td>\n      <td>0</td>\n      <td>...</td>\n      <td>1</td>\n      <td>0</td>\n      <td>0</td>\n      <td>0</td>\n      <td>0</td>\n      <td>0</td>\n      <td>0</td>\n      <td>0</td>\n      <td>0</td>\n      <td>1</td>\n    </tr>\n    <tr>\n      <th>2</th>\n      <td>4</td>\n      <td>6.836</td>\n      <td>28</td>\n      <td>0.166667</td>\n      <td>0.444444</td>\n      <td>1.345324</td>\n      <td>3.825</td>\n      <td>5.2</td>\n      <td>2.53</td>\n      <td>0</td>\n      <td>...</td>\n      <td>1</td>\n      <td>0</td>\n      <td>0</td>\n      <td>0</td>\n      <td>0</td>\n      <td>0</td>\n      <td>0</td>\n      <td>0</td>\n      <td>1</td>\n      <td>0</td>\n    </tr>\n    <tr>\n      <th>3</th>\n      <td>4</td>\n      <td>6.730</td>\n      <td>25</td>\n      <td>0.263158</td>\n      <td>0.315789</td>\n      <td>1.850120</td>\n      <td>3.670</td>\n      <td>5.4</td>\n      <td>2.50</td>\n      <td>0</td>\n      <td>...</td>\n      <td>1</td>\n      <td>0</td>\n      <td>0</td>\n      <td>0</td>\n      <td>0</td>\n      <td>0</td>\n      <td>0</td>\n      <td>0</td>\n      <td>1</td>\n      <td>0</td>\n    </tr>\n    <tr>\n      <th>4</th>\n      <td>4</td>\n      <td>6.836</td>\n      <td>25</td>\n      <td>1.000000</td>\n      <td>0.000000</td>\n      <td>1.339003</td>\n      <td>7.000</td>\n      <td>7.0</td>\n      <td>0.00</td>\n      <td>0</td>\n      <td>...</td>\n      <td>1</td>\n      <td>0</td>\n      <td>0</td>\n      <td>0</td>\n      <td>0</td>\n      <td>0</td>\n      <td>0</td>\n      <td>0</td>\n      <td>0</td>\n      <td>1</td>\n    </tr>\n  </tbody>\n</table>\n<p>5 rows × 27 columns</p>\n</div>"
     },
     "execution_count": 12,
     "metadata": {},
     "output_type": "execute_result"
    }
   ],
   "source": [
    "le_dataset(analys_personal_data_model,le_cols,cat_cols_le)\n",
    "analys_personal_data_model = pd.get_dummies(analys_personal_data_model)\n",
    "analys_personal_data_model.head()"
   ],
   "metadata": {
    "collapsed": false
   }
  },
  {
   "cell_type": "code",
   "execution_count": 7,
   "metadata": {},
   "outputs": [
    {
     "data": {
      "text/html": [
       "<div>\n",
       "<style scoped>\n",
       "    .dataframe tbody tr th:only-of-type {\n",
       "        vertical-align: middle;\n",
       "    }\n",
       "\n",
       "    .dataframe tbody tr th {\n",
       "        vertical-align: top;\n",
       "    }\n",
       "\n",
       "    .dataframe thead th {\n",
       "        text-align: right;\n",
       "    }\n",
       "</style>\n",
       "<table border=\"1\" class=\"dataframe\">\n",
       "  <thead>\n",
       "    <tr style=\"text-align: right;\">\n",
       "      <th></th>\n",
       "      <th>expediente</th>\n",
       "      <th>cod_plan</th>\n",
       "      <th>des_plan</th>\n",
       "      <th>anio_apertura_expediente</th>\n",
       "      <th>abandona</th>\n",
       "      <th>convocatoria_acceso</th>\n",
       "      <th>des_acceso</th>\n",
       "      <th>nota_admision_def</th>\n",
       "      <th>sexo</th>\n",
       "      <th>edad_acceso</th>\n",
       "      <th>distance</th>\n",
       "      <th>becario</th>\n",
       "      <th>cum_pass_ratio</th>\n",
       "      <th>cum_absent_ratio</th>\n",
       "      <th>std_deviation</th>\n",
       "      <th>cum_median</th>\n",
       "      <th>cum_pass_median</th>\n",
       "      <th>cum_fail_median</th>\n",
       "    </tr>\n",
       "  </thead>\n",
       "  <tbody>\n",
       "    <tr>\n",
       "      <th>0</th>\n",
       "      <td>2</td>\n",
       "      <td>1623</td>\n",
       "      <td>1</td>\n",
       "      <td>1</td>\n",
       "      <td>0</td>\n",
       "      <td>4</td>\n",
       "      <td>2</td>\n",
       "      <td>6.836</td>\n",
       "      <td>0</td>\n",
       "      <td>25</td>\n",
       "      <td>300.6305</td>\n",
       "      <td>1</td>\n",
       "      <td>0.235294</td>\n",
       "      <td>0.176471</td>\n",
       "      <td>1.990064</td>\n",
       "      <td>4.175</td>\n",
       "      <td>5.7</td>\n",
       "      <td>3.84</td>\n",
       "    </tr>\n",
       "    <tr>\n",
       "      <th>1</th>\n",
       "      <td>3</td>\n",
       "      <td>1623</td>\n",
       "      <td>1</td>\n",
       "      <td>1</td>\n",
       "      <td>1</td>\n",
       "      <td>4</td>\n",
       "      <td>0</td>\n",
       "      <td>6.836</td>\n",
       "      <td>1</td>\n",
       "      <td>31</td>\n",
       "      <td>667.4115</td>\n",
       "      <td>1</td>\n",
       "      <td>0.312500</td>\n",
       "      <td>0.562500</td>\n",
       "      <td>1.566486</td>\n",
       "      <td>5.000</td>\n",
       "      <td>5.0</td>\n",
       "      <td>2.50</td>\n",
       "    </tr>\n",
       "    <tr>\n",
       "      <th>2</th>\n",
       "      <td>4</td>\n",
       "      <td>1623</td>\n",
       "      <td>1</td>\n",
       "      <td>1</td>\n",
       "      <td>0</td>\n",
       "      <td>4</td>\n",
       "      <td>0</td>\n",
       "      <td>6.836</td>\n",
       "      <td>0</td>\n",
       "      <td>28</td>\n",
       "      <td>91.0020</td>\n",
       "      <td>0</td>\n",
       "      <td>0.166667</td>\n",
       "      <td>0.444444</td>\n",
       "      <td>1.345324</td>\n",
       "      <td>3.825</td>\n",
       "      <td>5.2</td>\n",
       "      <td>2.53</td>\n",
       "    </tr>\n",
       "    <tr>\n",
       "      <th>3</th>\n",
       "      <td>5</td>\n",
       "      <td>1623</td>\n",
       "      <td>1</td>\n",
       "      <td>1</td>\n",
       "      <td>1</td>\n",
       "      <td>4</td>\n",
       "      <td>2</td>\n",
       "      <td>6.730</td>\n",
       "      <td>0</td>\n",
       "      <td>25</td>\n",
       "      <td>91.0020</td>\n",
       "      <td>0</td>\n",
       "      <td>0.263158</td>\n",
       "      <td>0.315789</td>\n",
       "      <td>1.850120</td>\n",
       "      <td>3.670</td>\n",
       "      <td>5.4</td>\n",
       "      <td>2.50</td>\n",
       "    </tr>\n",
       "    <tr>\n",
       "      <th>4</th>\n",
       "      <td>6</td>\n",
       "      <td>1623</td>\n",
       "      <td>1</td>\n",
       "      <td>1</td>\n",
       "      <td>0</td>\n",
       "      <td>4</td>\n",
       "      <td>2</td>\n",
       "      <td>6.836</td>\n",
       "      <td>1</td>\n",
       "      <td>25</td>\n",
       "      <td>91.0020</td>\n",
       "      <td>0</td>\n",
       "      <td>1.000000</td>\n",
       "      <td>0.000000</td>\n",
       "      <td>1.339003</td>\n",
       "      <td>7.000</td>\n",
       "      <td>7.0</td>\n",
       "      <td>0.00</td>\n",
       "    </tr>\n",
       "  </tbody>\n",
       "</table>\n",
       "</div>"
      ],
      "text/plain": [
       "   expediente  cod_plan  des_plan  anio_apertura_expediente  abandona  \\\n",
       "0           2      1623         1                         1         0   \n",
       "1           3      1623         1                         1         1   \n",
       "2           4      1623         1                         1         0   \n",
       "3           5      1623         1                         1         1   \n",
       "4           6      1623         1                         1         0   \n",
       "\n",
       "   convocatoria_acceso  des_acceso  nota_admision_def  sexo  edad_acceso  \\\n",
       "0                    4           2              6.836     0           25   \n",
       "1                    4           0              6.836     1           31   \n",
       "2                    4           0              6.836     0           28   \n",
       "3                    4           2              6.730     0           25   \n",
       "4                    4           2              6.836     1           25   \n",
       "\n",
       "   distance  becario  cum_pass_ratio  cum_absent_ratio  std_deviation  \\\n",
       "0  300.6305        1        0.235294          0.176471       1.990064   \n",
       "1  667.4115        1        0.312500          0.562500       1.566486   \n",
       "2   91.0020        0        0.166667          0.444444       1.345324   \n",
       "3   91.0020        0        0.263158          0.315789       1.850120   \n",
       "4   91.0020        0        1.000000          0.000000       1.339003   \n",
       "\n",
       "   cum_median  cum_pass_median  cum_fail_median  \n",
       "0       4.175              5.7             3.84  \n",
       "1       5.000              5.0             2.50  \n",
       "2       3.825              5.2             2.53  \n",
       "3       3.670              5.4             2.50  \n",
       "4       7.000              7.0             0.00  "
      ]
     },
     "execution_count": 7,
     "metadata": {},
     "output_type": "execute_result"
    }
   ],
   "source": [
    "# for col in analys_personal_data.columns:\n",
    "#     if 'object' in str(analys_personal_data.dtypes[col]):\n",
    "#         analys_personal_data[col] = analys_personal_data[col].astype('category')\n",
    "#\n",
    "# le_cols = []\n",
    "# cat_cols = analys_personal_data.select_dtypes('category').columns\n",
    "# analys_personal_data_model = analys_personal_data.copy()\n",
    "# le_dataset(analys_personal_data_model,le_cols,cat_cols)\n",
    "# analys_personal_data_model.head()"
   ]
  },
  {
   "cell_type": "code",
   "execution_count": 8,
   "metadata": {},
   "outputs": [],
   "source": [
    "# analys_personal_data_model.drop(['expediente','cod_plan','abandona','distance','becario','des_acceso'],axis=1,inplace=True)"
   ]
  },
  {
   "cell_type": "code",
   "execution_count": 13,
   "metadata": {
    "scrolled": false,
    "ExecuteTime": {
     "start_time": "2024-11-22T10:47:42.839611Z",
     "end_time": "2024-11-22T10:47:42.857847Z"
    }
   },
   "outputs": [
    {
     "data": {
      "text/plain": "   convocatoria_acceso  nota_admision_def  edad_acceso  cum_pass_ratio  \\\n0                    4              6.836           25        0.235294   \n1                    4              6.836           31        0.312500   \n2                    4              6.836           28        0.166667   \n3                    4              6.730           25        0.263158   \n4                    4              6.836           25        1.000000   \n\n   cum_absent_ratio  std_deviation  cum_median  cum_pass_median  \\\n0          0.176471       1.990064       4.175              5.7   \n1          0.562500       1.566486       5.000              5.0   \n2          0.444444       1.345324       3.825              5.2   \n3          0.315789       1.850120       3.670              5.4   \n4          0.000000       1.339003       7.000              7.0   \n\n   cum_fail_median  des_plan_GRADO EN EDIFICACIÓN  ...  \\\n0             3.84                              0  ...   \n1             2.50                              0  ...   \n2             2.53                              0  ...   \n3             2.50                              0  ...   \n4             0.00                              0  ...   \n\n   anio_apertura_expediente_2009-10  anio_apertura_expediente_2010-11  \\\n0                                 1                                 0   \n1                                 1                                 0   \n2                                 1                                 0   \n3                                 1                                 0   \n4                                 1                                 0   \n\n   anio_apertura_expediente_2011-12  anio_apertura_expediente_2012-13  \\\n0                                 0                                 0   \n1                                 0                                 0   \n2                                 0                                 0   \n3                                 0                                 0   \n4                                 0                                 0   \n\n   anio_apertura_expediente_2013-14  anio_apertura_expediente_2014-15  \\\n0                                 0                                 0   \n1                                 0                                 0   \n2                                 0                                 0   \n3                                 0                                 0   \n4                                 0                                 0   \n\n   anio_apertura_expediente_2015-16  anio_apertura_expediente_2016-17  sexo_D  \\\n0                                 0                                 0       1   \n1                                 0                                 0       0   \n2                                 0                                 0       1   \n3                                 0                                 0       1   \n4                                 0                                 0       0   \n\n   sexo_H  \n0       0  \n1       1  \n2       0  \n3       0  \n4       1  \n\n[5 rows x 27 columns]",
      "text/html": "<div>\n<style scoped>\n    .dataframe tbody tr th:only-of-type {\n        vertical-align: middle;\n    }\n\n    .dataframe tbody tr th {\n        vertical-align: top;\n    }\n\n    .dataframe thead th {\n        text-align: right;\n    }\n</style>\n<table border=\"1\" class=\"dataframe\">\n  <thead>\n    <tr style=\"text-align: right;\">\n      <th></th>\n      <th>convocatoria_acceso</th>\n      <th>nota_admision_def</th>\n      <th>edad_acceso</th>\n      <th>cum_pass_ratio</th>\n      <th>cum_absent_ratio</th>\n      <th>std_deviation</th>\n      <th>cum_median</th>\n      <th>cum_pass_median</th>\n      <th>cum_fail_median</th>\n      <th>des_plan_GRADO EN EDIFICACIÓN</th>\n      <th>...</th>\n      <th>anio_apertura_expediente_2009-10</th>\n      <th>anio_apertura_expediente_2010-11</th>\n      <th>anio_apertura_expediente_2011-12</th>\n      <th>anio_apertura_expediente_2012-13</th>\n      <th>anio_apertura_expediente_2013-14</th>\n      <th>anio_apertura_expediente_2014-15</th>\n      <th>anio_apertura_expediente_2015-16</th>\n      <th>anio_apertura_expediente_2016-17</th>\n      <th>sexo_D</th>\n      <th>sexo_H</th>\n    </tr>\n  </thead>\n  <tbody>\n    <tr>\n      <th>0</th>\n      <td>4</td>\n      <td>6.836</td>\n      <td>25</td>\n      <td>0.235294</td>\n      <td>0.176471</td>\n      <td>1.990064</td>\n      <td>4.175</td>\n      <td>5.7</td>\n      <td>3.84</td>\n      <td>0</td>\n      <td>...</td>\n      <td>1</td>\n      <td>0</td>\n      <td>0</td>\n      <td>0</td>\n      <td>0</td>\n      <td>0</td>\n      <td>0</td>\n      <td>0</td>\n      <td>1</td>\n      <td>0</td>\n    </tr>\n    <tr>\n      <th>1</th>\n      <td>4</td>\n      <td>6.836</td>\n      <td>31</td>\n      <td>0.312500</td>\n      <td>0.562500</td>\n      <td>1.566486</td>\n      <td>5.000</td>\n      <td>5.0</td>\n      <td>2.50</td>\n      <td>0</td>\n      <td>...</td>\n      <td>1</td>\n      <td>0</td>\n      <td>0</td>\n      <td>0</td>\n      <td>0</td>\n      <td>0</td>\n      <td>0</td>\n      <td>0</td>\n      <td>0</td>\n      <td>1</td>\n    </tr>\n    <tr>\n      <th>2</th>\n      <td>4</td>\n      <td>6.836</td>\n      <td>28</td>\n      <td>0.166667</td>\n      <td>0.444444</td>\n      <td>1.345324</td>\n      <td>3.825</td>\n      <td>5.2</td>\n      <td>2.53</td>\n      <td>0</td>\n      <td>...</td>\n      <td>1</td>\n      <td>0</td>\n      <td>0</td>\n      <td>0</td>\n      <td>0</td>\n      <td>0</td>\n      <td>0</td>\n      <td>0</td>\n      <td>1</td>\n      <td>0</td>\n    </tr>\n    <tr>\n      <th>3</th>\n      <td>4</td>\n      <td>6.730</td>\n      <td>25</td>\n      <td>0.263158</td>\n      <td>0.315789</td>\n      <td>1.850120</td>\n      <td>3.670</td>\n      <td>5.4</td>\n      <td>2.50</td>\n      <td>0</td>\n      <td>...</td>\n      <td>1</td>\n      <td>0</td>\n      <td>0</td>\n      <td>0</td>\n      <td>0</td>\n      <td>0</td>\n      <td>0</td>\n      <td>0</td>\n      <td>1</td>\n      <td>0</td>\n    </tr>\n    <tr>\n      <th>4</th>\n      <td>4</td>\n      <td>6.836</td>\n      <td>25</td>\n      <td>1.000000</td>\n      <td>0.000000</td>\n      <td>1.339003</td>\n      <td>7.000</td>\n      <td>7.0</td>\n      <td>0.00</td>\n      <td>0</td>\n      <td>...</td>\n      <td>1</td>\n      <td>0</td>\n      <td>0</td>\n      <td>0</td>\n      <td>0</td>\n      <td>0</td>\n      <td>0</td>\n      <td>0</td>\n      <td>0</td>\n      <td>1</td>\n    </tr>\n  </tbody>\n</table>\n<p>5 rows × 27 columns</p>\n</div>"
     },
     "execution_count": 13,
     "metadata": {},
     "output_type": "execute_result"
    }
   ],
   "source": [
    "analys_personal_data_model.head()"
   ]
  },
  {
   "cell_type": "code",
   "execution_count": 14,
   "metadata": {
    "ExecuteTime": {
     "start_time": "2024-11-22T10:47:57.662513Z",
     "end_time": "2024-11-22T10:47:57.677519Z"
    }
   },
   "outputs": [],
   "source": [
    "from sklearn.preprocessing import MinMaxScaler\n",
    "\n",
    "norm = MinMaxScaler().fit(analys_personal_data_model)\n",
    "analys_personal_data_model[analys_personal_data_model.columns] = norm.transform(analys_personal_data_model)"
   ]
  },
  {
   "cell_type": "code",
   "execution_count": 15,
   "metadata": {
    "ExecuteTime": {
     "start_time": "2024-11-22T10:47:58.409569Z",
     "end_time": "2024-11-22T10:47:58.470598Z"
    }
   },
   "outputs": [
    {
     "data": {
      "text/plain": "      convocatoria_acceso  nota_admision_def  edad_acceso  cum_pass_ratio  \\\n0                     0.8           0.217464     0.170732        0.235294   \n1                     0.8           0.217464     0.317073        0.312500   \n2                     0.8           0.217464     0.243902        0.166667   \n3                     0.8           0.204785     0.170732        0.263158   \n4                     0.8           0.217464     0.170732        1.000000   \n...                   ...                ...          ...             ...   \n1768                  0.8           0.222967     0.024390        0.066667   \n1769                  0.8           0.222847     0.000000        0.294118   \n1770                  0.8           0.207656     0.000000        0.105263   \n1771                  0.8           0.269856     0.000000        0.000000   \n1772                  0.8           0.144378     0.000000        0.105263   \n\n      cum_absent_ratio  std_deviation  cum_median  cum_pass_median  \\\n0             0.176471       0.615087      0.4175            0.570   \n1             0.562500       0.484168      0.5000            0.500   \n2             0.444444       0.415811      0.3825            0.520   \n3             0.315789       0.571833      0.3670            0.540   \n4             0.000000       0.413858      0.7000            0.700   \n...                ...            ...         ...              ...   \n1768          0.533333       0.370527      0.2200            0.550   \n1769          0.352941       0.638489      0.4300            0.550   \n1770          0.000000       0.455520      0.2000            0.505   \n1771          0.550000       0.215125      0.2500            0.000   \n1772          0.684211       0.596308      0.3500            0.525   \n\n      cum_fail_median  des_plan_GRADO EN EDIFICACIÓN  ...  \\\n0            0.783673                            0.0  ...   \n1            0.510204                            0.0  ...   \n2            0.516327                            0.0  ...   \n3            0.510204                            0.0  ...   \n4            0.000000                            0.0  ...   \n...               ...                            ...  ...   \n1768         0.428571                            0.0  ...   \n1769         0.612245                            0.0  ...   \n1770         0.367347                            0.0  ...   \n1771         0.510204                            0.0  ...   \n1772         0.459184                            0.0  ...   \n\n      anio_apertura_expediente_2009-10  anio_apertura_expediente_2010-11  \\\n0                                  1.0                               0.0   \n1                                  1.0                               0.0   \n2                                  1.0                               0.0   \n3                                  1.0                               0.0   \n4                                  1.0                               0.0   \n...                                ...                               ...   \n1768                               0.0                               0.0   \n1769                               0.0                               0.0   \n1770                               0.0                               0.0   \n1771                               0.0                               0.0   \n1772                               0.0                               0.0   \n\n      anio_apertura_expediente_2011-12  anio_apertura_expediente_2012-13  \\\n0                                  0.0                               0.0   \n1                                  0.0                               0.0   \n2                                  0.0                               0.0   \n3                                  0.0                               0.0   \n4                                  0.0                               0.0   \n...                                ...                               ...   \n1768                               0.0                               0.0   \n1769                               0.0                               0.0   \n1770                               0.0                               0.0   \n1771                               0.0                               0.0   \n1772                               0.0                               0.0   \n\n      anio_apertura_expediente_2013-14  anio_apertura_expediente_2014-15  \\\n0                                  0.0                               0.0   \n1                                  0.0                               0.0   \n2                                  0.0                               0.0   \n3                                  0.0                               0.0   \n4                                  0.0                               0.0   \n...                                ...                               ...   \n1768                               0.0                               0.0   \n1769                               0.0                               0.0   \n1770                               0.0                               0.0   \n1771                               0.0                               0.0   \n1772                               0.0                               0.0   \n\n      anio_apertura_expediente_2015-16  anio_apertura_expediente_2016-17  \\\n0                                  0.0                               0.0   \n1                                  0.0                               0.0   \n2                                  0.0                               0.0   \n3                                  0.0                               0.0   \n4                                  0.0                               0.0   \n...                                ...                               ...   \n1768                               0.0                               1.0   \n1769                               0.0                               1.0   \n1770                               0.0                               1.0   \n1771                               0.0                               1.0   \n1772                               0.0                               1.0   \n\n      sexo_D  sexo_H  \n0        1.0     0.0  \n1        0.0     1.0  \n2        1.0     0.0  \n3        1.0     0.0  \n4        0.0     1.0  \n...      ...     ...  \n1768     0.0     1.0  \n1769     0.0     1.0  \n1770     0.0     1.0  \n1771     0.0     1.0  \n1772     0.0     1.0  \n\n[1773 rows x 27 columns]",
      "text/html": "<div>\n<style scoped>\n    .dataframe tbody tr th:only-of-type {\n        vertical-align: middle;\n    }\n\n    .dataframe tbody tr th {\n        vertical-align: top;\n    }\n\n    .dataframe thead th {\n        text-align: right;\n    }\n</style>\n<table border=\"1\" class=\"dataframe\">\n  <thead>\n    <tr style=\"text-align: right;\">\n      <th></th>\n      <th>convocatoria_acceso</th>\n      <th>nota_admision_def</th>\n      <th>edad_acceso</th>\n      <th>cum_pass_ratio</th>\n      <th>cum_absent_ratio</th>\n      <th>std_deviation</th>\n      <th>cum_median</th>\n      <th>cum_pass_median</th>\n      <th>cum_fail_median</th>\n      <th>des_plan_GRADO EN EDIFICACIÓN</th>\n      <th>...</th>\n      <th>anio_apertura_expediente_2009-10</th>\n      <th>anio_apertura_expediente_2010-11</th>\n      <th>anio_apertura_expediente_2011-12</th>\n      <th>anio_apertura_expediente_2012-13</th>\n      <th>anio_apertura_expediente_2013-14</th>\n      <th>anio_apertura_expediente_2014-15</th>\n      <th>anio_apertura_expediente_2015-16</th>\n      <th>anio_apertura_expediente_2016-17</th>\n      <th>sexo_D</th>\n      <th>sexo_H</th>\n    </tr>\n  </thead>\n  <tbody>\n    <tr>\n      <th>0</th>\n      <td>0.8</td>\n      <td>0.217464</td>\n      <td>0.170732</td>\n      <td>0.235294</td>\n      <td>0.176471</td>\n      <td>0.615087</td>\n      <td>0.4175</td>\n      <td>0.570</td>\n      <td>0.783673</td>\n      <td>0.0</td>\n      <td>...</td>\n      <td>1.0</td>\n      <td>0.0</td>\n      <td>0.0</td>\n      <td>0.0</td>\n      <td>0.0</td>\n      <td>0.0</td>\n      <td>0.0</td>\n      <td>0.0</td>\n      <td>1.0</td>\n      <td>0.0</td>\n    </tr>\n    <tr>\n      <th>1</th>\n      <td>0.8</td>\n      <td>0.217464</td>\n      <td>0.317073</td>\n      <td>0.312500</td>\n      <td>0.562500</td>\n      <td>0.484168</td>\n      <td>0.5000</td>\n      <td>0.500</td>\n      <td>0.510204</td>\n      <td>0.0</td>\n      <td>...</td>\n      <td>1.0</td>\n      <td>0.0</td>\n      <td>0.0</td>\n      <td>0.0</td>\n      <td>0.0</td>\n      <td>0.0</td>\n      <td>0.0</td>\n      <td>0.0</td>\n      <td>0.0</td>\n      <td>1.0</td>\n    </tr>\n    <tr>\n      <th>2</th>\n      <td>0.8</td>\n      <td>0.217464</td>\n      <td>0.243902</td>\n      <td>0.166667</td>\n      <td>0.444444</td>\n      <td>0.415811</td>\n      <td>0.3825</td>\n      <td>0.520</td>\n      <td>0.516327</td>\n      <td>0.0</td>\n      <td>...</td>\n      <td>1.0</td>\n      <td>0.0</td>\n      <td>0.0</td>\n      <td>0.0</td>\n      <td>0.0</td>\n      <td>0.0</td>\n      <td>0.0</td>\n      <td>0.0</td>\n      <td>1.0</td>\n      <td>0.0</td>\n    </tr>\n    <tr>\n      <th>3</th>\n      <td>0.8</td>\n      <td>0.204785</td>\n      <td>0.170732</td>\n      <td>0.263158</td>\n      <td>0.315789</td>\n      <td>0.571833</td>\n      <td>0.3670</td>\n      <td>0.540</td>\n      <td>0.510204</td>\n      <td>0.0</td>\n      <td>...</td>\n      <td>1.0</td>\n      <td>0.0</td>\n      <td>0.0</td>\n      <td>0.0</td>\n      <td>0.0</td>\n      <td>0.0</td>\n      <td>0.0</td>\n      <td>0.0</td>\n      <td>1.0</td>\n      <td>0.0</td>\n    </tr>\n    <tr>\n      <th>4</th>\n      <td>0.8</td>\n      <td>0.217464</td>\n      <td>0.170732</td>\n      <td>1.000000</td>\n      <td>0.000000</td>\n      <td>0.413858</td>\n      <td>0.7000</td>\n      <td>0.700</td>\n      <td>0.000000</td>\n      <td>0.0</td>\n      <td>...</td>\n      <td>1.0</td>\n      <td>0.0</td>\n      <td>0.0</td>\n      <td>0.0</td>\n      <td>0.0</td>\n      <td>0.0</td>\n      <td>0.0</td>\n      <td>0.0</td>\n      <td>0.0</td>\n      <td>1.0</td>\n    </tr>\n    <tr>\n      <th>...</th>\n      <td>...</td>\n      <td>...</td>\n      <td>...</td>\n      <td>...</td>\n      <td>...</td>\n      <td>...</td>\n      <td>...</td>\n      <td>...</td>\n      <td>...</td>\n      <td>...</td>\n      <td>...</td>\n      <td>...</td>\n      <td>...</td>\n      <td>...</td>\n      <td>...</td>\n      <td>...</td>\n      <td>...</td>\n      <td>...</td>\n      <td>...</td>\n      <td>...</td>\n      <td>...</td>\n    </tr>\n    <tr>\n      <th>1768</th>\n      <td>0.8</td>\n      <td>0.222967</td>\n      <td>0.024390</td>\n      <td>0.066667</td>\n      <td>0.533333</td>\n      <td>0.370527</td>\n      <td>0.2200</td>\n      <td>0.550</td>\n      <td>0.428571</td>\n      <td>0.0</td>\n      <td>...</td>\n      <td>0.0</td>\n      <td>0.0</td>\n      <td>0.0</td>\n      <td>0.0</td>\n      <td>0.0</td>\n      <td>0.0</td>\n      <td>0.0</td>\n      <td>1.0</td>\n      <td>0.0</td>\n      <td>1.0</td>\n    </tr>\n    <tr>\n      <th>1769</th>\n      <td>0.8</td>\n      <td>0.222847</td>\n      <td>0.000000</td>\n      <td>0.294118</td>\n      <td>0.352941</td>\n      <td>0.638489</td>\n      <td>0.4300</td>\n      <td>0.550</td>\n      <td>0.612245</td>\n      <td>0.0</td>\n      <td>...</td>\n      <td>0.0</td>\n      <td>0.0</td>\n      <td>0.0</td>\n      <td>0.0</td>\n      <td>0.0</td>\n      <td>0.0</td>\n      <td>0.0</td>\n      <td>1.0</td>\n      <td>0.0</td>\n      <td>1.0</td>\n    </tr>\n    <tr>\n      <th>1770</th>\n      <td>0.8</td>\n      <td>0.207656</td>\n      <td>0.000000</td>\n      <td>0.105263</td>\n      <td>0.000000</td>\n      <td>0.455520</td>\n      <td>0.2000</td>\n      <td>0.505</td>\n      <td>0.367347</td>\n      <td>0.0</td>\n      <td>...</td>\n      <td>0.0</td>\n      <td>0.0</td>\n      <td>0.0</td>\n      <td>0.0</td>\n      <td>0.0</td>\n      <td>0.0</td>\n      <td>0.0</td>\n      <td>1.0</td>\n      <td>0.0</td>\n      <td>1.0</td>\n    </tr>\n    <tr>\n      <th>1771</th>\n      <td>0.8</td>\n      <td>0.269856</td>\n      <td>0.000000</td>\n      <td>0.000000</td>\n      <td>0.550000</td>\n      <td>0.215125</td>\n      <td>0.2500</td>\n      <td>0.000</td>\n      <td>0.510204</td>\n      <td>0.0</td>\n      <td>...</td>\n      <td>0.0</td>\n      <td>0.0</td>\n      <td>0.0</td>\n      <td>0.0</td>\n      <td>0.0</td>\n      <td>0.0</td>\n      <td>0.0</td>\n      <td>1.0</td>\n      <td>0.0</td>\n      <td>1.0</td>\n    </tr>\n    <tr>\n      <th>1772</th>\n      <td>0.8</td>\n      <td>0.144378</td>\n      <td>0.000000</td>\n      <td>0.105263</td>\n      <td>0.684211</td>\n      <td>0.596308</td>\n      <td>0.3500</td>\n      <td>0.525</td>\n      <td>0.459184</td>\n      <td>0.0</td>\n      <td>...</td>\n      <td>0.0</td>\n      <td>0.0</td>\n      <td>0.0</td>\n      <td>0.0</td>\n      <td>0.0</td>\n      <td>0.0</td>\n      <td>0.0</td>\n      <td>1.0</td>\n      <td>0.0</td>\n      <td>1.0</td>\n    </tr>\n  </tbody>\n</table>\n<p>1773 rows × 27 columns</p>\n</div>"
     },
     "execution_count": 15,
     "metadata": {},
     "output_type": "execute_result"
    }
   ],
   "source": [
    "analys_personal_data_model"
   ]
  },
  {
   "cell_type": "code",
   "execution_count": 16,
   "metadata": {
    "ExecuteTime": {
     "start_time": "2024-11-22T10:48:00.415228Z",
     "end_time": "2024-11-22T10:48:03.552669Z"
    }
   },
   "outputs": [
    {
     "name": "stderr",
     "output_type": "stream",
     "text": [
      "C:\\Users\\franj\\anaconda3\\lib\\site-packages\\sklearn\\cluster\\_kmeans.py:870: FutureWarning: The default value of `n_init` will change from 10 to 'auto' in 1.4. Set the value of `n_init` explicitly to suppress the warning\n",
      "  warnings.warn(\n",
      "C:\\Users\\franj\\anaconda3\\lib\\site-packages\\sklearn\\cluster\\_kmeans.py:1382: UserWarning: KMeans is known to have a memory leak on Windows with MKL, when there are less chunks than available threads. You can avoid it by setting the environment variable OMP_NUM_THREADS=7.\n",
      "  warnings.warn(\n",
      "C:\\Users\\franj\\anaconda3\\lib\\site-packages\\sklearn\\cluster\\_kmeans.py:870: FutureWarning: The default value of `n_init` will change from 10 to 'auto' in 1.4. Set the value of `n_init` explicitly to suppress the warning\n",
      "  warnings.warn(\n",
      "C:\\Users\\franj\\anaconda3\\lib\\site-packages\\sklearn\\cluster\\_kmeans.py:1382: UserWarning: KMeans is known to have a memory leak on Windows with MKL, when there are less chunks than available threads. You can avoid it by setting the environment variable OMP_NUM_THREADS=7.\n",
      "  warnings.warn(\n",
      "C:\\Users\\franj\\anaconda3\\lib\\site-packages\\sklearn\\cluster\\_kmeans.py:870: FutureWarning: The default value of `n_init` will change from 10 to 'auto' in 1.4. Set the value of `n_init` explicitly to suppress the warning\n",
      "  warnings.warn(\n",
      "C:\\Users\\franj\\anaconda3\\lib\\site-packages\\sklearn\\cluster\\_kmeans.py:1382: UserWarning: KMeans is known to have a memory leak on Windows with MKL, when there are less chunks than available threads. You can avoid it by setting the environment variable OMP_NUM_THREADS=7.\n",
      "  warnings.warn(\n",
      "C:\\Users\\franj\\anaconda3\\lib\\site-packages\\sklearn\\cluster\\_kmeans.py:870: FutureWarning: The default value of `n_init` will change from 10 to 'auto' in 1.4. Set the value of `n_init` explicitly to suppress the warning\n",
      "  warnings.warn(\n",
      "C:\\Users\\franj\\anaconda3\\lib\\site-packages\\sklearn\\cluster\\_kmeans.py:1382: UserWarning: KMeans is known to have a memory leak on Windows with MKL, when there are less chunks than available threads. You can avoid it by setting the environment variable OMP_NUM_THREADS=7.\n",
      "  warnings.warn(\n",
      "C:\\Users\\franj\\anaconda3\\lib\\site-packages\\sklearn\\cluster\\_kmeans.py:870: FutureWarning: The default value of `n_init` will change from 10 to 'auto' in 1.4. Set the value of `n_init` explicitly to suppress the warning\n",
      "  warnings.warn(\n",
      "C:\\Users\\franj\\anaconda3\\lib\\site-packages\\sklearn\\cluster\\_kmeans.py:1382: UserWarning: KMeans is known to have a memory leak on Windows with MKL, when there are less chunks than available threads. You can avoid it by setting the environment variable OMP_NUM_THREADS=7.\n",
      "  warnings.warn(\n",
      "C:\\Users\\franj\\anaconda3\\lib\\site-packages\\sklearn\\cluster\\_kmeans.py:870: FutureWarning: The default value of `n_init` will change from 10 to 'auto' in 1.4. Set the value of `n_init` explicitly to suppress the warning\n",
      "  warnings.warn(\n",
      "C:\\Users\\franj\\anaconda3\\lib\\site-packages\\sklearn\\cluster\\_kmeans.py:1382: UserWarning: KMeans is known to have a memory leak on Windows with MKL, when there are less chunks than available threads. You can avoid it by setting the environment variable OMP_NUM_THREADS=7.\n",
      "  warnings.warn(\n",
      "C:\\Users\\franj\\anaconda3\\lib\\site-packages\\sklearn\\cluster\\_kmeans.py:870: FutureWarning: The default value of `n_init` will change from 10 to 'auto' in 1.4. Set the value of `n_init` explicitly to suppress the warning\n",
      "  warnings.warn(\n",
      "C:\\Users\\franj\\anaconda3\\lib\\site-packages\\sklearn\\cluster\\_kmeans.py:1382: UserWarning: KMeans is known to have a memory leak on Windows with MKL, when there are less chunks than available threads. You can avoid it by setting the environment variable OMP_NUM_THREADS=7.\n",
      "  warnings.warn(\n",
      "C:\\Users\\franj\\anaconda3\\lib\\site-packages\\sklearn\\cluster\\_kmeans.py:870: FutureWarning: The default value of `n_init` will change from 10 to 'auto' in 1.4. Set the value of `n_init` explicitly to suppress the warning\n",
      "  warnings.warn(\n",
      "C:\\Users\\franj\\anaconda3\\lib\\site-packages\\sklearn\\cluster\\_kmeans.py:1382: UserWarning: KMeans is known to have a memory leak on Windows with MKL, when there are less chunks than available threads. You can avoid it by setting the environment variable OMP_NUM_THREADS=7.\n",
      "  warnings.warn(\n",
      "C:\\Users\\franj\\anaconda3\\lib\\site-packages\\sklearn\\cluster\\_kmeans.py:870: FutureWarning: The default value of `n_init` will change from 10 to 'auto' in 1.4. Set the value of `n_init` explicitly to suppress the warning\n",
      "  warnings.warn(\n",
      "C:\\Users\\franj\\anaconda3\\lib\\site-packages\\sklearn\\cluster\\_kmeans.py:1382: UserWarning: KMeans is known to have a memory leak on Windows with MKL, when there are less chunks than available threads. You can avoid it by setting the environment variable OMP_NUM_THREADS=7.\n",
      "  warnings.warn(\n"
     ]
    }
   ],
   "source": [
    "from sklearn import cluster\n",
    "K = range(1, 10)\n",
    "sse = []\n",
    "for k in K:\n",
    "    kmeans = cluster.KMeans(n_clusters=k)\n",
    "    kmeans.fit(analys_personal_data_model)\n",
    "    sse.append(kmeans.inertia_)\n"
   ]
  },
  {
   "cell_type": "code",
   "execution_count": 17,
   "metadata": {
    "scrolled": false,
    "ExecuteTime": {
     "start_time": "2024-11-22T10:48:03.552669Z",
     "end_time": "2024-11-22T10:48:03.788259Z"
    }
   },
   "outputs": [
    {
     "data": {
      "text/plain": "<Figure size 640x480 with 1 Axes>",
      "image/png": "[encoded data removed]"
     },
     "metadata": {},
     "output_type": "display_data"
    }
   ],
   "source": [
    "import matplotlib.pyplot as plt\n",
    "plt.plot(K, sse, marker='o')\n",
    "plt.xlabel('Number of clusters')\n",
    "plt.ylabel('Distortion')\n",
    "plt.show()"
   ]
  },
  {
   "cell_type": "code",
   "execution_count": 18,
   "metadata": {
    "ExecuteTime": {
     "start_time": "2024-11-22T10:48:09.756738Z",
     "end_time": "2024-11-22T10:48:10.111348Z"
    }
   },
   "outputs": [
    {
     "name": "stderr",
     "output_type": "stream",
     "text": [
      "C:\\Users\\franj\\anaconda3\\lib\\site-packages\\sklearn\\cluster\\_kmeans.py:870: FutureWarning: The default value of `n_init` will change from 10 to 'auto' in 1.4. Set the value of `n_init` explicitly to suppress the warning\n",
      "  warnings.warn(\n",
      "C:\\Users\\franj\\anaconda3\\lib\\site-packages\\sklearn\\cluster\\_kmeans.py:1382: UserWarning: KMeans is known to have a memory leak on Windows with MKL, when there are less chunks than available threads. You can avoid it by setting the environment variable OMP_NUM_THREADS=7.\n",
      "  warnings.warn(\n"
     ]
    }
   ],
   "source": [
    "kmeans = cluster.KMeans(n_clusters=2)\n",
    "kmeans.fit(analys_personal_data_model)\n",
    "analys_personal_data_clust = analys_personal_data_model.copy()\n",
    "analys_personal_data_clust['labels'] = kmeans.predict(analys_personal_data_model)\n",
    "analys_personal_data['labels'] = analys_personal_data_clust['labels'].astype('category')"
   ]
  },
  {
   "cell_type": "code",
   "execution_count": 19,
   "metadata": {
    "scrolled": true,
    "ExecuteTime": {
     "start_time": "2024-11-22T10:48:11.227178Z",
     "end_time": "2024-11-22T10:48:11.257783Z"
    }
   },
   "outputs": [
    {
     "data": {
      "text/plain": "      convocatoria_acceso  nota_admision_def  edad_acceso  cum_pass_ratio  \\\n0                     0.8           0.217464     0.170732        0.235294   \n1                     0.8           0.217464     0.317073        0.312500   \n2                     0.8           0.217464     0.243902        0.166667   \n3                     0.8           0.204785     0.170732        0.263158   \n4                     0.8           0.217464     0.170732        1.000000   \n...                   ...                ...          ...             ...   \n1768                  0.8           0.222967     0.024390        0.066667   \n1769                  0.8           0.222847     0.000000        0.294118   \n1770                  0.8           0.207656     0.000000        0.105263   \n1771                  0.8           0.269856     0.000000        0.000000   \n1772                  0.8           0.144378     0.000000        0.105263   \n\n      cum_absent_ratio  std_deviation  cum_median  cum_pass_median  \\\n0             0.176471       0.615087      0.4175            0.570   \n1             0.562500       0.484168      0.5000            0.500   \n2             0.444444       0.415811      0.3825            0.520   \n3             0.315789       0.571833      0.3670            0.540   \n4             0.000000       0.413858      0.7000            0.700   \n...                ...            ...         ...              ...   \n1768          0.533333       0.370527      0.2200            0.550   \n1769          0.352941       0.638489      0.4300            0.550   \n1770          0.000000       0.455520      0.2000            0.505   \n1771          0.550000       0.215125      0.2500            0.000   \n1772          0.684211       0.596308      0.3500            0.525   \n\n      cum_fail_median  des_plan_GRADO EN EDIFICACIÓN  ...  \\\n0            0.783673                            0.0  ...   \n1            0.510204                            0.0  ...   \n2            0.516327                            0.0  ...   \n3            0.510204                            0.0  ...   \n4            0.000000                            0.0  ...   \n...               ...                            ...  ...   \n1768         0.428571                            0.0  ...   \n1769         0.612245                            0.0  ...   \n1770         0.367347                            0.0  ...   \n1771         0.510204                            0.0  ...   \n1772         0.459184                            0.0  ...   \n\n      anio_apertura_expediente_2009-10  anio_apertura_expediente_2010-11  \\\n0                                  1.0                               0.0   \n1                                  1.0                               0.0   \n2                                  1.0                               0.0   \n3                                  1.0                               0.0   \n4                                  1.0                               0.0   \n...                                ...                               ...   \n1768                               0.0                               0.0   \n1769                               0.0                               0.0   \n1770                               0.0                               0.0   \n1771                               0.0                               0.0   \n1772                               0.0                               0.0   \n\n      anio_apertura_expediente_2011-12  anio_apertura_expediente_2012-13  \\\n0                                  0.0                               0.0   \n1                                  0.0                               0.0   \n2                                  0.0                               0.0   \n3                                  0.0                               0.0   \n4                                  0.0                               0.0   \n...                                ...                               ...   \n1768                               0.0                               0.0   \n1769                               0.0                               0.0   \n1770                               0.0                               0.0   \n1771                               0.0                               0.0   \n1772                               0.0                               0.0   \n\n      anio_apertura_expediente_2013-14  anio_apertura_expediente_2014-15  \\\n0                                  0.0                               0.0   \n1                                  0.0                               0.0   \n2                                  0.0                               0.0   \n3                                  0.0                               0.0   \n4                                  0.0                               0.0   \n...                                ...                               ...   \n1768                               0.0                               0.0   \n1769                               0.0                               0.0   \n1770                               0.0                               0.0   \n1771                               0.0                               0.0   \n1772                               0.0                               0.0   \n\n      anio_apertura_expediente_2015-16  anio_apertura_expediente_2016-17  \\\n0                                  0.0                               0.0   \n1                                  0.0                               0.0   \n2                                  0.0                               0.0   \n3                                  0.0                               0.0   \n4                                  0.0                               0.0   \n...                                ...                               ...   \n1768                               0.0                               1.0   \n1769                               0.0                               1.0   \n1770                               0.0                               1.0   \n1771                               0.0                               1.0   \n1772                               0.0                               1.0   \n\n      sexo_D  sexo_H  \n0        1.0     0.0  \n1        0.0     1.0  \n2        1.0     0.0  \n3        1.0     0.0  \n4        0.0     1.0  \n...      ...     ...  \n1768     0.0     1.0  \n1769     0.0     1.0  \n1770     0.0     1.0  \n1771     0.0     1.0  \n1772     0.0     1.0  \n\n[1773 rows x 27 columns]",
      "text/html": "<div>\n<style scoped>\n    .dataframe tbody tr th:only-of-type {\n        vertical-align: middle;\n    }\n\n    .dataframe tbody tr th {\n        vertical-align: top;\n    }\n\n    .dataframe thead th {\n        text-align: right;\n    }\n</style>\n<table border=\"1\" class=\"dataframe\">\n  <thead>\n    <tr style=\"text-align: right;\">\n      <th></th>\n      <th>convocatoria_acceso</th>\n      <th>nota_admision_def</th>\n      <th>edad_acceso</th>\n      <th>cum_pass_ratio</th>\n      <th>cum_absent_ratio</th>\n      <th>std_deviation</th>\n      <th>cum_median</th>\n      <th>cum_pass_median</th>\n      <th>cum_fail_median</th>\n      <th>des_plan_GRADO EN EDIFICACIÓN</th>\n      <th>...</th>\n      <th>anio_apertura_expediente_2009-10</th>\n      <th>anio_apertura_expediente_2010-11</th>\n      <th>anio_apertura_expediente_2011-12</th>\n      <th>anio_apertura_expediente_2012-13</th>\n      <th>anio_apertura_expediente_2013-14</th>\n      <th>anio_apertura_expediente_2014-15</th>\n      <th>anio_apertura_expediente_2015-16</th>\n      <th>anio_apertura_expediente_2016-17</th>\n      <th>sexo_D</th>\n      <th>sexo_H</th>\n    </tr>\n  </thead>\n  <tbody>\n    <tr>\n      <th>0</th>\n      <td>0.8</td>\n      <td>0.217464</td>\n      <td>0.170732</td>\n      <td>0.235294</td>\n      <td>0.176471</td>\n      <td>0.615087</td>\n      <td>0.4175</td>\n      <td>0.570</td>\n      <td>0.783673</td>\n      <td>0.0</td>\n      <td>...</td>\n      <td>1.0</td>\n      <td>0.0</td>\n      <td>0.0</td>\n      <td>0.0</td>\n      <td>0.0</td>\n      <td>0.0</td>\n      <td>0.0</td>\n      <td>0.0</td>\n      <td>1.0</td>\n      <td>0.0</td>\n    </tr>\n    <tr>\n      <th>1</th>\n      <td>0.8</td>\n      <td>0.217464</td>\n      <td>0.317073</td>\n      <td>0.312500</td>\n      <td>0.562500</td>\n      <td>0.484168</td>\n      <td>0.5000</td>\n      <td>0.500</td>\n      <td>0.510204</td>\n      <td>0.0</td>\n      <td>...</td>\n      <td>1.0</td>\n      <td>0.0</td>\n      <td>0.0</td>\n      <td>0.0</td>\n      <td>0.0</td>\n      <td>0.0</td>\n      <td>0.0</td>\n      <td>0.0</td>\n      <td>0.0</td>\n      <td>1.0</td>\n    </tr>\n    <tr>\n      <th>2</th>\n      <td>0.8</td>\n      <td>0.217464</td>\n      <td>0.243902</td>\n      <td>0.166667</td>\n      <td>0.444444</td>\n      <td>0.415811</td>\n      <td>0.3825</td>\n      <td>0.520</td>\n      <td>0.516327</td>\n      <td>0.0</td>\n      <td>...</td>\n      <td>1.0</td>\n      <td>0.0</td>\n      <td>0.0</td>\n      <td>0.0</td>\n      <td>0.0</td>\n      <td>0.0</td>\n      <td>0.0</td>\n      <td>0.0</td>\n      <td>1.0</td>\n      <td>0.0</td>\n    </tr>\n    <tr>\n      <th>3</th>\n      <td>0.8</td>\n      <td>0.204785</td>\n      <td>0.170732</td>\n      <td>0.263158</td>\n      <td>0.315789</td>\n      <td>0.571833</td>\n      <td>0.3670</td>\n      <td>0.540</td>\n      <td>0.510204</td>\n      <td>0.0</td>\n      <td>...</td>\n      <td>1.0</td>\n      <td>0.0</td>\n      <td>0.0</td>\n      <td>0.0</td>\n      <td>0.0</td>\n      <td>0.0</td>\n      <td>0.0</td>\n      <td>0.0</td>\n      <td>1.0</td>\n      <td>0.0</td>\n    </tr>\n    <tr>\n      <th>4</th>\n      <td>0.8</td>\n      <td>0.217464</td>\n      <td>0.170732</td>\n      <td>1.000000</td>\n      <td>0.000000</td>\n      <td>0.413858</td>\n      <td>0.7000</td>\n      <td>0.700</td>\n      <td>0.000000</td>\n      <td>0.0</td>\n      <td>...</td>\n      <td>1.0</td>\n      <td>0.0</td>\n      <td>0.0</td>\n      <td>0.0</td>\n      <td>0.0</td>\n      <td>0.0</td>\n      <td>0.0</td>\n      <td>0.0</td>\n      <td>0.0</td>\n      <td>1.0</td>\n    </tr>\n    <tr>\n      <th>...</th>\n      <td>...</td>\n      <td>...</td>\n      <td>...</td>\n      <td>...</td>\n      <td>...</td>\n      <td>...</td>\n      <td>...</td>\n      <td>...</td>\n      <td>...</td>\n      <td>...</td>\n      <td>...</td>\n      <td>...</td>\n      <td>...</td>\n      <td>...</td>\n      <td>...</td>\n      <td>...</td>\n      <td>...</td>\n      <td>...</td>\n      <td>...</td>\n      <td>...</td>\n      <td>...</td>\n    </tr>\n    <tr>\n      <th>1768</th>\n      <td>0.8</td>\n      <td>0.222967</td>\n      <td>0.024390</td>\n      <td>0.066667</td>\n      <td>0.533333</td>\n      <td>0.370527</td>\n      <td>0.2200</td>\n      <td>0.550</td>\n      <td>0.428571</td>\n      <td>0.0</td>\n      <td>...</td>\n      <td>0.0</td>\n      <td>0.0</td>\n      <td>0.0</td>\n      <td>0.0</td>\n      <td>0.0</td>\n      <td>0.0</td>\n      <td>0.0</td>\n      <td>1.0</td>\n      <td>0.0</td>\n      <td>1.0</td>\n    </tr>\n    <tr>\n      <th>1769</th>\n      <td>0.8</td>\n      <td>0.222847</td>\n      <td>0.000000</td>\n      <td>0.294118</td>\n      <td>0.352941</td>\n      <td>0.638489</td>\n      <td>0.4300</td>\n      <td>0.550</td>\n      <td>0.612245</td>\n      <td>0.0</td>\n      <td>...</td>\n      <td>0.0</td>\n      <td>0.0</td>\n      <td>0.0</td>\n      <td>0.0</td>\n      <td>0.0</td>\n      <td>0.0</td>\n      <td>0.0</td>\n      <td>1.0</td>\n      <td>0.0</td>\n      <td>1.0</td>\n    </tr>\n    <tr>\n      <th>1770</th>\n      <td>0.8</td>\n      <td>0.207656</td>\n      <td>0.000000</td>\n      <td>0.105263</td>\n      <td>0.000000</td>\n      <td>0.455520</td>\n      <td>0.2000</td>\n      <td>0.505</td>\n      <td>0.367347</td>\n      <td>0.0</td>\n      <td>...</td>\n      <td>0.0</td>\n      <td>0.0</td>\n      <td>0.0</td>\n      <td>0.0</td>\n      <td>0.0</td>\n      <td>0.0</td>\n      <td>0.0</td>\n      <td>1.0</td>\n      <td>0.0</td>\n      <td>1.0</td>\n    </tr>\n    <tr>\n      <th>1771</th>\n      <td>0.8</td>\n      <td>0.269856</td>\n      <td>0.000000</td>\n      <td>0.000000</td>\n      <td>0.550000</td>\n      <td>0.215125</td>\n      <td>0.2500</td>\n      <td>0.000</td>\n      <td>0.510204</td>\n      <td>0.0</td>\n      <td>...</td>\n      <td>0.0</td>\n      <td>0.0</td>\n      <td>0.0</td>\n      <td>0.0</td>\n      <td>0.0</td>\n      <td>0.0</td>\n      <td>0.0</td>\n      <td>1.0</td>\n      <td>0.0</td>\n      <td>1.0</td>\n    </tr>\n    <tr>\n      <th>1772</th>\n      <td>0.8</td>\n      <td>0.144378</td>\n      <td>0.000000</td>\n      <td>0.105263</td>\n      <td>0.684211</td>\n      <td>0.596308</td>\n      <td>0.3500</td>\n      <td>0.525</td>\n      <td>0.459184</td>\n      <td>0.0</td>\n      <td>...</td>\n      <td>0.0</td>\n      <td>0.0</td>\n      <td>0.0</td>\n      <td>0.0</td>\n      <td>0.0</td>\n      <td>0.0</td>\n      <td>0.0</td>\n      <td>1.0</td>\n      <td>0.0</td>\n      <td>1.0</td>\n    </tr>\n  </tbody>\n</table>\n<p>1773 rows × 27 columns</p>\n</div>"
     },
     "execution_count": 19,
     "metadata": {},
     "output_type": "execute_result"
    }
   ],
   "source": [
    "analys_personal_data_model"
   ]
  },
  {
   "cell_type": "code",
   "execution_count": 20,
   "metadata": {
    "ExecuteTime": {
     "start_time": "2024-11-22T10:48:12.057799Z",
     "end_time": "2024-11-22T10:48:12.118229Z"
    }
   },
   "outputs": [
    {
     "data": {
      "text/plain": "0.24837288207036454"
     },
     "execution_count": 20,
     "metadata": {},
     "output_type": "execute_result"
    }
   ],
   "source": [
    "metrics.silhouette_score(analys_personal_data_clust, analys_personal_data_clust['labels'])\n"
   ]
  },
  {
   "cell_type": "code",
   "execution_count": 21,
   "metadata": {
    "ExecuteTime": {
     "start_time": "2024-11-22T10:48:12.734885Z",
     "end_time": "2024-11-22T10:48:12.757079Z"
    }
   },
   "outputs": [
    {
     "data": {
      "text/plain": "418.9969052284937"
     },
     "execution_count": 21,
     "metadata": {},
     "output_type": "execute_result"
    }
   ],
   "source": [
    "metrics.calinski_harabasz_score(analys_personal_data_clust, analys_personal_data_clust['labels'])\n"
   ]
  },
  {
   "cell_type": "code",
   "execution_count": 22,
   "metadata": {
    "scrolled": true,
    "ExecuteTime": {
     "start_time": "2024-11-22T10:48:13.354730Z",
     "end_time": "2024-11-22T10:48:13.392201Z"
    }
   },
   "outputs": [
    {
     "data": {
      "text/plain": "1.5906328489334922"
     },
     "execution_count": 22,
     "metadata": {},
     "output_type": "execute_result"
    }
   ],
   "source": [
    "metrics.davies_bouldin_score(analys_personal_data_clust, analys_personal_data_clust['labels'])\n"
   ]
  },
  {
   "cell_type": "code",
   "execution_count": 23,
   "metadata": {
    "scrolled": false,
    "ExecuteTime": {
     "start_time": "2024-11-22T10:48:13.998532Z",
     "end_time": "2024-11-22T10:48:15.411813Z"
    }
   },
   "outputs": [
    {
     "data": {
      "text/plain": "0.5634998174285736"
     },
     "execution_count": 23,
     "metadata": {},
     "output_type": "execute_result"
    }
   ],
   "source": [
    "get_dunn_index(analys_personal_data_clust,analys_personal_data_clust['labels'])"
   ]
  },
  {
   "cell_type": "code",
   "execution_count": 24,
   "metadata": {
    "ExecuteTime": {
     "start_time": "2024-11-22T10:48:16.174234Z",
     "end_time": "2024-11-22T10:48:16.189866Z"
    }
   },
   "outputs": [],
   "source": [
    "import pandas as pd\n",
    "def get_impurity(dropout_cl0: pd.core.series.Series, dropout_cl1:pd.core.series.Series):\n",
    "    impurity = -1\n",
    "    n = len (dropout_cl0) + len (dropout_cl1)\n",
    "    if len(dropout_cl0[dropout_cl0 == 0]) > len(dropout_cl0[dropout_cl0 == 1]):\n",
    "        impurity = (len(dropout_cl0) - len(dropout_cl0[dropout_cl0 == 0]))/n\n",
    "    else:\n",
    "        impurity = (len(dropout_cl0) - len(dropout_cl0[dropout_cl0 == 1]))/n\n",
    "    if len(dropout_cl1[dropout_cl1 == 0]) > len(dropout_cl1[dropout_cl1 == 1]):\n",
    "        impurity = impurity + ((len(dropout_cl1) - len(dropout_cl1[dropout_cl1 == 0]))/n)\n",
    "    else:\n",
    "        impurity = impurity + ((len(dropout_cl1) - len(dropout_cl1[dropout_cl1 == 1]))/n)\n",
    "        \n",
    "    return impurity"
   ]
  },
  {
   "cell_type": "code",
   "execution_count": 25,
   "metadata": {
    "ExecuteTime": {
     "start_time": "2024-11-22T10:48:16.809732Z",
     "end_time": "2024-11-22T10:48:16.834336Z"
    }
   },
   "outputs": [],
   "source": [
    "analys_personal_data_clust['abandona'] = analys_personal_data['abandona']"
   ]
  },
  {
   "cell_type": "code",
   "execution_count": 26,
   "metadata": {
    "ExecuteTime": {
     "start_time": "2024-11-22T10:48:17.415281Z",
     "end_time": "2024-11-22T10:48:17.439734Z"
    }
   },
   "outputs": [
    {
     "data": {
      "text/plain": "0.4145516074450084"
     },
     "execution_count": 26,
     "metadata": {},
     "output_type": "execute_result"
    }
   ],
   "source": [
    "get_impurity(analys_personal_data_clust[analys_personal_data_clust['labels']==0]['abandona'], analys_personal_data_clust[analys_personal_data_clust['labels']==1]['abandona'])"
   ]
  },
  {
   "cell_type": "code",
   "execution_count": 27,
   "metadata": {
    "ExecuteTime": {
     "start_time": "2024-11-22T10:48:18.167686Z",
     "end_time": "2024-11-22T10:48:18.181054Z"
    }
   },
   "outputs": [
    {
     "data": {
      "text/plain": "0    0.661808\n1    0.338192\nName: abandona, dtype: float64"
     },
     "execution_count": 27,
     "metadata": {},
     "output_type": "execute_result"
    }
   ],
   "source": [
    "analys_personal_data_clust[analys_personal_data_clust['labels']==0]['abandona'].value_counts(normalize=True)"
   ]
  },
  {
   "cell_type": "code",
   "execution_count": 28,
   "metadata": {
    "ExecuteTime": {
     "start_time": "2024-11-22T10:48:19.842363Z",
     "end_time": "2024-11-22T10:48:19.852893Z"
    }
   },
   "outputs": [
    {
     "data": {
      "text/plain": "1    0.567133\n0    0.432867\nName: abandona, dtype: float64"
     },
     "execution_count": 28,
     "metadata": {},
     "output_type": "execute_result"
    }
   ],
   "source": [
    "analys_personal_data_clust[analys_personal_data_clust['labels']==1]['abandona'].value_counts(normalize=True)"
   ]
  },
  {
   "cell_type": "code",
   "execution_count": 25,
   "metadata": {},
   "outputs": [],
   "source": [
    "# from apitep_utils.report import Report\n",
    "# for label in analys_personal_data['labels'].cat.categories:\n",
    "#     dset = analys_personal_data[analys_personal_data['labels'] == label]\n",
    "#     report = Report()\n",
    "#     report.generate_advanced(dset,'KMeans_1st_year_2_cl_'+str(label),sys.path[0]+ '/'+ '1st_year_norm_'+ str(label))"
   ]
  }
 ],
 "metadata": {
  "kernelspec": {
   "display_name": "Python 3",
   "language": "python",
   "name": "python3"
  },
  "language_info": {
   "codemirror_mode": {
    "name": "ipython",
    "version": 3
   },
   "file_extension": ".py",
   "mimetype": "text/x-python",
   "name": "python",
   "nbconvert_exporter": "python",
   "pygments_lexer": "ipython3",
   "version": "3.8.10"
  }
 },
 "nbformat": 4,
 "nbformat_minor": 4
}
