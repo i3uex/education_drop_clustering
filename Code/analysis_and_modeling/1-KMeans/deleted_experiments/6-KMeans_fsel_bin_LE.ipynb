{
 "cells": [
  {
   "cell_type": "code",
   "execution_count": 102,
   "metadata": {
    "ExecuteTime": {
     "start_time": "2024-11-23T14:40:02.791254Z",
     "end_time": "2024-11-23T14:40:03.518833Z"
    }
   },
   "outputs": [],
   "source": [
    "import random\n",
    "\n",
    "import numpy as np\n",
    "import pandas as pd\n",
    "import sklearn\n",
    "from sklearn import cluster                   # Algoritmos de clustering.\n",
    "from sklearn import datasets                  # Crear datasets.\n",
    "from sklearn import manifold                  # Algoritmos de reduccion de dimensionalidad.\n",
    "from sklearn import decomposition             # Módulo de reducción de dimensionalidad.\n",
    "from sklearn.utils import check_random_state  # Gestión de números aleatorios.\n",
    "\n",
    "# Clustering jerárquico y dendrograma.\n",
    "from scipy.spatial.distance import pdist\n",
    "from scipy.cluster.hierarchy import dendrogram, linkage, fcluster\n",
    "from sklearn.neighbors import NearestNeighbors\n",
    "\n",
    "# UMAP para reducción de dimensionalidad.\n",
    "import umap\n",
    "\n",
    "# Visualizacion.\n",
    "import matplotlib\n",
    "import matplotlib.pyplot as plt\n",
    "from sklearn.cluster import AffinityPropagation\n",
    "import sys \n",
    "import os\n",
    "sys.path.append(os.path.abspath('/home/fran/Escritorio/i3uex/education_drop_clustering/Code/analysis_and_modeling'))\n",
    "import dunn_index\n",
    "from sklearn import metrics\n",
    "\n",
    "%matplotlib inline"
   ]
  },
  {
   "cell_type": "code",
   "execution_count": 103,
   "metadata": {
    "scrolled": true,
    "ExecuteTime": {
     "start_time": "2024-11-23T14:40:02.797310Z",
     "end_time": "2024-11-23T14:40:03.630830Z"
    }
   },
   "outputs": [],
   "source": [
    "analys_personal_data = pd.read_csv('../../../Data/For_analysis_and_modeling/2nd_quadrimester/analys_personal_data.csv',sep='|')"
   ]
  },
  {
   "cell_type": "code",
   "execution_count": 104,
   "metadata": {
    "scrolled": true,
    "ExecuteTime": {
     "start_time": "2024-11-23T14:40:02.825966Z",
     "end_time": "2024-11-23T14:40:03.631986Z"
    }
   },
   "outputs": [
    {
     "data": {
      "text/plain": "   expediente  cod_plan                                           des_plan  \\\n0           2      1623  GRADO EN INGENIERÍA CIVIL - CONSTRUCCIONES CIV...   \n1           3      1623  GRADO EN INGENIERÍA CIVIL - CONSTRUCCIONES CIV...   \n2           4      1623  GRADO EN INGENIERÍA CIVIL - CONSTRUCCIONES CIV...   \n3           5      1623  GRADO EN INGENIERÍA CIVIL - CONSTRUCCIONES CIV...   \n4           6      1623  GRADO EN INGENIERÍA CIVIL - CONSTRUCCIONES CIV...   \n\n  anio_apertura_expediente  abandona convocatoria_acceso  \\\n0                  2009-10         0                 JUN   \n1                  2009-10         1                 JUN   \n2                  2009-10         0                 JUN   \n3                  2009-10         1                 JUN   \n4                  2009-10         0                 JUN   \n\n              des_acceso  nota_admision_def sexo  edad_acceso  distance  \\\n0           Selectividad              6.836    D           25  300.6305   \n1  Formación Profesional              6.836    H           31  667.4115   \n2  Formación Profesional              6.836    D           28   91.0020   \n3           Selectividad              6.730    D           25   91.0020   \n4           Selectividad              6.836    H           25   91.0020   \n\n  becario  cum_pass_ratio  cum_absent_ratio  std_deviation  cum_median  \\\n0       S        0.235294          0.176471       1.990064       4.175   \n1       S        0.312500          0.562500       1.566486       5.000   \n2       N        0.166667          0.444444       1.345324       3.825   \n3       N        0.263158          0.315789       1.850120       3.670   \n4       N        1.000000          0.000000       1.339003       7.000   \n\n   cum_pass_median  cum_fail_median  \n0              5.7             3.84  \n1              5.0             2.50  \n2              5.2             2.53  \n3              5.4             2.50  \n4              7.0             0.00  ",
      "text/html": "<div>\n<style scoped>\n    .dataframe tbody tr th:only-of-type {\n        vertical-align: middle;\n    }\n\n    .dataframe tbody tr th {\n        vertical-align: top;\n    }\n\n    .dataframe thead th {\n        text-align: right;\n    }\n</style>\n<table border=\"1\" class=\"dataframe\">\n  <thead>\n    <tr style=\"text-align: right;\">\n      <th></th>\n      <th>expediente</th>\n      <th>cod_plan</th>\n      <th>des_plan</th>\n      <th>anio_apertura_expediente</th>\n      <th>abandona</th>\n      <th>convocatoria_acceso</th>\n      <th>des_acceso</th>\n      <th>nota_admision_def</th>\n      <th>sexo</th>\n      <th>edad_acceso</th>\n      <th>distance</th>\n      <th>becario</th>\n      <th>cum_pass_ratio</th>\n      <th>cum_absent_ratio</th>\n      <th>std_deviation</th>\n      <th>cum_median</th>\n      <th>cum_pass_median</th>\n      <th>cum_fail_median</th>\n    </tr>\n  </thead>\n  <tbody>\n    <tr>\n      <th>0</th>\n      <td>2</td>\n      <td>1623</td>\n      <td>GRADO EN INGENIERÍA CIVIL - CONSTRUCCIONES CIV...</td>\n      <td>2009-10</td>\n      <td>0</td>\n      <td>JUN</td>\n      <td>Selectividad</td>\n      <td>6.836</td>\n      <td>D</td>\n      <td>25</td>\n      <td>300.6305</td>\n      <td>S</td>\n      <td>0.235294</td>\n      <td>0.176471</td>\n      <td>1.990064</td>\n      <td>4.175</td>\n      <td>5.7</td>\n      <td>3.84</td>\n    </tr>\n    <tr>\n      <th>1</th>\n      <td>3</td>\n      <td>1623</td>\n      <td>GRADO EN INGENIERÍA CIVIL - CONSTRUCCIONES CIV...</td>\n      <td>2009-10</td>\n      <td>1</td>\n      <td>JUN</td>\n      <td>Formación Profesional</td>\n      <td>6.836</td>\n      <td>H</td>\n      <td>31</td>\n      <td>667.4115</td>\n      <td>S</td>\n      <td>0.312500</td>\n      <td>0.562500</td>\n      <td>1.566486</td>\n      <td>5.000</td>\n      <td>5.0</td>\n      <td>2.50</td>\n    </tr>\n    <tr>\n      <th>2</th>\n      <td>4</td>\n      <td>1623</td>\n      <td>GRADO EN INGENIERÍA CIVIL - CONSTRUCCIONES CIV...</td>\n      <td>2009-10</td>\n      <td>0</td>\n      <td>JUN</td>\n      <td>Formación Profesional</td>\n      <td>6.836</td>\n      <td>D</td>\n      <td>28</td>\n      <td>91.0020</td>\n      <td>N</td>\n      <td>0.166667</td>\n      <td>0.444444</td>\n      <td>1.345324</td>\n      <td>3.825</td>\n      <td>5.2</td>\n      <td>2.53</td>\n    </tr>\n    <tr>\n      <th>3</th>\n      <td>5</td>\n      <td>1623</td>\n      <td>GRADO EN INGENIERÍA CIVIL - CONSTRUCCIONES CIV...</td>\n      <td>2009-10</td>\n      <td>1</td>\n      <td>JUN</td>\n      <td>Selectividad</td>\n      <td>6.730</td>\n      <td>D</td>\n      <td>25</td>\n      <td>91.0020</td>\n      <td>N</td>\n      <td>0.263158</td>\n      <td>0.315789</td>\n      <td>1.850120</td>\n      <td>3.670</td>\n      <td>5.4</td>\n      <td>2.50</td>\n    </tr>\n    <tr>\n      <th>4</th>\n      <td>6</td>\n      <td>1623</td>\n      <td>GRADO EN INGENIERÍA CIVIL - CONSTRUCCIONES CIV...</td>\n      <td>2009-10</td>\n      <td>0</td>\n      <td>JUN</td>\n      <td>Selectividad</td>\n      <td>6.836</td>\n      <td>H</td>\n      <td>25</td>\n      <td>91.0020</td>\n      <td>N</td>\n      <td>1.000000</td>\n      <td>0.000000</td>\n      <td>1.339003</td>\n      <td>7.000</td>\n      <td>7.0</td>\n      <td>0.00</td>\n    </tr>\n  </tbody>\n</table>\n</div>"
     },
     "execution_count": 104,
     "metadata": {},
     "output_type": "execute_result"
    }
   ],
   "source": [
    "analys_personal_data.head()"
   ]
  },
  {
   "cell_type": "code",
   "execution_count": 105,
   "metadata": {
    "ExecuteTime": {
     "start_time": "2024-11-23T14:40:02.843244Z",
     "end_time": "2024-11-23T14:40:03.631986Z"
    }
   },
   "outputs": [],
   "source": [
    "interval_cols = []"
   ]
  },
  {
   "cell_type": "code",
   "execution_count": 106,
   "metadata": {
    "ExecuteTime": {
     "start_time": "2024-11-23T14:40:02.860525Z",
     "end_time": "2024-11-23T14:40:03.631986Z"
    }
   },
   "outputs": [],
   "source": [
    "analys_personal_data_model = analys_personal_data.copy()"
   ]
  },
  {
   "cell_type": "code",
   "execution_count": 107,
   "metadata": {
    "ExecuteTime": {
     "start_time": "2024-11-23T14:40:02.872644Z",
     "end_time": "2024-11-23T14:40:03.631986Z"
    }
   },
   "outputs": [
    {
     "data": {
      "text/plain": "   expediente  cod_plan                                           des_plan  \\\n0           2      1623  GRADO EN INGENIERÍA CIVIL - CONSTRUCCIONES CIV...   \n1           3      1623  GRADO EN INGENIERÍA CIVIL - CONSTRUCCIONES CIV...   \n2           4      1623  GRADO EN INGENIERÍA CIVIL - CONSTRUCCIONES CIV...   \n3           5      1623  GRADO EN INGENIERÍA CIVIL - CONSTRUCCIONES CIV...   \n4           6      1623  GRADO EN INGENIERÍA CIVIL - CONSTRUCCIONES CIV...   \n\n  anio_apertura_expediente  abandona convocatoria_acceso  \\\n0                  2009-10         0                 JUN   \n1                  2009-10         1                 JUN   \n2                  2009-10         0                 JUN   \n3                  2009-10         1                 JUN   \n4                  2009-10         0                 JUN   \n\n              des_acceso  nota_admision_def sexo  edad_acceso  distance  \\\n0           Selectividad              6.836    D           25  300.6305   \n1  Formación Profesional              6.836    H           31  667.4115   \n2  Formación Profesional              6.836    D           28   91.0020   \n3           Selectividad              6.730    D           25   91.0020   \n4           Selectividad              6.836    H           25   91.0020   \n\n  becario  cum_pass_ratio  cum_absent_ratio  std_deviation  cum_median  \\\n0       S        0.235294          0.176471       1.990064       4.175   \n1       S        0.312500          0.562500       1.566486       5.000   \n2       N        0.166667          0.444444       1.345324       3.825   \n3       N        0.263158          0.315789       1.850120       3.670   \n4       N        1.000000          0.000000       1.339003       7.000   \n\n   cum_pass_median  cum_fail_median  \n0              5.7             3.84  \n1              5.0             2.50  \n2              5.2             2.53  \n3              5.4             2.50  \n4              7.0             0.00  ",
      "text/html": "<div>\n<style scoped>\n    .dataframe tbody tr th:only-of-type {\n        vertical-align: middle;\n    }\n\n    .dataframe tbody tr th {\n        vertical-align: top;\n    }\n\n    .dataframe thead th {\n        text-align: right;\n    }\n</style>\n<table border=\"1\" class=\"dataframe\">\n  <thead>\n    <tr style=\"text-align: right;\">\n      <th></th>\n      <th>expediente</th>\n      <th>cod_plan</th>\n      <th>des_plan</th>\n      <th>anio_apertura_expediente</th>\n      <th>abandona</th>\n      <th>convocatoria_acceso</th>\n      <th>des_acceso</th>\n      <th>nota_admision_def</th>\n      <th>sexo</th>\n      <th>edad_acceso</th>\n      <th>distance</th>\n      <th>becario</th>\n      <th>cum_pass_ratio</th>\n      <th>cum_absent_ratio</th>\n      <th>std_deviation</th>\n      <th>cum_median</th>\n      <th>cum_pass_median</th>\n      <th>cum_fail_median</th>\n    </tr>\n  </thead>\n  <tbody>\n    <tr>\n      <th>0</th>\n      <td>2</td>\n      <td>1623</td>\n      <td>GRADO EN INGENIERÍA CIVIL - CONSTRUCCIONES CIV...</td>\n      <td>2009-10</td>\n      <td>0</td>\n      <td>JUN</td>\n      <td>Selectividad</td>\n      <td>6.836</td>\n      <td>D</td>\n      <td>25</td>\n      <td>300.6305</td>\n      <td>S</td>\n      <td>0.235294</td>\n      <td>0.176471</td>\n      <td>1.990064</td>\n      <td>4.175</td>\n      <td>5.7</td>\n      <td>3.84</td>\n    </tr>\n    <tr>\n      <th>1</th>\n      <td>3</td>\n      <td>1623</td>\n      <td>GRADO EN INGENIERÍA CIVIL - CONSTRUCCIONES CIV...</td>\n      <td>2009-10</td>\n      <td>1</td>\n      <td>JUN</td>\n      <td>Formación Profesional</td>\n      <td>6.836</td>\n      <td>H</td>\n      <td>31</td>\n      <td>667.4115</td>\n      <td>S</td>\n      <td>0.312500</td>\n      <td>0.562500</td>\n      <td>1.566486</td>\n      <td>5.000</td>\n      <td>5.0</td>\n      <td>2.50</td>\n    </tr>\n    <tr>\n      <th>2</th>\n      <td>4</td>\n      <td>1623</td>\n      <td>GRADO EN INGENIERÍA CIVIL - CONSTRUCCIONES CIV...</td>\n      <td>2009-10</td>\n      <td>0</td>\n      <td>JUN</td>\n      <td>Formación Profesional</td>\n      <td>6.836</td>\n      <td>D</td>\n      <td>28</td>\n      <td>91.0020</td>\n      <td>N</td>\n      <td>0.166667</td>\n      <td>0.444444</td>\n      <td>1.345324</td>\n      <td>3.825</td>\n      <td>5.2</td>\n      <td>2.53</td>\n    </tr>\n    <tr>\n      <th>3</th>\n      <td>5</td>\n      <td>1623</td>\n      <td>GRADO EN INGENIERÍA CIVIL - CONSTRUCCIONES CIV...</td>\n      <td>2009-10</td>\n      <td>1</td>\n      <td>JUN</td>\n      <td>Selectividad</td>\n      <td>6.730</td>\n      <td>D</td>\n      <td>25</td>\n      <td>91.0020</td>\n      <td>N</td>\n      <td>0.263158</td>\n      <td>0.315789</td>\n      <td>1.850120</td>\n      <td>3.670</td>\n      <td>5.4</td>\n      <td>2.50</td>\n    </tr>\n    <tr>\n      <th>4</th>\n      <td>6</td>\n      <td>1623</td>\n      <td>GRADO EN INGENIERÍA CIVIL - CONSTRUCCIONES CIV...</td>\n      <td>2009-10</td>\n      <td>0</td>\n      <td>JUN</td>\n      <td>Selectividad</td>\n      <td>6.836</td>\n      <td>H</td>\n      <td>25</td>\n      <td>91.0020</td>\n      <td>N</td>\n      <td>1.000000</td>\n      <td>0.000000</td>\n      <td>1.339003</td>\n      <td>7.000</td>\n      <td>7.0</td>\n      <td>0.00</td>\n    </tr>\n  </tbody>\n</table>\n</div>"
     },
     "execution_count": 107,
     "metadata": {},
     "output_type": "execute_result"
    }
   ],
   "source": [
    "analys_personal_data_model.head()"
   ]
  },
  {
   "cell_type": "code",
   "execution_count": 108,
   "metadata": {
    "scrolled": true,
    "ExecuteTime": {
     "start_time": "2024-11-23T14:40:02.903870Z",
     "end_time": "2024-11-23T14:40:03.631986Z"
    }
   },
   "outputs": [],
   "source": [
    "analys_personal_data_model.drop(['expediente','cod_plan','abandona','distance','becario','des_acceso'],axis=1,inplace=True)"
   ]
  },
  {
   "cell_type": "code",
   "execution_count": 109,
   "metadata": {
    "ExecuteTime": {
     "start_time": "2024-11-23T14:40:02.929207Z",
     "end_time": "2024-11-23T14:40:03.631986Z"
    }
   },
   "outputs": [
    {
     "data": {
      "text/plain": "                                            des_plan anio_apertura_expediente  \\\n0  GRADO EN INGENIERÍA CIVIL - CONSTRUCCIONES CIV...                  2009-10   \n1  GRADO EN INGENIERÍA CIVIL - CONSTRUCCIONES CIV...                  2009-10   \n2  GRADO EN INGENIERÍA CIVIL - CONSTRUCCIONES CIV...                  2009-10   \n3  GRADO EN INGENIERÍA CIVIL - CONSTRUCCIONES CIV...                  2009-10   \n4  GRADO EN INGENIERÍA CIVIL - CONSTRUCCIONES CIV...                  2009-10   \n\n  convocatoria_acceso  nota_admision_def sexo  edad_acceso  cum_pass_ratio  \\\n0                 JUN              6.836    D           25        0.235294   \n1                 JUN              6.836    H           31        0.312500   \n2                 JUN              6.836    D           28        0.166667   \n3                 JUN              6.730    D           25        0.263158   \n4                 JUN              6.836    H           25        1.000000   \n\n   cum_absent_ratio  std_deviation  cum_median  cum_pass_median  \\\n0          0.176471       1.990064       4.175              5.7   \n1          0.562500       1.566486       5.000              5.0   \n2          0.444444       1.345324       3.825              5.2   \n3          0.315789       1.850120       3.670              5.4   \n4          0.000000       1.339003       7.000              7.0   \n\n   cum_fail_median  \n0             3.84  \n1             2.50  \n2             2.53  \n3             2.50  \n4             0.00  ",
      "text/html": "<div>\n<style scoped>\n    .dataframe tbody tr th:only-of-type {\n        vertical-align: middle;\n    }\n\n    .dataframe tbody tr th {\n        vertical-align: top;\n    }\n\n    .dataframe thead th {\n        text-align: right;\n    }\n</style>\n<table border=\"1\" class=\"dataframe\">\n  <thead>\n    <tr style=\"text-align: right;\">\n      <th></th>\n      <th>des_plan</th>\n      <th>anio_apertura_expediente</th>\n      <th>convocatoria_acceso</th>\n      <th>nota_admision_def</th>\n      <th>sexo</th>\n      <th>edad_acceso</th>\n      <th>cum_pass_ratio</th>\n      <th>cum_absent_ratio</th>\n      <th>std_deviation</th>\n      <th>cum_median</th>\n      <th>cum_pass_median</th>\n      <th>cum_fail_median</th>\n    </tr>\n  </thead>\n  <tbody>\n    <tr>\n      <th>0</th>\n      <td>GRADO EN INGENIERÍA CIVIL - CONSTRUCCIONES CIV...</td>\n      <td>2009-10</td>\n      <td>JUN</td>\n      <td>6.836</td>\n      <td>D</td>\n      <td>25</td>\n      <td>0.235294</td>\n      <td>0.176471</td>\n      <td>1.990064</td>\n      <td>4.175</td>\n      <td>5.7</td>\n      <td>3.84</td>\n    </tr>\n    <tr>\n      <th>1</th>\n      <td>GRADO EN INGENIERÍA CIVIL - CONSTRUCCIONES CIV...</td>\n      <td>2009-10</td>\n      <td>JUN</td>\n      <td>6.836</td>\n      <td>H</td>\n      <td>31</td>\n      <td>0.312500</td>\n      <td>0.562500</td>\n      <td>1.566486</td>\n      <td>5.000</td>\n      <td>5.0</td>\n      <td>2.50</td>\n    </tr>\n    <tr>\n      <th>2</th>\n      <td>GRADO EN INGENIERÍA CIVIL - CONSTRUCCIONES CIV...</td>\n      <td>2009-10</td>\n      <td>JUN</td>\n      <td>6.836</td>\n      <td>D</td>\n      <td>28</td>\n      <td>0.166667</td>\n      <td>0.444444</td>\n      <td>1.345324</td>\n      <td>3.825</td>\n      <td>5.2</td>\n      <td>2.53</td>\n    </tr>\n    <tr>\n      <th>3</th>\n      <td>GRADO EN INGENIERÍA CIVIL - CONSTRUCCIONES CIV...</td>\n      <td>2009-10</td>\n      <td>JUN</td>\n      <td>6.730</td>\n      <td>D</td>\n      <td>25</td>\n      <td>0.263158</td>\n      <td>0.315789</td>\n      <td>1.850120</td>\n      <td>3.670</td>\n      <td>5.4</td>\n      <td>2.50</td>\n    </tr>\n    <tr>\n      <th>4</th>\n      <td>GRADO EN INGENIERÍA CIVIL - CONSTRUCCIONES CIV...</td>\n      <td>2009-10</td>\n      <td>JUN</td>\n      <td>6.836</td>\n      <td>H</td>\n      <td>25</td>\n      <td>1.000000</td>\n      <td>0.000000</td>\n      <td>1.339003</td>\n      <td>7.000</td>\n      <td>7.0</td>\n      <td>0.00</td>\n    </tr>\n  </tbody>\n</table>\n</div>"
     },
     "execution_count": 109,
     "metadata": {},
     "output_type": "execute_result"
    }
   ],
   "source": [
    "analys_personal_data_model.head()"
   ]
  },
  {
   "cell_type": "code",
   "execution_count": 110,
   "metadata": {
    "ExecuteTime": {
     "start_time": "2024-11-23T14:40:02.936481Z",
     "end_time": "2024-11-23T14:40:03.631986Z"
    }
   },
   "outputs": [
    {
     "data": {
      "text/plain": "12"
     },
     "execution_count": 110,
     "metadata": {},
     "output_type": "execute_result"
    }
   ],
   "source": [
    "len(analys_personal_data_model.columns)"
   ]
  },
  {
   "cell_type": "code",
   "execution_count": 111,
   "metadata": {
    "ExecuteTime": {
     "start_time": "2024-11-23T14:40:02.950678Z",
     "end_time": "2024-11-23T14:40:03.631986Z"
    }
   },
   "outputs": [
    {
     "data": {
      "text/plain": "Index(['des_plan', 'anio_apertura_expediente', 'convocatoria_acceso',\n       'nota_admision_def', 'sexo', 'edad_acceso', 'cum_pass_ratio',\n       'cum_absent_ratio', 'std_deviation', 'cum_median', 'cum_pass_median',\n       'cum_fail_median'],\n      dtype='object')"
     },
     "execution_count": 111,
     "metadata": {},
     "output_type": "execute_result"
    }
   ],
   "source": [
    "analys_personal_data_model.columns"
   ]
  },
  {
   "cell_type": "code",
   "execution_count": 112,
   "metadata": {
    "ExecuteTime": {
     "start_time": "2024-11-23T14:40:02.966410Z",
     "end_time": "2024-11-23T14:40:03.631986Z"
    }
   },
   "outputs": [],
   "source": [
    "\n",
    "note_bcket_array = np.array([5, 6.5, 8, 9.5, 10, 11.5, 13, 14])\n",
    "analys_personal_data_model['nota_admision_def'] = pd.cut(\n",
    "    analys_personal_data_model['nota_admision_def'], note_bcket_array, include_lowest=True)\n",
    "interval_cols.append('nota_admision_def')\n",
    "\n",
    "year_bcket_array = np.array([18, 20, 25, 30, 35, 40, 45, 50, 55, 60])\n",
    "analys_personal_data_model['edad_acceso'] = pd.cut(\n",
    "    analys_personal_data_model['edad_acceso'], year_bcket_array, include_lowest=True)\n",
    "interval_cols.append('edad_acceso')\n",
    "\n",
    "\n",
    "# distance_bcket_array = np.array([0, 0.1, 45, 90, 135, 250, 500, 1892])\n",
    "# analys_personal_data_model['distance'] = pd.cut(\n",
    "#     analys_personal_data_model['distance'], distance_bcket_array, include_lowest=True)\n",
    "# interval_cols.append('distance')\n",
    "\n",
    "note_bcket_array = np.array([0, 1.5, 3, 4.5, 6, 7.5, 9, 10])\n",
    "analys_personal_data_model['cum_median'] = pd.cut(\n",
    "    analys_personal_data_model['cum_median'], note_bcket_array, include_lowest=True)\n",
    "interval_cols.append('cum_median')\n",
    "\n",
    "analys_personal_data_model['cum_pass_median'] = pd.cut(\n",
    "    analys_personal_data_model['cum_pass_median'], note_bcket_array, include_lowest=True)\n",
    "interval_cols.append('cum_pass_median')\n",
    "\n",
    "analys_personal_data_model['cum_fail_median'] = pd.cut(\n",
    "    analys_personal_data_model['cum_fail_median'], note_bcket_array, include_lowest=True)\n",
    "interval_cols.append('cum_fail_median')\n",
    "\n",
    "ratio_bcket_array = np.array([0, 0.25, 0.5, 0.75, 1])\n",
    "analys_personal_data_model['cum_pass_ratio'] = pd.cut(\n",
    "    analys_personal_data_model['cum_pass_ratio'], ratio_bcket_array, include_lowest=True)\n",
    "interval_cols.append('cum_pass_ratio')\n",
    "\n",
    "analys_personal_data_model['cum_absent_ratio'] = pd.cut(\n",
    "    analys_personal_data_model['cum_absent_ratio'], ratio_bcket_array, include_lowest=True)\n",
    "interval_cols.append('cum_absent_ratio')\n",
    "\n",
    "std_bcket_array = np.array([0, 0.05,1.15,1.25,2.15,3.25])\n",
    "analys_personal_data_model['std_deviation'] = pd.cut(\n",
    "    analys_personal_data_model['std_deviation'], std_bcket_array, include_lowest=True)\n",
    "interval_cols.append('std_deviation')\n"
   ]
  },
  {
   "cell_type": "code",
   "execution_count": 113,
   "metadata": {
    "ExecuteTime": {
     "start_time": "2024-11-23T14:40:03.013261Z",
     "end_time": "2024-11-23T14:40:03.631986Z"
    }
   },
   "outputs": [
    {
     "data": {
      "text/plain": "(1.25, 2.15]      1109\n(2.15, 3.25]       242\n(0.05, 1.15]       237\n(-0.001, 0.05]     120\n(1.15, 1.25]        65\nName: std_deviation, dtype: int64"
     },
     "execution_count": 113,
     "metadata": {},
     "output_type": "execute_result"
    }
   ],
   "source": [
    "analys_personal_data_model['std_deviation'].value_counts()"
   ]
  },
  {
   "cell_type": "code",
   "execution_count": 114,
   "metadata": {
    "ExecuteTime": {
     "start_time": "2024-11-23T14:40:03.032495Z",
     "end_time": "2024-11-23T14:40:03.631986Z"
    }
   },
   "outputs": [],
   "source": [
    "def le_dataset(dset, le_cols, cat_cols):\n",
    "    from sklearn import preprocessing\n",
    "    for col in cat_cols:\n",
    "        le = preprocessing.LabelEncoder()\n",
    "        le.fit(dset[col].cat.categories)\n",
    "        le_cols.append(le)\n",
    "        dset[col] = le.transform(dset[col])"
   ]
  },
  {
   "cell_type": "code",
   "execution_count": 115,
   "metadata": {
    "ExecuteTime": {
     "start_time": "2024-11-23T14:40:03.048701Z",
     "end_time": "2024-11-23T14:40:03.631986Z"
    }
   },
   "outputs": [],
   "source": [
    "def inverse_le_dataset(dset, le_cols, cat_cols):\n",
    "    from sklearn import preprocessing\n",
    "    i = 0\n",
    "    for col in cat_cols:\n",
    "        le = le_cols[i]\n",
    "        from sklearn import preprocessing\n",
    "        dset[col] = le.inverse_transform(dset[col])\n",
    "        i +=1"
   ]
  },
  {
   "cell_type": "code",
   "execution_count": 116,
   "metadata": {
    "ExecuteTime": {
     "start_time": "2024-11-23T14:40:03.057865Z",
     "end_time": "2024-11-23T14:40:03.631986Z"
    }
   },
   "outputs": [],
   "source": [
    "def get_dunn_index(data, labels):\n",
    "    from sklearn.metrics.pairwise import euclidean_distances\n",
    "    distances = euclidean_distances(data)\n",
    "    return dunn_index.dunn(labels,distances)\n"
   ]
  },
  {
   "cell_type": "code",
   "execution_count": 117,
   "outputs": [],
   "source": [
    "for col in analys_personal_data_model.columns:\n",
    "    if 'object' in str(analys_personal_data_model.dtypes[col]):\n",
    "        analys_personal_data_model[col] = analys_personal_data_model[col].astype('category')"
   ],
   "metadata": {
    "collapsed": false,
    "ExecuteTime": {
     "start_time": "2024-11-23T14:40:03.074523Z",
     "end_time": "2024-11-23T14:40:03.631986Z"
    }
   }
  },
  {
   "cell_type": "code",
   "execution_count": 118,
   "outputs": [],
   "source": [
    "# le_cols = []\n",
    "# cat_cols_le = [ 'convocatoria_acceso']"
   ],
   "metadata": {
    "collapsed": false,
    "ExecuteTime": {
     "start_time": "2024-11-23T14:40:03.090725Z",
     "end_time": "2024-11-23T14:40:03.632991Z"
    }
   }
  },
  {
   "cell_type": "code",
   "execution_count": 119,
   "outputs": [],
   "source": [
    "le_cols = []\n",
    "cat_cols_le = [ 'convocatoria_acceso','nota_admision_def','edad_acceso','cum_median','cum_pass_median','cum_fail_median','cum_pass_ratio','cum_absent_ratio','std_deviation']"
   ],
   "metadata": {
    "collapsed": false,
    "ExecuteTime": {
     "start_time": "2024-11-23T14:40:03.105105Z",
     "end_time": "2024-11-23T14:40:03.632991Z"
    }
   }
  },
  {
   "cell_type": "code",
   "execution_count": 120,
   "outputs": [
    {
     "data": {
      "text/plain": "   convocatoria_acceso  nota_admision_def  edad_acceso  cum_pass_ratio  \\\n0                    4                  1            1               0   \n1                    4                  1            3               1   \n2                    4                  1            2               0   \n3                    4                  1            1               1   \n4                    4                  1            1               3   \n\n   cum_absent_ratio  std_deviation  cum_median  cum_pass_median  \\\n0                 0              3           2                3   \n1                 2              3           3                3   \n2                 1              3           2                3   \n3                 1              3           2                3   \n4                 0              3           4                4   \n\n   cum_fail_median  des_plan_GRADO EN EDIFICACIÓN  ...  \\\n0                2                              0  ...   \n1                1                              0  ...   \n2                1                              0  ...   \n3                1                              0  ...   \n4                0                              0  ...   \n\n   anio_apertura_expediente_2009-10  anio_apertura_expediente_2010-11  \\\n0                                 1                                 0   \n1                                 1                                 0   \n2                                 1                                 0   \n3                                 1                                 0   \n4                                 1                                 0   \n\n   anio_apertura_expediente_2011-12  anio_apertura_expediente_2012-13  \\\n0                                 0                                 0   \n1                                 0                                 0   \n2                                 0                                 0   \n3                                 0                                 0   \n4                                 0                                 0   \n\n   anio_apertura_expediente_2013-14  anio_apertura_expediente_2014-15  \\\n0                                 0                                 0   \n1                                 0                                 0   \n2                                 0                                 0   \n3                                 0                                 0   \n4                                 0                                 0   \n\n   anio_apertura_expediente_2015-16  anio_apertura_expediente_2016-17  sexo_D  \\\n0                                 0                                 0       1   \n1                                 0                                 0       0   \n2                                 0                                 0       1   \n3                                 0                                 0       1   \n4                                 0                                 0       0   \n\n   sexo_H  \n0       0  \n1       1  \n2       0  \n3       0  \n4       1  \n\n[5 rows x 27 columns]",
      "text/html": "<div>\n<style scoped>\n    .dataframe tbody tr th:only-of-type {\n        vertical-align: middle;\n    }\n\n    .dataframe tbody tr th {\n        vertical-align: top;\n    }\n\n    .dataframe thead th {\n        text-align: right;\n    }\n</style>\n<table border=\"1\" class=\"dataframe\">\n  <thead>\n    <tr style=\"text-align: right;\">\n      <th></th>\n      <th>convocatoria_acceso</th>\n      <th>nota_admision_def</th>\n      <th>edad_acceso</th>\n      <th>cum_pass_ratio</th>\n      <th>cum_absent_ratio</th>\n      <th>std_deviation</th>\n      <th>cum_median</th>\n      <th>cum_pass_median</th>\n      <th>cum_fail_median</th>\n      <th>des_plan_GRADO EN EDIFICACIÓN</th>\n      <th>...</th>\n      <th>anio_apertura_expediente_2009-10</th>\n      <th>anio_apertura_expediente_2010-11</th>\n      <th>anio_apertura_expediente_2011-12</th>\n      <th>anio_apertura_expediente_2012-13</th>\n      <th>anio_apertura_expediente_2013-14</th>\n      <th>anio_apertura_expediente_2014-15</th>\n      <th>anio_apertura_expediente_2015-16</th>\n      <th>anio_apertura_expediente_2016-17</th>\n      <th>sexo_D</th>\n      <th>sexo_H</th>\n    </tr>\n  </thead>\n  <tbody>\n    <tr>\n      <th>0</th>\n      <td>4</td>\n      <td>1</td>\n      <td>1</td>\n      <td>0</td>\n      <td>0</td>\n      <td>3</td>\n      <td>2</td>\n      <td>3</td>\n      <td>2</td>\n      <td>0</td>\n      <td>...</td>\n      <td>1</td>\n      <td>0</td>\n      <td>0</td>\n      <td>0</td>\n      <td>0</td>\n      <td>0</td>\n      <td>0</td>\n      <td>0</td>\n      <td>1</td>\n      <td>0</td>\n    </tr>\n    <tr>\n      <th>1</th>\n      <td>4</td>\n      <td>1</td>\n      <td>3</td>\n      <td>1</td>\n      <td>2</td>\n      <td>3</td>\n      <td>3</td>\n      <td>3</td>\n      <td>1</td>\n      <td>0</td>\n      <td>...</td>\n      <td>1</td>\n      <td>0</td>\n      <td>0</td>\n      <td>0</td>\n      <td>0</td>\n      <td>0</td>\n      <td>0</td>\n      <td>0</td>\n      <td>0</td>\n      <td>1</td>\n    </tr>\n    <tr>\n      <th>2</th>\n      <td>4</td>\n      <td>1</td>\n      <td>2</td>\n      <td>0</td>\n      <td>1</td>\n      <td>3</td>\n      <td>2</td>\n      <td>3</td>\n      <td>1</td>\n      <td>0</td>\n      <td>...</td>\n      <td>1</td>\n      <td>0</td>\n      <td>0</td>\n      <td>0</td>\n      <td>0</td>\n      <td>0</td>\n      <td>0</td>\n      <td>0</td>\n      <td>1</td>\n      <td>0</td>\n    </tr>\n    <tr>\n      <th>3</th>\n      <td>4</td>\n      <td>1</td>\n      <td>1</td>\n      <td>1</td>\n      <td>1</td>\n      <td>3</td>\n      <td>2</td>\n      <td>3</td>\n      <td>1</td>\n      <td>0</td>\n      <td>...</td>\n      <td>1</td>\n      <td>0</td>\n      <td>0</td>\n      <td>0</td>\n      <td>0</td>\n      <td>0</td>\n      <td>0</td>\n      <td>0</td>\n      <td>1</td>\n      <td>0</td>\n    </tr>\n    <tr>\n      <th>4</th>\n      <td>4</td>\n      <td>1</td>\n      <td>1</td>\n      <td>3</td>\n      <td>0</td>\n      <td>3</td>\n      <td>4</td>\n      <td>4</td>\n      <td>0</td>\n      <td>0</td>\n      <td>...</td>\n      <td>1</td>\n      <td>0</td>\n      <td>0</td>\n      <td>0</td>\n      <td>0</td>\n      <td>0</td>\n      <td>0</td>\n      <td>0</td>\n      <td>0</td>\n      <td>1</td>\n    </tr>\n  </tbody>\n</table>\n<p>5 rows × 27 columns</p>\n</div>"
     },
     "execution_count": 120,
     "metadata": {},
     "output_type": "execute_result"
    }
   ],
   "source": [
    "le_dataset(analys_personal_data_model,le_cols,cat_cols_le)\n",
    "analys_personal_data_labels = analys_personal_data_model.copy()\n",
    "analys_personal_data_labels = pd.get_dummies(analys_personal_data_labels)\n",
    "analys_personal_data_labels.head()"
   ],
   "metadata": {
    "collapsed": false,
    "ExecuteTime": {
     "start_time": "2024-11-23T14:40:03.131413Z",
     "end_time": "2024-11-23T14:40:03.633991Z"
    }
   }
  },
  {
   "cell_type": "code",
   "execution_count": 121,
   "metadata": {
    "ExecuteTime": {
     "start_time": "2024-11-23T14:40:03.166112Z",
     "end_time": "2024-11-23T14:40:03.633991Z"
    }
   },
   "outputs": [],
   "source": [
    "# for col in analys_personal_data_model.columns:\n",
    "#     if 'object' in str(analys_personal_data_model.dtypes[col]):\n",
    "#         analys_personal_data_model[col] = analys_personal_data_model[col].astype('category')\n",
    "#\n",
    "# le_cols = []\n",
    "# cat_cols = analys_personal_data_model.columns\n",
    "# analys_personal_data_labels = analys_personal_data_model.copy()\n",
    "# le_dataset(analys_personal_data_labels,le_cols,cat_cols)\n",
    "# analys_personal_data_labels.head()"
   ]
  },
  {
   "cell_type": "code",
   "execution_count": 122,
   "metadata": {
    "ExecuteTime": {
     "start_time": "2024-11-23T14:40:03.181258Z",
     "end_time": "2024-11-23T14:40:03.633991Z"
    }
   },
   "outputs": [],
   "source": [
    "from sklearn.preprocessing import MinMaxScaler\n",
    "\n",
    "norm = MinMaxScaler().fit(analys_personal_data_labels)\n",
    "analys_personal_data_labels[analys_personal_data_labels.columns] = norm.transform(analys_personal_data_labels)"
   ]
  },
  {
   "cell_type": "code",
   "execution_count": 123,
   "metadata": {
    "ExecuteTime": {
     "start_time": "2024-11-23T14:40:03.197468Z",
     "end_time": "2024-11-23T14:40:06.663971Z"
    }
   },
   "outputs": [
    {
     "name": "stderr",
     "output_type": "stream",
     "text": [
      "C:\\Users\\franj\\anaconda3\\lib\\site-packages\\sklearn\\cluster\\_kmeans.py:870: FutureWarning: The default value of `n_init` will change from 10 to 'auto' in 1.4. Set the value of `n_init` explicitly to suppress the warning\n",
      "  warnings.warn(\n",
      "C:\\Users\\franj\\anaconda3\\lib\\site-packages\\sklearn\\cluster\\_kmeans.py:1382: UserWarning: KMeans is known to have a memory leak on Windows with MKL, when there are less chunks than available threads. You can avoid it by setting the environment variable OMP_NUM_THREADS=7.\n",
      "  warnings.warn(\n",
      "C:\\Users\\franj\\anaconda3\\lib\\site-packages\\sklearn\\cluster\\_kmeans.py:870: FutureWarning: The default value of `n_init` will change from 10 to 'auto' in 1.4. Set the value of `n_init` explicitly to suppress the warning\n",
      "  warnings.warn(\n",
      "C:\\Users\\franj\\anaconda3\\lib\\site-packages\\sklearn\\cluster\\_kmeans.py:1382: UserWarning: KMeans is known to have a memory leak on Windows with MKL, when there are less chunks than available threads. You can avoid it by setting the environment variable OMP_NUM_THREADS=7.\n",
      "  warnings.warn(\n",
      "C:\\Users\\franj\\anaconda3\\lib\\site-packages\\sklearn\\cluster\\_kmeans.py:870: FutureWarning: The default value of `n_init` will change from 10 to 'auto' in 1.4. Set the value of `n_init` explicitly to suppress the warning\n",
      "  warnings.warn(\n",
      "C:\\Users\\franj\\anaconda3\\lib\\site-packages\\sklearn\\cluster\\_kmeans.py:1382: UserWarning: KMeans is known to have a memory leak on Windows with MKL, when there are less chunks than available threads. You can avoid it by setting the environment variable OMP_NUM_THREADS=7.\n",
      "  warnings.warn(\n",
      "C:\\Users\\franj\\anaconda3\\lib\\site-packages\\sklearn\\cluster\\_kmeans.py:870: FutureWarning: The default value of `n_init` will change from 10 to 'auto' in 1.4. Set the value of `n_init` explicitly to suppress the warning\n",
      "  warnings.warn(\n",
      "C:\\Users\\franj\\anaconda3\\lib\\site-packages\\sklearn\\cluster\\_kmeans.py:1382: UserWarning: KMeans is known to have a memory leak on Windows with MKL, when there are less chunks than available threads. You can avoid it by setting the environment variable OMP_NUM_THREADS=7.\n",
      "  warnings.warn(\n",
      "C:\\Users\\franj\\anaconda3\\lib\\site-packages\\sklearn\\cluster\\_kmeans.py:870: FutureWarning: The default value of `n_init` will change from 10 to 'auto' in 1.4. Set the value of `n_init` explicitly to suppress the warning\n",
      "  warnings.warn(\n",
      "C:\\Users\\franj\\anaconda3\\lib\\site-packages\\sklearn\\cluster\\_kmeans.py:1382: UserWarning: KMeans is known to have a memory leak on Windows with MKL, when there are less chunks than available threads. You can avoid it by setting the environment variable OMP_NUM_THREADS=7.\n",
      "  warnings.warn(\n",
      "C:\\Users\\franj\\anaconda3\\lib\\site-packages\\sklearn\\cluster\\_kmeans.py:870: FutureWarning: The default value of `n_init` will change from 10 to 'auto' in 1.4. Set the value of `n_init` explicitly to suppress the warning\n",
      "  warnings.warn(\n",
      "C:\\Users\\franj\\anaconda3\\lib\\site-packages\\sklearn\\cluster\\_kmeans.py:1382: UserWarning: KMeans is known to have a memory leak on Windows with MKL, when there are less chunks than available threads. You can avoid it by setting the environment variable OMP_NUM_THREADS=7.\n",
      "  warnings.warn(\n",
      "C:\\Users\\franj\\anaconda3\\lib\\site-packages\\sklearn\\cluster\\_kmeans.py:870: FutureWarning: The default value of `n_init` will change from 10 to 'auto' in 1.4. Set the value of `n_init` explicitly to suppress the warning\n",
      "  warnings.warn(\n",
      "C:\\Users\\franj\\anaconda3\\lib\\site-packages\\sklearn\\cluster\\_kmeans.py:1382: UserWarning: KMeans is known to have a memory leak on Windows with MKL, when there are less chunks than available threads. You can avoid it by setting the environment variable OMP_NUM_THREADS=7.\n",
      "  warnings.warn(\n",
      "C:\\Users\\franj\\anaconda3\\lib\\site-packages\\sklearn\\cluster\\_kmeans.py:870: FutureWarning: The default value of `n_init` will change from 10 to 'auto' in 1.4. Set the value of `n_init` explicitly to suppress the warning\n",
      "  warnings.warn(\n",
      "C:\\Users\\franj\\anaconda3\\lib\\site-packages\\sklearn\\cluster\\_kmeans.py:1382: UserWarning: KMeans is known to have a memory leak on Windows with MKL, when there are less chunks than available threads. You can avoid it by setting the environment variable OMP_NUM_THREADS=7.\n",
      "  warnings.warn(\n",
      "C:\\Users\\franj\\anaconda3\\lib\\site-packages\\sklearn\\cluster\\_kmeans.py:870: FutureWarning: The default value of `n_init` will change from 10 to 'auto' in 1.4. Set the value of `n_init` explicitly to suppress the warning\n",
      "  warnings.warn(\n",
      "C:\\Users\\franj\\anaconda3\\lib\\site-packages\\sklearn\\cluster\\_kmeans.py:1382: UserWarning: KMeans is known to have a memory leak on Windows with MKL, when there are less chunks than available threads. You can avoid it by setting the environment variable OMP_NUM_THREADS=7.\n",
      "  warnings.warn(\n"
     ]
    }
   ],
   "source": [
    "from sklearn import cluster\n",
    "K = range(1, 10)\n",
    "sse = []\n",
    "for k in K:\n",
    "    kmeans = cluster.KMeans(n_clusters=k)\n",
    "    kmeans.fit(analys_personal_data_labels)\n",
    "    sse.append(kmeans.inertia_)\n"
   ]
  },
  {
   "cell_type": "code",
   "execution_count": 124,
   "metadata": {
    "scrolled": false,
    "ExecuteTime": {
     "start_time": "2024-11-23T14:40:06.663971Z",
     "end_time": "2024-11-23T14:40:06.819092Z"
    }
   },
   "outputs": [
    {
     "data": {
      "text/plain": "<Figure size 640x480 with 1 Axes>",
      "image/png": "[encoded data removed]"
     },
     "metadata": {},
     "output_type": "display_data"
    }
   ],
   "source": [
    "import matplotlib.pyplot as plt\n",
    "plt.plot(K, sse, marker='o')\n",
    "plt.xlabel('Number of clusters')\n",
    "plt.ylabel('Distortion')\n",
    "plt.show()"
   ]
  },
  {
   "cell_type": "code",
   "execution_count": 125,
   "metadata": {
    "ExecuteTime": {
     "start_time": "2024-11-23T14:40:06.819092Z",
     "end_time": "2024-11-23T14:40:07.214718Z"
    }
   },
   "outputs": [
    {
     "name": "stderr",
     "output_type": "stream",
     "text": [
      "C:\\Users\\franj\\anaconda3\\lib\\site-packages\\sklearn\\cluster\\_kmeans.py:870: FutureWarning: The default value of `n_init` will change from 10 to 'auto' in 1.4. Set the value of `n_init` explicitly to suppress the warning\n",
      "  warnings.warn(\n",
      "C:\\Users\\franj\\anaconda3\\lib\\site-packages\\sklearn\\cluster\\_kmeans.py:1382: UserWarning: KMeans is known to have a memory leak on Windows with MKL, when there are less chunks than available threads. You can avoid it by setting the environment variable OMP_NUM_THREADS=7.\n",
      "  warnings.warn(\n"
     ]
    }
   ],
   "source": [
    "kmeans = cluster.KMeans(n_clusters=2,random_state=70)\n",
    "kmeans.fit(analys_personal_data_labels)\n",
    "analys_personal_data_clust = analys_personal_data_labels.copy()\n",
    "analys_personal_data_clust['labels'] = kmeans.predict(analys_personal_data_labels)\n",
    "analys_personal_data['labels'] = analys_personal_data_clust['labels'].astype('category')\n"
   ]
  },
  {
   "cell_type": "code",
   "execution_count": 126,
   "metadata": {
    "ExecuteTime": {
     "start_time": "2024-11-23T14:40:07.214718Z",
     "end_time": "2024-11-23T14:40:07.324528Z"
    }
   },
   "outputs": [
    {
     "data": {
      "text/plain": "0.2393277754214676"
     },
     "execution_count": 126,
     "metadata": {},
     "output_type": "execute_result"
    }
   ],
   "source": [
    "metrics.silhouette_score(analys_personal_data_clust, analys_personal_data_clust['labels'])\n"
   ]
  },
  {
   "cell_type": "code",
   "execution_count": 127,
   "metadata": {
    "ExecuteTime": {
     "start_time": "2024-11-23T14:40:07.277586Z",
     "end_time": "2024-11-23T14:40:07.340168Z"
    }
   },
   "outputs": [
    {
     "data": {
      "text/plain": "398.6822826723237"
     },
     "execution_count": 127,
     "metadata": {},
     "output_type": "execute_result"
    }
   ],
   "source": [
    "metrics.calinski_harabasz_score(analys_personal_data_clust, analys_personal_data_clust['labels'])\n"
   ]
  },
  {
   "cell_type": "code",
   "execution_count": 128,
   "metadata": {
    "scrolled": true,
    "ExecuteTime": {
     "start_time": "2024-11-23T14:40:07.293092Z",
     "end_time": "2024-11-23T14:40:07.340168Z"
    }
   },
   "outputs": [
    {
     "data": {
      "text/plain": "1.629601766898847"
     },
     "execution_count": 128,
     "metadata": {},
     "output_type": "execute_result"
    }
   ],
   "source": [
    "metrics.davies_bouldin_score(analys_personal_data_clust, analys_personal_data_clust['labels'])\n"
   ]
  },
  {
   "cell_type": "code",
   "execution_count": 129,
   "metadata": {
    "scrolled": false,
    "ExecuteTime": {
     "start_time": "2024-11-23T14:40:07.309518Z",
     "end_time": "2024-11-23T14:40:08.363173Z"
    }
   },
   "outputs": [
    {
     "data": {
      "text/plain": "0.5460490547000971"
     },
     "execution_count": 129,
     "metadata": {},
     "output_type": "execute_result"
    }
   ],
   "source": [
    "get_dunn_index(analys_personal_data_clust,analys_personal_data_clust['labels'])"
   ]
  },
  {
   "cell_type": "code",
   "execution_count": 130,
   "metadata": {
    "ExecuteTime": {
     "start_time": "2024-11-23T14:40:08.347572Z",
     "end_time": "2024-11-23T14:40:08.366182Z"
    }
   },
   "outputs": [],
   "source": [
    "import pandas as pd\n",
    "def get_impurity(dropout_cl0: pd.core.series.Series, dropout_cl1:pd.core.series.Series):\n",
    "    impurity = -1\n",
    "    n = len (dropout_cl0) + len (dropout_cl1)\n",
    "    if len(dropout_cl0[dropout_cl0 == 0]) > len(dropout_cl0[dropout_cl0 == 1]):\n",
    "        impurity = (len(dropout_cl0) - len(dropout_cl0[dropout_cl0 == 0]))/n\n",
    "    else:\n",
    "        impurity = (len(dropout_cl0) - len(dropout_cl0[dropout_cl0 == 1]))/n\n",
    "    if len(dropout_cl1[dropout_cl1 == 0]) > len(dropout_cl1[dropout_cl1 == 1]):\n",
    "        impurity = impurity + ((len(dropout_cl1) - len(dropout_cl1[dropout_cl1 == 0]))/n)\n",
    "    else:\n",
    "        impurity = impurity + ((len(dropout_cl1) - len(dropout_cl1[dropout_cl1 == 1]))/n)\n",
    "        \n",
    "    return impurity"
   ]
  },
  {
   "cell_type": "code",
   "execution_count": 131,
   "metadata": {
    "ExecuteTime": {
     "start_time": "2024-11-23T14:40:08.366182Z",
     "end_time": "2024-11-23T14:40:08.379273Z"
    }
   },
   "outputs": [],
   "source": [
    "analys_personal_data_clust['abandona'] = analys_personal_data['abandona']"
   ]
  },
  {
   "cell_type": "code",
   "execution_count": 132,
   "metadata": {
    "ExecuteTime": {
     "start_time": "2024-11-23T14:40:08.379273Z",
     "end_time": "2024-11-23T14:40:08.441895Z"
    }
   },
   "outputs": [
    {
     "data": {
      "text/plain": "0.4145516074450084"
     },
     "execution_count": 132,
     "metadata": {},
     "output_type": "execute_result"
    }
   ],
   "source": [
    "get_impurity(analys_personal_data_clust[analys_personal_data_clust['labels']==0]['abandona'], analys_personal_data_clust[analys_personal_data_clust['labels']==1]['abandona'])"
   ]
  },
  {
   "cell_type": "code",
   "execution_count": 133,
   "metadata": {
    "ExecuteTime": {
     "start_time": "2024-11-23T14:40:08.394910Z",
     "end_time": "2024-11-23T14:40:08.459324Z"
    }
   },
   "outputs": [
    {
     "data": {
      "text/plain": "0    0.661808\n1    0.338192\nName: abandona, dtype: float64"
     },
     "execution_count": 133,
     "metadata": {},
     "output_type": "execute_result"
    }
   ],
   "source": [
    "analys_personal_data_clust[analys_personal_data_clust['labels']==0]['abandona'].value_counts(normalize=True)"
   ]
  },
  {
   "cell_type": "code",
   "execution_count": 134,
   "metadata": {
    "ExecuteTime": {
     "start_time": "2024-11-23T14:40:08.410535Z",
     "end_time": "2024-11-23T14:40:08.459324Z"
    }
   },
   "outputs": [
    {
     "data": {
      "text/plain": "1    0.567133\n0    0.432867\nName: abandona, dtype: float64"
     },
     "execution_count": 134,
     "metadata": {},
     "output_type": "execute_result"
    }
   ],
   "source": [
    "analys_personal_data_clust[analys_personal_data_clust['labels']==1]['abandona'].value_counts(normalize=True)"
   ]
  },
  {
   "cell_type": "code",
   "execution_count": 135,
   "metadata": {
    "ExecuteTime": {
     "start_time": "2024-11-23T14:40:08.432862Z",
     "end_time": "2024-11-23T14:40:08.459324Z"
    }
   },
   "outputs": [],
   "source": [
    "# from apitep_utils.report import Report\n",
    "# for label in analys_personal_data['labels'].cat.categories:\n",
    "#     dset = analys_personal_data[analys_personal_data['labels'] == label]\n",
    "#     report = Report()\n",
    "#     report.generate_advanced(dset,'KMeans_1st_year_2_cl_'+str(label),sys.path[0]+ '/'+ '1st_year_cat_'+ str(label))"
   ]
  }
 ],
 "metadata": {
  "kernelspec": {
   "display_name": "Python 3",
   "language": "python",
   "name": "python3"
  },
  "language_info": {
   "codemirror_mode": {
    "name": "ipython",
    "version": 3
   },
   "file_extension": ".py",
   "mimetype": "text/x-python",
   "name": "python",
   "nbconvert_exporter": "python",
   "pygments_lexer": "ipython3",
   "version": "3.8.10"
  }
 },
 "nbformat": 4,
 "nbformat_minor": 4
}
