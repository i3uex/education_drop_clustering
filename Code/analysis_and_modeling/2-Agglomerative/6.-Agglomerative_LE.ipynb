{
 "cells": [
  {
   "cell_type": "code",
   "execution_count": 1,
   "metadata": {
    "ExecuteTime": {
     "start_time": "2025-02-22T10:06:50.581395Z",
     "end_time": "2025-02-22T10:06:53.129917Z"
    }
   },
   "outputs": [],
   "source": [
    "import pandas as pd\n",
    "import sys \n",
    "import os\n",
    "sys.path.append(os.path.abspath('/home/fran/Escritorio/i3uex/education_drop_clustering/Code/analysis_and_modeling'))\n",
    "import dunn_index\n",
    "from sklearn import metrics\n",
    "\n",
    "%matplotlib inline"
   ]
  },
  {
   "cell_type": "code",
   "execution_count": 2,
   "metadata": {
    "ExecuteTime": {
     "start_time": "2025-02-22T10:06:53.132671Z",
     "end_time": "2025-02-22T10:06:53.192048Z"
    }
   },
   "outputs": [],
   "source": [
    "analys_personal_data = pd.read_csv('../../../Data/For_analysis_and_modeling/2nd_quadrimester/analys_personal_data.csv',sep='|')"
   ]
  },
  {
   "cell_type": "code",
   "execution_count": 3,
   "metadata": {
    "ExecuteTime": {
     "start_time": "2025-02-22T10:06:53.196097Z",
     "end_time": "2025-02-22T10:06:53.231947Z"
    }
   },
   "outputs": [
    {
     "data": {
      "text/plain": "   expediente  cod_plan                                           des_plan  \\\n0           2      1623  GRADO EN INGENIERÍA CIVIL - CONSTRUCCIONES CIV...   \n1           3      1623  GRADO EN INGENIERÍA CIVIL - CONSTRUCCIONES CIV...   \n2           4      1623  GRADO EN INGENIERÍA CIVIL - CONSTRUCCIONES CIV...   \n3           5      1623  GRADO EN INGENIERÍA CIVIL - CONSTRUCCIONES CIV...   \n4           6      1623  GRADO EN INGENIERÍA CIVIL - CONSTRUCCIONES CIV...   \n\n  anio_apertura_expediente  abandona convocatoria_acceso  \\\n0                  2009-10         0                 JUN   \n1                  2009-10         1                 JUN   \n2                  2009-10         0                 JUN   \n3                  2009-10         1                 JUN   \n4                  2009-10         0                 JUN   \n\n              des_acceso  nota_admision_def sexo  edad_acceso  distance  \\\n0           Selectividad              6.836    D           25  300.6305   \n1  Formación Profesional              6.836    H           31  667.4115   \n2  Formación Profesional              6.836    D           28   91.0020   \n3           Selectividad              6.730    D           25   91.0020   \n4           Selectividad              6.836    H           25   91.0020   \n\n  becario  cum_pass_ratio  cum_absent_ratio  std_deviation  cum_median  \\\n0       S        0.235294          0.176471       1.990064       4.175   \n1       S        0.312500          0.562500       1.566486       5.000   \n2       N        0.166667          0.444444       1.345324       3.825   \n3       N        0.263158          0.315789       1.850120       3.670   \n4       N        1.000000          0.000000       1.339003       7.000   \n\n   cum_pass_median  cum_fail_median  \n0              5.7             3.84  \n1              5.0             2.50  \n2              5.2             2.53  \n3              5.4             2.50  \n4              7.0             0.00  ",
      "text/html": "<div>\n<style scoped>\n    .dataframe tbody tr th:only-of-type {\n        vertical-align: middle;\n    }\n\n    .dataframe tbody tr th {\n        vertical-align: top;\n    }\n\n    .dataframe thead th {\n        text-align: right;\n    }\n</style>\n<table border=\"1\" class=\"dataframe\">\n  <thead>\n    <tr style=\"text-align: right;\">\n      <th></th>\n      <th>expediente</th>\n      <th>cod_plan</th>\n      <th>des_plan</th>\n      <th>anio_apertura_expediente</th>\n      <th>abandona</th>\n      <th>convocatoria_acceso</th>\n      <th>des_acceso</th>\n      <th>nota_admision_def</th>\n      <th>sexo</th>\n      <th>edad_acceso</th>\n      <th>distance</th>\n      <th>becario</th>\n      <th>cum_pass_ratio</th>\n      <th>cum_absent_ratio</th>\n      <th>std_deviation</th>\n      <th>cum_median</th>\n      <th>cum_pass_median</th>\n      <th>cum_fail_median</th>\n    </tr>\n  </thead>\n  <tbody>\n    <tr>\n      <th>0</th>\n      <td>2</td>\n      <td>1623</td>\n      <td>GRADO EN INGENIERÍA CIVIL - CONSTRUCCIONES CIV...</td>\n      <td>2009-10</td>\n      <td>0</td>\n      <td>JUN</td>\n      <td>Selectividad</td>\n      <td>6.836</td>\n      <td>D</td>\n      <td>25</td>\n      <td>300.6305</td>\n      <td>S</td>\n      <td>0.235294</td>\n      <td>0.176471</td>\n      <td>1.990064</td>\n      <td>4.175</td>\n      <td>5.7</td>\n      <td>3.84</td>\n    </tr>\n    <tr>\n      <th>1</th>\n      <td>3</td>\n      <td>1623</td>\n      <td>GRADO EN INGENIERÍA CIVIL - CONSTRUCCIONES CIV...</td>\n      <td>2009-10</td>\n      <td>1</td>\n      <td>JUN</td>\n      <td>Formación Profesional</td>\n      <td>6.836</td>\n      <td>H</td>\n      <td>31</td>\n      <td>667.4115</td>\n      <td>S</td>\n      <td>0.312500</td>\n      <td>0.562500</td>\n      <td>1.566486</td>\n      <td>5.000</td>\n      <td>5.0</td>\n      <td>2.50</td>\n    </tr>\n    <tr>\n      <th>2</th>\n      <td>4</td>\n      <td>1623</td>\n      <td>GRADO EN INGENIERÍA CIVIL - CONSTRUCCIONES CIV...</td>\n      <td>2009-10</td>\n      <td>0</td>\n      <td>JUN</td>\n      <td>Formación Profesional</td>\n      <td>6.836</td>\n      <td>D</td>\n      <td>28</td>\n      <td>91.0020</td>\n      <td>N</td>\n      <td>0.166667</td>\n      <td>0.444444</td>\n      <td>1.345324</td>\n      <td>3.825</td>\n      <td>5.2</td>\n      <td>2.53</td>\n    </tr>\n    <tr>\n      <th>3</th>\n      <td>5</td>\n      <td>1623</td>\n      <td>GRADO EN INGENIERÍA CIVIL - CONSTRUCCIONES CIV...</td>\n      <td>2009-10</td>\n      <td>1</td>\n      <td>JUN</td>\n      <td>Selectividad</td>\n      <td>6.730</td>\n      <td>D</td>\n      <td>25</td>\n      <td>91.0020</td>\n      <td>N</td>\n      <td>0.263158</td>\n      <td>0.315789</td>\n      <td>1.850120</td>\n      <td>3.670</td>\n      <td>5.4</td>\n      <td>2.50</td>\n    </tr>\n    <tr>\n      <th>4</th>\n      <td>6</td>\n      <td>1623</td>\n      <td>GRADO EN INGENIERÍA CIVIL - CONSTRUCCIONES CIV...</td>\n      <td>2009-10</td>\n      <td>0</td>\n      <td>JUN</td>\n      <td>Selectividad</td>\n      <td>6.836</td>\n      <td>H</td>\n      <td>25</td>\n      <td>91.0020</td>\n      <td>N</td>\n      <td>1.000000</td>\n      <td>0.000000</td>\n      <td>1.339003</td>\n      <td>7.000</td>\n      <td>7.0</td>\n      <td>0.00</td>\n    </tr>\n  </tbody>\n</table>\n</div>"
     },
     "execution_count": 3,
     "metadata": {},
     "output_type": "execute_result"
    }
   ],
   "source": [
    "analys_personal_data.head()"
   ]
  },
  {
   "cell_type": "code",
   "execution_count": 4,
   "metadata": {
    "ExecuteTime": {
     "start_time": "2025-02-22T10:06:54.053377Z",
     "end_time": "2025-02-22T10:06:54.082028Z"
    }
   },
   "outputs": [],
   "source": [
    "def le_dataset(dset, le_cols, cat_cols):\n",
    "    from sklearn import preprocessing\n",
    "    for col in cat_cols:\n",
    "        le = preprocessing.LabelEncoder()\n",
    "        le.fit(dset[col].cat.categories)\n",
    "        le_cols.append(le)\n",
    "        dset[col] = le.transform(dset[col])"
   ]
  },
  {
   "cell_type": "code",
   "execution_count": 5,
   "metadata": {
    "ExecuteTime": {
     "start_time": "2025-02-22T10:06:54.565737Z",
     "end_time": "2025-02-22T10:06:54.590945Z"
    }
   },
   "outputs": [],
   "source": [
    "def inverse_le_dataset(dset, le_cols, cat_cols):\n",
    "    from sklearn import preprocessing\n",
    "    i = 0\n",
    "    for col in cat_cols:\n",
    "        le = le_cols[i]\n",
    "        from sklearn import preprocessing\n",
    "        dset[col] = le.inverse_transform(dset[col])\n",
    "        i +=1"
   ]
  },
  {
   "cell_type": "code",
   "execution_count": 6,
   "metadata": {
    "ExecuteTime": {
     "start_time": "2025-02-22T10:06:54.970994Z",
     "end_time": "2025-02-22T10:06:55.046216Z"
    }
   },
   "outputs": [],
   "source": [
    "def get_dunn_index(data, labels):\n",
    "    from sklearn.metrics.pairwise import euclidean_distances\n",
    "    distances = euclidean_distances(data)\n",
    "    return dunn_index.dunn(labels,distances)\n",
    "    "
   ]
  },
  {
   "cell_type": "code",
   "execution_count": 7,
   "metadata": {
    "ExecuteTime": {
     "start_time": "2025-02-22T10:06:55.572054Z",
     "end_time": "2025-02-22T10:06:55.638093Z"
    }
   },
   "outputs": [],
   "source": [
    "for col in analys_personal_data.columns:\n",
    "    if 'object' in str(analys_personal_data.dtypes[col]):\n",
    "        analys_personal_data[col] = analys_personal_data[col].astype('category')"
   ]
  },
  {
   "cell_type": "code",
   "execution_count": 8,
   "outputs": [],
   "source": [
    "le_cols = []\n",
    "cat_cols_le = [ 'convocatoria_acceso']\n",
    "cat_cols_oh = ['des_plan', 'anio_apertura_expediente',\n",
    "       'des_acceso', 'sexo', 'becario']"
   ],
   "metadata": {
    "collapsed": false,
    "ExecuteTime": {
     "start_time": "2025-02-22T10:06:58.072417Z",
     "end_time": "2025-02-22T10:06:58.102628Z"
    }
   }
  },
  {
   "cell_type": "code",
   "execution_count": 9,
   "outputs": [
    {
     "data": {
      "text/plain": "   expediente  cod_plan  abandona  convocatoria_acceso  nota_admision_def  \\\n0           2      1623         0                    4              6.836   \n1           3      1623         1                    4              6.836   \n2           4      1623         0                    4              6.836   \n3           5      1623         1                    4              6.730   \n4           6      1623         0                    4              6.836   \n\n   edad_acceso  distance  cum_pass_ratio  cum_absent_ratio  std_deviation  \\\n0           25  300.6305        0.235294          0.176471       1.990064   \n1           31  667.4115        0.312500          0.562500       1.566486   \n2           28   91.0020        0.166667          0.444444       1.345324   \n3           25   91.0020        0.263158          0.315789       1.850120   \n4           25   91.0020        1.000000          0.000000       1.339003   \n\n   ...  anio_apertura_expediente_2016-17  des_acceso_Formación Profesional  \\\n0  ...                                 0                                 0   \n1  ...                                 0                                 1   \n2  ...                                 0                                 1   \n3  ...                                 0                                 0   \n4  ...                                 0                                 0   \n\n   des_acceso_Mayores de 25/40/45 años  des_acceso_Selectividad  \\\n0                                    0                        1   \n1                                    0                        0   \n2                                    0                        0   \n3                                    0                        1   \n4                                    0                        1   \n\n   des_acceso_Traslado de Expediente (Estudios Españoles)  \\\n0                                                  0        \n1                                                  0        \n2                                                  0        \n3                                                  0        \n4                                                  0        \n\n   des_acceso_Título Universitario  sexo_D  sexo_H  becario_N  becario_S  \n0                                0       1       0          0          1  \n1                                0       0       1          0          1  \n2                                0       1       0          1          0  \n3                                0       1       0          1          0  \n4                                0       0       1          1          0  \n\n[5 rows x 38 columns]",
      "text/html": "<div>\n<style scoped>\n    .dataframe tbody tr th:only-of-type {\n        vertical-align: middle;\n    }\n\n    .dataframe tbody tr th {\n        vertical-align: top;\n    }\n\n    .dataframe thead th {\n        text-align: right;\n    }\n</style>\n<table border=\"1\" class=\"dataframe\">\n  <thead>\n    <tr style=\"text-align: right;\">\n      <th></th>\n      <th>expediente</th>\n      <th>cod_plan</th>\n      <th>abandona</th>\n      <th>convocatoria_acceso</th>\n      <th>nota_admision_def</th>\n      <th>edad_acceso</th>\n      <th>distance</th>\n      <th>cum_pass_ratio</th>\n      <th>cum_absent_ratio</th>\n      <th>std_deviation</th>\n      <th>...</th>\n      <th>anio_apertura_expediente_2016-17</th>\n      <th>des_acceso_Formación Profesional</th>\n      <th>des_acceso_Mayores de 25/40/45 años</th>\n      <th>des_acceso_Selectividad</th>\n      <th>des_acceso_Traslado de Expediente (Estudios Españoles)</th>\n      <th>des_acceso_Título Universitario</th>\n      <th>sexo_D</th>\n      <th>sexo_H</th>\n      <th>becario_N</th>\n      <th>becario_S</th>\n    </tr>\n  </thead>\n  <tbody>\n    <tr>\n      <th>0</th>\n      <td>2</td>\n      <td>1623</td>\n      <td>0</td>\n      <td>4</td>\n      <td>6.836</td>\n      <td>25</td>\n      <td>300.6305</td>\n      <td>0.235294</td>\n      <td>0.176471</td>\n      <td>1.990064</td>\n      <td>...</td>\n      <td>0</td>\n      <td>0</td>\n      <td>0</td>\n      <td>1</td>\n      <td>0</td>\n      <td>0</td>\n      <td>1</td>\n      <td>0</td>\n      <td>0</td>\n      <td>1</td>\n    </tr>\n    <tr>\n      <th>1</th>\n      <td>3</td>\n      <td>1623</td>\n      <td>1</td>\n      <td>4</td>\n      <td>6.836</td>\n      <td>31</td>\n      <td>667.4115</td>\n      <td>0.312500</td>\n      <td>0.562500</td>\n      <td>1.566486</td>\n      <td>...</td>\n      <td>0</td>\n      <td>1</td>\n      <td>0</td>\n      <td>0</td>\n      <td>0</td>\n      <td>0</td>\n      <td>0</td>\n      <td>1</td>\n      <td>0</td>\n      <td>1</td>\n    </tr>\n    <tr>\n      <th>2</th>\n      <td>4</td>\n      <td>1623</td>\n      <td>0</td>\n      <td>4</td>\n      <td>6.836</td>\n      <td>28</td>\n      <td>91.0020</td>\n      <td>0.166667</td>\n      <td>0.444444</td>\n      <td>1.345324</td>\n      <td>...</td>\n      <td>0</td>\n      <td>1</td>\n      <td>0</td>\n      <td>0</td>\n      <td>0</td>\n      <td>0</td>\n      <td>1</td>\n      <td>0</td>\n      <td>1</td>\n      <td>0</td>\n    </tr>\n    <tr>\n      <th>3</th>\n      <td>5</td>\n      <td>1623</td>\n      <td>1</td>\n      <td>4</td>\n      <td>6.730</td>\n      <td>25</td>\n      <td>91.0020</td>\n      <td>0.263158</td>\n      <td>0.315789</td>\n      <td>1.850120</td>\n      <td>...</td>\n      <td>0</td>\n      <td>0</td>\n      <td>0</td>\n      <td>1</td>\n      <td>0</td>\n      <td>0</td>\n      <td>1</td>\n      <td>0</td>\n      <td>1</td>\n      <td>0</td>\n    </tr>\n    <tr>\n      <th>4</th>\n      <td>6</td>\n      <td>1623</td>\n      <td>0</td>\n      <td>4</td>\n      <td>6.836</td>\n      <td>25</td>\n      <td>91.0020</td>\n      <td>1.000000</td>\n      <td>0.000000</td>\n      <td>1.339003</td>\n      <td>...</td>\n      <td>0</td>\n      <td>0</td>\n      <td>0</td>\n      <td>1</td>\n      <td>0</td>\n      <td>0</td>\n      <td>0</td>\n      <td>1</td>\n      <td>1</td>\n      <td>0</td>\n    </tr>\n  </tbody>\n</table>\n<p>5 rows × 38 columns</p>\n</div>"
     },
     "execution_count": 9,
     "metadata": {},
     "output_type": "execute_result"
    }
   ],
   "source": [
    "analys_personal_data_model = analys_personal_data.copy()\n",
    "le_dataset(analys_personal_data_model,le_cols,cat_cols_le)\n",
    "analys_personal_data_model = pd.get_dummies(analys_personal_data_model)\n",
    "analys_personal_data_model.head()"
   ],
   "metadata": {
    "collapsed": false,
    "ExecuteTime": {
     "start_time": "2025-02-22T10:06:59.422404Z",
     "end_time": "2025-02-22T10:06:59.462729Z"
    }
   }
  },
  {
   "cell_type": "code",
   "execution_count": 10,
   "metadata": {
    "ExecuteTime": {
     "start_time": "2025-02-22T10:07:03.075078Z",
     "end_time": "2025-02-22T10:07:03.106590Z"
    }
   },
   "outputs": [],
   "source": [
    "analys_personal_data_model.drop(['expediente','cod_plan','abandona'],axis=1,inplace=True)"
   ]
  },
  {
   "cell_type": "code",
   "execution_count": 11,
   "metadata": {
    "scrolled": false,
    "ExecuteTime": {
     "start_time": "2025-02-22T10:07:04.257785Z",
     "end_time": "2025-02-22T10:07:04.288457Z"
    }
   },
   "outputs": [
    {
     "data": {
      "text/plain": "   convocatoria_acceso  nota_admision_def  edad_acceso  distance  \\\n0                    4              6.836           25  300.6305   \n1                    4              6.836           31  667.4115   \n2                    4              6.836           28   91.0020   \n3                    4              6.730           25   91.0020   \n4                    4              6.836           25   91.0020   \n\n   cum_pass_ratio  cum_absent_ratio  std_deviation  cum_median  \\\n0        0.235294          0.176471       1.990064       4.175   \n1        0.312500          0.562500       1.566486       5.000   \n2        0.166667          0.444444       1.345324       3.825   \n3        0.263158          0.315789       1.850120       3.670   \n4        1.000000          0.000000       1.339003       7.000   \n\n   cum_pass_median  cum_fail_median  ...  anio_apertura_expediente_2016-17  \\\n0              5.7             3.84  ...                                 0   \n1              5.0             2.50  ...                                 0   \n2              5.2             2.53  ...                                 0   \n3              5.4             2.50  ...                                 0   \n4              7.0             0.00  ...                                 0   \n\n   des_acceso_Formación Profesional  des_acceso_Mayores de 25/40/45 años  \\\n0                                 0                                    0   \n1                                 1                                    0   \n2                                 1                                    0   \n3                                 0                                    0   \n4                                 0                                    0   \n\n   des_acceso_Selectividad  \\\n0                        1   \n1                        0   \n2                        0   \n3                        1   \n4                        1   \n\n   des_acceso_Traslado de Expediente (Estudios Españoles)  \\\n0                                                  0        \n1                                                  0        \n2                                                  0        \n3                                                  0        \n4                                                  0        \n\n   des_acceso_Título Universitario  sexo_D  sexo_H  becario_N  becario_S  \n0                                0       1       0          0          1  \n1                                0       0       1          0          1  \n2                                0       1       0          1          0  \n3                                0       1       0          1          0  \n4                                0       0       1          1          0  \n\n[5 rows x 35 columns]",
      "text/html": "<div>\n<style scoped>\n    .dataframe tbody tr th:only-of-type {\n        vertical-align: middle;\n    }\n\n    .dataframe tbody tr th {\n        vertical-align: top;\n    }\n\n    .dataframe thead th {\n        text-align: right;\n    }\n</style>\n<table border=\"1\" class=\"dataframe\">\n  <thead>\n    <tr style=\"text-align: right;\">\n      <th></th>\n      <th>convocatoria_acceso</th>\n      <th>nota_admision_def</th>\n      <th>edad_acceso</th>\n      <th>distance</th>\n      <th>cum_pass_ratio</th>\n      <th>cum_absent_ratio</th>\n      <th>std_deviation</th>\n      <th>cum_median</th>\n      <th>cum_pass_median</th>\n      <th>cum_fail_median</th>\n      <th>...</th>\n      <th>anio_apertura_expediente_2016-17</th>\n      <th>des_acceso_Formación Profesional</th>\n      <th>des_acceso_Mayores de 25/40/45 años</th>\n      <th>des_acceso_Selectividad</th>\n      <th>des_acceso_Traslado de Expediente (Estudios Españoles)</th>\n      <th>des_acceso_Título Universitario</th>\n      <th>sexo_D</th>\n      <th>sexo_H</th>\n      <th>becario_N</th>\n      <th>becario_S</th>\n    </tr>\n  </thead>\n  <tbody>\n    <tr>\n      <th>0</th>\n      <td>4</td>\n      <td>6.836</td>\n      <td>25</td>\n      <td>300.6305</td>\n      <td>0.235294</td>\n      <td>0.176471</td>\n      <td>1.990064</td>\n      <td>4.175</td>\n      <td>5.7</td>\n      <td>3.84</td>\n      <td>...</td>\n      <td>0</td>\n      <td>0</td>\n      <td>0</td>\n      <td>1</td>\n      <td>0</td>\n      <td>0</td>\n      <td>1</td>\n      <td>0</td>\n      <td>0</td>\n      <td>1</td>\n    </tr>\n    <tr>\n      <th>1</th>\n      <td>4</td>\n      <td>6.836</td>\n      <td>31</td>\n      <td>667.4115</td>\n      <td>0.312500</td>\n      <td>0.562500</td>\n      <td>1.566486</td>\n      <td>5.000</td>\n      <td>5.0</td>\n      <td>2.50</td>\n      <td>...</td>\n      <td>0</td>\n      <td>1</td>\n      <td>0</td>\n      <td>0</td>\n      <td>0</td>\n      <td>0</td>\n      <td>0</td>\n      <td>1</td>\n      <td>0</td>\n      <td>1</td>\n    </tr>\n    <tr>\n      <th>2</th>\n      <td>4</td>\n      <td>6.836</td>\n      <td>28</td>\n      <td>91.0020</td>\n      <td>0.166667</td>\n      <td>0.444444</td>\n      <td>1.345324</td>\n      <td>3.825</td>\n      <td>5.2</td>\n      <td>2.53</td>\n      <td>...</td>\n      <td>0</td>\n      <td>1</td>\n      <td>0</td>\n      <td>0</td>\n      <td>0</td>\n      <td>0</td>\n      <td>1</td>\n      <td>0</td>\n      <td>1</td>\n      <td>0</td>\n    </tr>\n    <tr>\n      <th>3</th>\n      <td>4</td>\n      <td>6.730</td>\n      <td>25</td>\n      <td>91.0020</td>\n      <td>0.263158</td>\n      <td>0.315789</td>\n      <td>1.850120</td>\n      <td>3.670</td>\n      <td>5.4</td>\n      <td>2.50</td>\n      <td>...</td>\n      <td>0</td>\n      <td>0</td>\n      <td>0</td>\n      <td>1</td>\n      <td>0</td>\n      <td>0</td>\n      <td>1</td>\n      <td>0</td>\n      <td>1</td>\n      <td>0</td>\n    </tr>\n    <tr>\n      <th>4</th>\n      <td>4</td>\n      <td>6.836</td>\n      <td>25</td>\n      <td>91.0020</td>\n      <td>1.000000</td>\n      <td>0.000000</td>\n      <td>1.339003</td>\n      <td>7.000</td>\n      <td>7.0</td>\n      <td>0.00</td>\n      <td>...</td>\n      <td>0</td>\n      <td>0</td>\n      <td>0</td>\n      <td>1</td>\n      <td>0</td>\n      <td>0</td>\n      <td>0</td>\n      <td>1</td>\n      <td>1</td>\n      <td>0</td>\n    </tr>\n  </tbody>\n</table>\n<p>5 rows × 35 columns</p>\n</div>"
     },
     "execution_count": 11,
     "metadata": {},
     "output_type": "execute_result"
    }
   ],
   "source": [
    "analys_personal_data_model.head()"
   ]
  },
  {
   "cell_type": "code",
   "execution_count": 12,
   "metadata": {
    "ExecuteTime": {
     "start_time": "2025-02-22T10:07:11.779926Z",
     "end_time": "2025-02-22T10:07:11.849422Z"
    }
   },
   "outputs": [],
   "source": [
    "from sklearn.preprocessing import MinMaxScaler\n",
    "\n",
    "norm = MinMaxScaler().fit(analys_personal_data_model)\n",
    "analys_personal_data_model[analys_personal_data_model.columns] = norm.transform(analys_personal_data_model)"
   ]
  },
  {
   "cell_type": "code",
   "execution_count": 13,
   "metadata": {
    "ExecuteTime": {
     "start_time": "2025-02-22T10:07:12.453660Z",
     "end_time": "2025-02-22T10:07:12.524777Z"
    }
   },
   "outputs": [
    {
     "data": {
      "text/plain": "      convocatoria_acceso  nota_admision_def  edad_acceso  distance  \\\n0                     0.8           0.217464     0.170732  0.154108   \n1                     0.8           0.217464     0.317073  0.349070   \n2                     0.8           0.217464     0.243902  0.042680   \n3                     0.8           0.204785     0.170732  0.042680   \n4                     0.8           0.217464     0.170732  0.042680   \n...                   ...                ...          ...       ...   \n1768                  0.8           0.222967     0.024390  0.072421   \n1769                  0.8           0.222847     0.000000  0.070790   \n1770                  0.8           0.207656     0.000000  0.020802   \n1771                  0.8           0.269856     0.000000  0.036093   \n1772                  0.8           0.144378     0.000000  0.089987   \n\n      cum_pass_ratio  cum_absent_ratio  std_deviation  cum_median  \\\n0           0.235294          0.176471       0.615087      0.4175   \n1           0.312500          0.562500       0.484168      0.5000   \n2           0.166667          0.444444       0.415811      0.3825   \n3           0.263158          0.315789       0.571833      0.3670   \n4           1.000000          0.000000       0.413858      0.7000   \n...              ...               ...            ...         ...   \n1768        0.066667          0.533333       0.370527      0.2200   \n1769        0.294118          0.352941       0.638489      0.4300   \n1770        0.105263          0.000000       0.455520      0.2000   \n1771        0.000000          0.550000       0.215125      0.2500   \n1772        0.105263          0.684211       0.596308      0.3500   \n\n      cum_pass_median  cum_fail_median  ...  anio_apertura_expediente_2016-17  \\\n0               0.570         0.783673  ...                               0.0   \n1               0.500         0.510204  ...                               0.0   \n2               0.520         0.516327  ...                               0.0   \n3               0.540         0.510204  ...                               0.0   \n4               0.700         0.000000  ...                               0.0   \n...               ...              ...  ...                               ...   \n1768            0.550         0.428571  ...                               1.0   \n1769            0.550         0.612245  ...                               1.0   \n1770            0.505         0.367347  ...                               1.0   \n1771            0.000         0.510204  ...                               1.0   \n1772            0.525         0.459184  ...                               1.0   \n\n      des_acceso_Formación Profesional  des_acceso_Mayores de 25/40/45 años  \\\n0                                  0.0                                  0.0   \n1                                  1.0                                  0.0   \n2                                  1.0                                  0.0   \n3                                  0.0                                  0.0   \n4                                  0.0                                  0.0   \n...                                ...                                  ...   \n1768                               0.0                                  0.0   \n1769                               0.0                                  0.0   \n1770                               0.0                                  0.0   \n1771                               0.0                                  0.0   \n1772                               0.0                                  0.0   \n\n      des_acceso_Selectividad  \\\n0                         1.0   \n1                         0.0   \n2                         0.0   \n3                         1.0   \n4                         1.0   \n...                       ...   \n1768                      1.0   \n1769                      1.0   \n1770                      1.0   \n1771                      1.0   \n1772                      1.0   \n\n      des_acceso_Traslado de Expediente (Estudios Españoles)  \\\n0                                                   0.0        \n1                                                   0.0        \n2                                                   0.0        \n3                                                   0.0        \n4                                                   0.0        \n...                                                 ...        \n1768                                                0.0        \n1769                                                0.0        \n1770                                                0.0        \n1771                                                0.0        \n1772                                                0.0        \n\n      des_acceso_Título Universitario  sexo_D  sexo_H  becario_N  becario_S  \n0                                 0.0     1.0     0.0        0.0        1.0  \n1                                 0.0     0.0     1.0        0.0        1.0  \n2                                 0.0     1.0     0.0        1.0        0.0  \n3                                 0.0     1.0     0.0        1.0        0.0  \n4                                 0.0     0.0     1.0        1.0        0.0  \n...                               ...     ...     ...        ...        ...  \n1768                              0.0     0.0     1.0        1.0        0.0  \n1769                              0.0     0.0     1.0        0.0        1.0  \n1770                              0.0     0.0     1.0        0.0        1.0  \n1771                              0.0     0.0     1.0        1.0        0.0  \n1772                              0.0     0.0     1.0        0.0        1.0  \n\n[1773 rows x 35 columns]",
      "text/html": "<div>\n<style scoped>\n    .dataframe tbody tr th:only-of-type {\n        vertical-align: middle;\n    }\n\n    .dataframe tbody tr th {\n        vertical-align: top;\n    }\n\n    .dataframe thead th {\n        text-align: right;\n    }\n</style>\n<table border=\"1\" class=\"dataframe\">\n  <thead>\n    <tr style=\"text-align: right;\">\n      <th></th>\n      <th>convocatoria_acceso</th>\n      <th>nota_admision_def</th>\n      <th>edad_acceso</th>\n      <th>distance</th>\n      <th>cum_pass_ratio</th>\n      <th>cum_absent_ratio</th>\n      <th>std_deviation</th>\n      <th>cum_median</th>\n      <th>cum_pass_median</th>\n      <th>cum_fail_median</th>\n      <th>...</th>\n      <th>anio_apertura_expediente_2016-17</th>\n      <th>des_acceso_Formación Profesional</th>\n      <th>des_acceso_Mayores de 25/40/45 años</th>\n      <th>des_acceso_Selectividad</th>\n      <th>des_acceso_Traslado de Expediente (Estudios Españoles)</th>\n      <th>des_acceso_Título Universitario</th>\n      <th>sexo_D</th>\n      <th>sexo_H</th>\n      <th>becario_N</th>\n      <th>becario_S</th>\n    </tr>\n  </thead>\n  <tbody>\n    <tr>\n      <th>0</th>\n      <td>0.8</td>\n      <td>0.217464</td>\n      <td>0.170732</td>\n      <td>0.154108</td>\n      <td>0.235294</td>\n      <td>0.176471</td>\n      <td>0.615087</td>\n      <td>0.4175</td>\n      <td>0.570</td>\n      <td>0.783673</td>\n      <td>...</td>\n      <td>0.0</td>\n      <td>0.0</td>\n      <td>0.0</td>\n      <td>1.0</td>\n      <td>0.0</td>\n      <td>0.0</td>\n      <td>1.0</td>\n      <td>0.0</td>\n      <td>0.0</td>\n      <td>1.0</td>\n    </tr>\n    <tr>\n      <th>1</th>\n      <td>0.8</td>\n      <td>0.217464</td>\n      <td>0.317073</td>\n      <td>0.349070</td>\n      <td>0.312500</td>\n      <td>0.562500</td>\n      <td>0.484168</td>\n      <td>0.5000</td>\n      <td>0.500</td>\n      <td>0.510204</td>\n      <td>...</td>\n      <td>0.0</td>\n      <td>1.0</td>\n      <td>0.0</td>\n      <td>0.0</td>\n      <td>0.0</td>\n      <td>0.0</td>\n      <td>0.0</td>\n      <td>1.0</td>\n      <td>0.0</td>\n      <td>1.0</td>\n    </tr>\n    <tr>\n      <th>2</th>\n      <td>0.8</td>\n      <td>0.217464</td>\n      <td>0.243902</td>\n      <td>0.042680</td>\n      <td>0.166667</td>\n      <td>0.444444</td>\n      <td>0.415811</td>\n      <td>0.3825</td>\n      <td>0.520</td>\n      <td>0.516327</td>\n      <td>...</td>\n      <td>0.0</td>\n      <td>1.0</td>\n      <td>0.0</td>\n      <td>0.0</td>\n      <td>0.0</td>\n      <td>0.0</td>\n      <td>1.0</td>\n      <td>0.0</td>\n      <td>1.0</td>\n      <td>0.0</td>\n    </tr>\n    <tr>\n      <th>3</th>\n      <td>0.8</td>\n      <td>0.204785</td>\n      <td>0.170732</td>\n      <td>0.042680</td>\n      <td>0.263158</td>\n      <td>0.315789</td>\n      <td>0.571833</td>\n      <td>0.3670</td>\n      <td>0.540</td>\n      <td>0.510204</td>\n      <td>...</td>\n      <td>0.0</td>\n      <td>0.0</td>\n      <td>0.0</td>\n      <td>1.0</td>\n      <td>0.0</td>\n      <td>0.0</td>\n      <td>1.0</td>\n      <td>0.0</td>\n      <td>1.0</td>\n      <td>0.0</td>\n    </tr>\n    <tr>\n      <th>4</th>\n      <td>0.8</td>\n      <td>0.217464</td>\n      <td>0.170732</td>\n      <td>0.042680</td>\n      <td>1.000000</td>\n      <td>0.000000</td>\n      <td>0.413858</td>\n      <td>0.7000</td>\n      <td>0.700</td>\n      <td>0.000000</td>\n      <td>...</td>\n      <td>0.0</td>\n      <td>0.0</td>\n      <td>0.0</td>\n      <td>1.0</td>\n      <td>0.0</td>\n      <td>0.0</td>\n      <td>0.0</td>\n      <td>1.0</td>\n      <td>1.0</td>\n      <td>0.0</td>\n    </tr>\n    <tr>\n      <th>...</th>\n      <td>...</td>\n      <td>...</td>\n      <td>...</td>\n      <td>...</td>\n      <td>...</td>\n      <td>...</td>\n      <td>...</td>\n      <td>...</td>\n      <td>...</td>\n      <td>...</td>\n      <td>...</td>\n      <td>...</td>\n      <td>...</td>\n      <td>...</td>\n      <td>...</td>\n      <td>...</td>\n      <td>...</td>\n      <td>...</td>\n      <td>...</td>\n      <td>...</td>\n      <td>...</td>\n    </tr>\n    <tr>\n      <th>1768</th>\n      <td>0.8</td>\n      <td>0.222967</td>\n      <td>0.024390</td>\n      <td>0.072421</td>\n      <td>0.066667</td>\n      <td>0.533333</td>\n      <td>0.370527</td>\n      <td>0.2200</td>\n      <td>0.550</td>\n      <td>0.428571</td>\n      <td>...</td>\n      <td>1.0</td>\n      <td>0.0</td>\n      <td>0.0</td>\n      <td>1.0</td>\n      <td>0.0</td>\n      <td>0.0</td>\n      <td>0.0</td>\n      <td>1.0</td>\n      <td>1.0</td>\n      <td>0.0</td>\n    </tr>\n    <tr>\n      <th>1769</th>\n      <td>0.8</td>\n      <td>0.222847</td>\n      <td>0.000000</td>\n      <td>0.070790</td>\n      <td>0.294118</td>\n      <td>0.352941</td>\n      <td>0.638489</td>\n      <td>0.4300</td>\n      <td>0.550</td>\n      <td>0.612245</td>\n      <td>...</td>\n      <td>1.0</td>\n      <td>0.0</td>\n      <td>0.0</td>\n      <td>1.0</td>\n      <td>0.0</td>\n      <td>0.0</td>\n      <td>0.0</td>\n      <td>1.0</td>\n      <td>0.0</td>\n      <td>1.0</td>\n    </tr>\n    <tr>\n      <th>1770</th>\n      <td>0.8</td>\n      <td>0.207656</td>\n      <td>0.000000</td>\n      <td>0.020802</td>\n      <td>0.105263</td>\n      <td>0.000000</td>\n      <td>0.455520</td>\n      <td>0.2000</td>\n      <td>0.505</td>\n      <td>0.367347</td>\n      <td>...</td>\n      <td>1.0</td>\n      <td>0.0</td>\n      <td>0.0</td>\n      <td>1.0</td>\n      <td>0.0</td>\n      <td>0.0</td>\n      <td>0.0</td>\n      <td>1.0</td>\n      <td>0.0</td>\n      <td>1.0</td>\n    </tr>\n    <tr>\n      <th>1771</th>\n      <td>0.8</td>\n      <td>0.269856</td>\n      <td>0.000000</td>\n      <td>0.036093</td>\n      <td>0.000000</td>\n      <td>0.550000</td>\n      <td>0.215125</td>\n      <td>0.2500</td>\n      <td>0.000</td>\n      <td>0.510204</td>\n      <td>...</td>\n      <td>1.0</td>\n      <td>0.0</td>\n      <td>0.0</td>\n      <td>1.0</td>\n      <td>0.0</td>\n      <td>0.0</td>\n      <td>0.0</td>\n      <td>1.0</td>\n      <td>1.0</td>\n      <td>0.0</td>\n    </tr>\n    <tr>\n      <th>1772</th>\n      <td>0.8</td>\n      <td>0.144378</td>\n      <td>0.000000</td>\n      <td>0.089987</td>\n      <td>0.105263</td>\n      <td>0.684211</td>\n      <td>0.596308</td>\n      <td>0.3500</td>\n      <td>0.525</td>\n      <td>0.459184</td>\n      <td>...</td>\n      <td>1.0</td>\n      <td>0.0</td>\n      <td>0.0</td>\n      <td>1.0</td>\n      <td>0.0</td>\n      <td>0.0</td>\n      <td>0.0</td>\n      <td>1.0</td>\n      <td>0.0</td>\n      <td>1.0</td>\n    </tr>\n  </tbody>\n</table>\n<p>1773 rows × 35 columns</p>\n</div>"
     },
     "execution_count": 13,
     "metadata": {},
     "output_type": "execute_result"
    }
   ],
   "source": [
    "analys_personal_data_model"
   ]
  },
  {
   "cell_type": "code",
   "execution_count": 14,
   "outputs": [
    {
     "name": "stderr",
     "output_type": "stream",
     "text": [
      "C:\\Users\\franj\\anaconda3\\lib\\site-packages\\sklearn\\cluster\\_agglomerative.py:983: FutureWarning: Attribute `affinity` was deprecated in version 1.2 and will be removed in 1.4. Use `metric` instead\n",
      "  warnings.warn(\n"
     ]
    }
   ],
   "source": [
    "from sklearn.cluster import AgglomerativeClustering\n",
    "aglom_cluster = AgglomerativeClustering(n_clusters = 2, affinity='euclidean', linkage='ward')\n",
    "aglom_cluster.fit_predict(analys_personal_data_model)\n",
    "analys_personal_data_clust = analys_personal_data_model.copy()\n",
    "analys_personal_data_clust['labels'] = aglom_cluster.labels_\n",
    "analys_personal_data['labels'] = analys_personal_data_clust['labels'].astype('category')"
   ],
   "metadata": {
    "collapsed": false
   }
  },
  {
   "cell_type": "code",
   "execution_count": 15,
   "metadata": {
    "scrolled": true,
    "ExecuteTime": {
     "start_time": "2025-02-22T10:07:33.121230Z",
     "end_time": "2025-02-22T10:07:33.177400Z"
    }
   },
   "outputs": [
    {
     "data": {
      "text/plain": "      convocatoria_acceso  nota_admision_def  edad_acceso  distance  \\\n0                     0.8           0.217464     0.170732  0.154108   \n1                     0.8           0.217464     0.317073  0.349070   \n2                     0.8           0.217464     0.243902  0.042680   \n3                     0.8           0.204785     0.170732  0.042680   \n4                     0.8           0.217464     0.170732  0.042680   \n...                   ...                ...          ...       ...   \n1768                  0.8           0.222967     0.024390  0.072421   \n1769                  0.8           0.222847     0.000000  0.070790   \n1770                  0.8           0.207656     0.000000  0.020802   \n1771                  0.8           0.269856     0.000000  0.036093   \n1772                  0.8           0.144378     0.000000  0.089987   \n\n      cum_pass_ratio  cum_absent_ratio  std_deviation  cum_median  \\\n0           0.235294          0.176471       0.615087      0.4175   \n1           0.312500          0.562500       0.484168      0.5000   \n2           0.166667          0.444444       0.415811      0.3825   \n3           0.263158          0.315789       0.571833      0.3670   \n4           1.000000          0.000000       0.413858      0.7000   \n...              ...               ...            ...         ...   \n1768        0.066667          0.533333       0.370527      0.2200   \n1769        0.294118          0.352941       0.638489      0.4300   \n1770        0.105263          0.000000       0.455520      0.2000   \n1771        0.000000          0.550000       0.215125      0.2500   \n1772        0.105263          0.684211       0.596308      0.3500   \n\n      cum_pass_median  cum_fail_median  ...  anio_apertura_expediente_2016-17  \\\n0               0.570         0.783673  ...                               0.0   \n1               0.500         0.510204  ...                               0.0   \n2               0.520         0.516327  ...                               0.0   \n3               0.540         0.510204  ...                               0.0   \n4               0.700         0.000000  ...                               0.0   \n...               ...              ...  ...                               ...   \n1768            0.550         0.428571  ...                               1.0   \n1769            0.550         0.612245  ...                               1.0   \n1770            0.505         0.367347  ...                               1.0   \n1771            0.000         0.510204  ...                               1.0   \n1772            0.525         0.459184  ...                               1.0   \n\n      des_acceso_Formación Profesional  des_acceso_Mayores de 25/40/45 años  \\\n0                                  0.0                                  0.0   \n1                                  1.0                                  0.0   \n2                                  1.0                                  0.0   \n3                                  0.0                                  0.0   \n4                                  0.0                                  0.0   \n...                                ...                                  ...   \n1768                               0.0                                  0.0   \n1769                               0.0                                  0.0   \n1770                               0.0                                  0.0   \n1771                               0.0                                  0.0   \n1772                               0.0                                  0.0   \n\n      des_acceso_Selectividad  \\\n0                         1.0   \n1                         0.0   \n2                         0.0   \n3                         1.0   \n4                         1.0   \n...                       ...   \n1768                      1.0   \n1769                      1.0   \n1770                      1.0   \n1771                      1.0   \n1772                      1.0   \n\n      des_acceso_Traslado de Expediente (Estudios Españoles)  \\\n0                                                   0.0        \n1                                                   0.0        \n2                                                   0.0        \n3                                                   0.0        \n4                                                   0.0        \n...                                                 ...        \n1768                                                0.0        \n1769                                                0.0        \n1770                                                0.0        \n1771                                                0.0        \n1772                                                0.0        \n\n      des_acceso_Título Universitario  sexo_D  sexo_H  becario_N  becario_S  \n0                                 0.0     1.0     0.0        0.0        1.0  \n1                                 0.0     0.0     1.0        0.0        1.0  \n2                                 0.0     1.0     0.0        1.0        0.0  \n3                                 0.0     1.0     0.0        1.0        0.0  \n4                                 0.0     0.0     1.0        1.0        0.0  \n...                               ...     ...     ...        ...        ...  \n1768                              0.0     0.0     1.0        1.0        0.0  \n1769                              0.0     0.0     1.0        0.0        1.0  \n1770                              0.0     0.0     1.0        0.0        1.0  \n1771                              0.0     0.0     1.0        1.0        0.0  \n1772                              0.0     0.0     1.0        0.0        1.0  \n\n[1773 rows x 35 columns]",
      "text/html": "<div>\n<style scoped>\n    .dataframe tbody tr th:only-of-type {\n        vertical-align: middle;\n    }\n\n    .dataframe tbody tr th {\n        vertical-align: top;\n    }\n\n    .dataframe thead th {\n        text-align: right;\n    }\n</style>\n<table border=\"1\" class=\"dataframe\">\n  <thead>\n    <tr style=\"text-align: right;\">\n      <th></th>\n      <th>convocatoria_acceso</th>\n      <th>nota_admision_def</th>\n      <th>edad_acceso</th>\n      <th>distance</th>\n      <th>cum_pass_ratio</th>\n      <th>cum_absent_ratio</th>\n      <th>std_deviation</th>\n      <th>cum_median</th>\n      <th>cum_pass_median</th>\n      <th>cum_fail_median</th>\n      <th>...</th>\n      <th>anio_apertura_expediente_2016-17</th>\n      <th>des_acceso_Formación Profesional</th>\n      <th>des_acceso_Mayores de 25/40/45 años</th>\n      <th>des_acceso_Selectividad</th>\n      <th>des_acceso_Traslado de Expediente (Estudios Españoles)</th>\n      <th>des_acceso_Título Universitario</th>\n      <th>sexo_D</th>\n      <th>sexo_H</th>\n      <th>becario_N</th>\n      <th>becario_S</th>\n    </tr>\n  </thead>\n  <tbody>\n    <tr>\n      <th>0</th>\n      <td>0.8</td>\n      <td>0.217464</td>\n      <td>0.170732</td>\n      <td>0.154108</td>\n      <td>0.235294</td>\n      <td>0.176471</td>\n      <td>0.615087</td>\n      <td>0.4175</td>\n      <td>0.570</td>\n      <td>0.783673</td>\n      <td>...</td>\n      <td>0.0</td>\n      <td>0.0</td>\n      <td>0.0</td>\n      <td>1.0</td>\n      <td>0.0</td>\n      <td>0.0</td>\n      <td>1.0</td>\n      <td>0.0</td>\n      <td>0.0</td>\n      <td>1.0</td>\n    </tr>\n    <tr>\n      <th>1</th>\n      <td>0.8</td>\n      <td>0.217464</td>\n      <td>0.317073</td>\n      <td>0.349070</td>\n      <td>0.312500</td>\n      <td>0.562500</td>\n      <td>0.484168</td>\n      <td>0.5000</td>\n      <td>0.500</td>\n      <td>0.510204</td>\n      <td>...</td>\n      <td>0.0</td>\n      <td>1.0</td>\n      <td>0.0</td>\n      <td>0.0</td>\n      <td>0.0</td>\n      <td>0.0</td>\n      <td>0.0</td>\n      <td>1.0</td>\n      <td>0.0</td>\n      <td>1.0</td>\n    </tr>\n    <tr>\n      <th>2</th>\n      <td>0.8</td>\n      <td>0.217464</td>\n      <td>0.243902</td>\n      <td>0.042680</td>\n      <td>0.166667</td>\n      <td>0.444444</td>\n      <td>0.415811</td>\n      <td>0.3825</td>\n      <td>0.520</td>\n      <td>0.516327</td>\n      <td>...</td>\n      <td>0.0</td>\n      <td>1.0</td>\n      <td>0.0</td>\n      <td>0.0</td>\n      <td>0.0</td>\n      <td>0.0</td>\n      <td>1.0</td>\n      <td>0.0</td>\n      <td>1.0</td>\n      <td>0.0</td>\n    </tr>\n    <tr>\n      <th>3</th>\n      <td>0.8</td>\n      <td>0.204785</td>\n      <td>0.170732</td>\n      <td>0.042680</td>\n      <td>0.263158</td>\n      <td>0.315789</td>\n      <td>0.571833</td>\n      <td>0.3670</td>\n      <td>0.540</td>\n      <td>0.510204</td>\n      <td>...</td>\n      <td>0.0</td>\n      <td>0.0</td>\n      <td>0.0</td>\n      <td>1.0</td>\n      <td>0.0</td>\n      <td>0.0</td>\n      <td>1.0</td>\n      <td>0.0</td>\n      <td>1.0</td>\n      <td>0.0</td>\n    </tr>\n    <tr>\n      <th>4</th>\n      <td>0.8</td>\n      <td>0.217464</td>\n      <td>0.170732</td>\n      <td>0.042680</td>\n      <td>1.000000</td>\n      <td>0.000000</td>\n      <td>0.413858</td>\n      <td>0.7000</td>\n      <td>0.700</td>\n      <td>0.000000</td>\n      <td>...</td>\n      <td>0.0</td>\n      <td>0.0</td>\n      <td>0.0</td>\n      <td>1.0</td>\n      <td>0.0</td>\n      <td>0.0</td>\n      <td>0.0</td>\n      <td>1.0</td>\n      <td>1.0</td>\n      <td>0.0</td>\n    </tr>\n    <tr>\n      <th>...</th>\n      <td>...</td>\n      <td>...</td>\n      <td>...</td>\n      <td>...</td>\n      <td>...</td>\n      <td>...</td>\n      <td>...</td>\n      <td>...</td>\n      <td>...</td>\n      <td>...</td>\n      <td>...</td>\n      <td>...</td>\n      <td>...</td>\n      <td>...</td>\n      <td>...</td>\n      <td>...</td>\n      <td>...</td>\n      <td>...</td>\n      <td>...</td>\n      <td>...</td>\n      <td>...</td>\n    </tr>\n    <tr>\n      <th>1768</th>\n      <td>0.8</td>\n      <td>0.222967</td>\n      <td>0.024390</td>\n      <td>0.072421</td>\n      <td>0.066667</td>\n      <td>0.533333</td>\n      <td>0.370527</td>\n      <td>0.2200</td>\n      <td>0.550</td>\n      <td>0.428571</td>\n      <td>...</td>\n      <td>1.0</td>\n      <td>0.0</td>\n      <td>0.0</td>\n      <td>1.0</td>\n      <td>0.0</td>\n      <td>0.0</td>\n      <td>0.0</td>\n      <td>1.0</td>\n      <td>1.0</td>\n      <td>0.0</td>\n    </tr>\n    <tr>\n      <th>1769</th>\n      <td>0.8</td>\n      <td>0.222847</td>\n      <td>0.000000</td>\n      <td>0.070790</td>\n      <td>0.294118</td>\n      <td>0.352941</td>\n      <td>0.638489</td>\n      <td>0.4300</td>\n      <td>0.550</td>\n      <td>0.612245</td>\n      <td>...</td>\n      <td>1.0</td>\n      <td>0.0</td>\n      <td>0.0</td>\n      <td>1.0</td>\n      <td>0.0</td>\n      <td>0.0</td>\n      <td>0.0</td>\n      <td>1.0</td>\n      <td>0.0</td>\n      <td>1.0</td>\n    </tr>\n    <tr>\n      <th>1770</th>\n      <td>0.8</td>\n      <td>0.207656</td>\n      <td>0.000000</td>\n      <td>0.020802</td>\n      <td>0.105263</td>\n      <td>0.000000</td>\n      <td>0.455520</td>\n      <td>0.2000</td>\n      <td>0.505</td>\n      <td>0.367347</td>\n      <td>...</td>\n      <td>1.0</td>\n      <td>0.0</td>\n      <td>0.0</td>\n      <td>1.0</td>\n      <td>0.0</td>\n      <td>0.0</td>\n      <td>0.0</td>\n      <td>1.0</td>\n      <td>0.0</td>\n      <td>1.0</td>\n    </tr>\n    <tr>\n      <th>1771</th>\n      <td>0.8</td>\n      <td>0.269856</td>\n      <td>0.000000</td>\n      <td>0.036093</td>\n      <td>0.000000</td>\n      <td>0.550000</td>\n      <td>0.215125</td>\n      <td>0.2500</td>\n      <td>0.000</td>\n      <td>0.510204</td>\n      <td>...</td>\n      <td>1.0</td>\n      <td>0.0</td>\n      <td>0.0</td>\n      <td>1.0</td>\n      <td>0.0</td>\n      <td>0.0</td>\n      <td>0.0</td>\n      <td>1.0</td>\n      <td>1.0</td>\n      <td>0.0</td>\n    </tr>\n    <tr>\n      <th>1772</th>\n      <td>0.8</td>\n      <td>0.144378</td>\n      <td>0.000000</td>\n      <td>0.089987</td>\n      <td>0.105263</td>\n      <td>0.684211</td>\n      <td>0.596308</td>\n      <td>0.3500</td>\n      <td>0.525</td>\n      <td>0.459184</td>\n      <td>...</td>\n      <td>1.0</td>\n      <td>0.0</td>\n      <td>0.0</td>\n      <td>1.0</td>\n      <td>0.0</td>\n      <td>0.0</td>\n      <td>0.0</td>\n      <td>1.0</td>\n      <td>0.0</td>\n      <td>1.0</td>\n    </tr>\n  </tbody>\n</table>\n<p>1773 rows × 35 columns</p>\n</div>"
     },
     "execution_count": 15,
     "metadata": {},
     "output_type": "execute_result"
    }
   ],
   "source": [
    "analys_personal_data_model"
   ]
  },
  {
   "cell_type": "code",
   "execution_count": 16,
   "metadata": {
    "ExecuteTime": {
     "start_time": "2025-02-22T10:07:36.463379Z",
     "end_time": "2025-02-22T10:07:36.583299Z"
    }
   },
   "outputs": [
    {
     "data": {
      "text/plain": "0.16673818835196566"
     },
     "execution_count": 16,
     "metadata": {},
     "output_type": "execute_result"
    }
   ],
   "source": [
    "metrics.silhouette_score(analys_personal_data_clust, analys_personal_data_clust['labels'])\n"
   ]
  },
  {
   "cell_type": "code",
   "execution_count": 17,
   "metadata": {
    "ExecuteTime": {
     "start_time": "2025-02-22T10:07:38.961396Z",
     "end_time": "2025-02-22T10:07:39.013057Z"
    }
   },
   "outputs": [
    {
     "data": {
      "text/plain": "366.8297491289851"
     },
     "execution_count": 17,
     "metadata": {},
     "output_type": "execute_result"
    }
   ],
   "source": [
    "metrics.calinski_harabasz_score(analys_personal_data_clust, analys_personal_data_clust['labels'])\n"
   ]
  },
  {
   "cell_type": "code",
   "execution_count": 18,
   "metadata": {
    "scrolled": true,
    "ExecuteTime": {
     "start_time": "2025-02-22T10:07:39.736734Z",
     "end_time": "2025-02-22T10:07:39.770957Z"
    }
   },
   "outputs": [
    {
     "data": {
      "text/plain": "2.0058157990341683"
     },
     "execution_count": 18,
     "metadata": {},
     "output_type": "execute_result"
    }
   ],
   "source": [
    "metrics.davies_bouldin_score(analys_personal_data_clust, analys_personal_data_clust['labels'])\n"
   ]
  },
  {
   "cell_type": "code",
   "execution_count": 19,
   "metadata": {
    "scrolled": false,
    "ExecuteTime": {
     "start_time": "2025-02-22T10:07:40.432603Z",
     "end_time": "2025-02-22T10:07:41.782530Z"
    }
   },
   "outputs": [
    {
     "data": {
      "text/plain": "0.44223827068497384"
     },
     "execution_count": 19,
     "metadata": {},
     "output_type": "execute_result"
    }
   ],
   "source": [
    "get_dunn_index(analys_personal_data_clust,analys_personal_data_clust['labels'])"
   ]
  },
  {
   "cell_type": "code",
   "execution_count": 20,
   "metadata": {
    "ExecuteTime": {
     "start_time": "2025-02-22T10:07:43.194792Z",
     "end_time": "2025-02-22T10:07:43.210128Z"
    }
   },
   "outputs": [],
   "source": [
    "import pandas as pd\n",
    "def get_impurity(dropout_cl0: pd.core.series.Series, dropout_cl1:pd.core.series.Series):\n",
    "    impurity = -1\n",
    "    n = len (dropout_cl0) + len (dropout_cl1)\n",
    "    if len(dropout_cl0[dropout_cl0 == 0]) > len(dropout_cl0[dropout_cl0 == 1]):\n",
    "        impurity = (len(dropout_cl0) - len(dropout_cl0[dropout_cl0 == 0]))/n\n",
    "    else:\n",
    "        impurity = (len(dropout_cl0) - len(dropout_cl0[dropout_cl0 == 1]))/n\n",
    "    if len(dropout_cl1[dropout_cl1 == 0]) > len(dropout_cl1[dropout_cl1 == 1]):\n",
    "        impurity = impurity + ((len(dropout_cl1) - len(dropout_cl1[dropout_cl1 == 0]))/n)\n",
    "    else:\n",
    "        impurity = impurity + ((len(dropout_cl1) - len(dropout_cl1[dropout_cl1 == 1]))/n)\n",
    "        \n",
    "    return impurity"
   ]
  },
  {
   "cell_type": "code",
   "execution_count": 21,
   "metadata": {
    "ExecuteTime": {
     "start_time": "2025-02-22T10:07:43.833478Z",
     "end_time": "2025-02-22T10:07:43.864799Z"
    }
   },
   "outputs": [],
   "source": [
    "analys_personal_data_clust['abandona'] = analys_personal_data['abandona']"
   ]
  },
  {
   "cell_type": "code",
   "execution_count": 22,
   "metadata": {
    "scrolled": true,
    "ExecuteTime": {
     "start_time": "2025-02-22T10:07:44.546256Z",
     "end_time": "2025-02-22T10:07:44.574233Z"
    }
   },
   "outputs": [
    {
     "data": {
      "text/plain": "0.4653130287648054"
     },
     "execution_count": 22,
     "metadata": {},
     "output_type": "execute_result"
    }
   ],
   "source": [
    "get_impurity(analys_personal_data_clust[analys_personal_data_clust['labels']==0]['abandona'], analys_personal_data_clust[analys_personal_data_clust['labels']==1]['abandona'])"
   ]
  },
  {
   "cell_type": "code",
   "execution_count": 23,
   "metadata": {
    "ExecuteTime": {
     "start_time": "2025-02-22T10:07:45.257080Z",
     "end_time": "2025-02-22T10:07:45.285659Z"
    }
   },
   "outputs": [
    {
     "data": {
      "text/plain": "0    0.509044\n1    0.490956\nName: abandona, dtype: float64"
     },
     "execution_count": 23,
     "metadata": {},
     "output_type": "execute_result"
    }
   ],
   "source": [
    "analys_personal_data_clust[analys_personal_data_clust['labels']==0]['abandona'].value_counts(normalize=True)"
   ]
  },
  {
   "cell_type": "code",
   "execution_count": 24,
   "metadata": {
    "ExecuteTime": {
     "start_time": "2025-02-22T10:07:46.124099Z",
     "end_time": "2025-02-22T10:07:46.140700Z"
    }
   },
   "outputs": [
    {
     "data": {
      "text/plain": "1    0.583333\n0    0.416667\nName: abandona, dtype: float64"
     },
     "execution_count": 24,
     "metadata": {},
     "output_type": "execute_result"
    }
   ],
   "source": [
    "analys_personal_data_clust[analys_personal_data_clust['labels']==1]['abandona'].value_counts(normalize=True)"
   ]
  },
  {
   "cell_type": "code",
   "execution_count": 25,
   "metadata": {},
   "outputs": [],
   "source": [
    "# from apitep_utils.report import Report\n",
    "# for label in analys_personal_data['labels'].cat.categories:\n",
    "#     dset = analys_personal_data[analys_personal_data['labels'] == label]\n",
    "#     report = Report()\n",
    "#     report.generate_advanced(dset,'KMeans_1st_year_2_cl_'+str(label),sys.path[0]+ '/'+ '1st_year_norm_'+ str(label))"
   ]
  }
 ],
 "metadata": {
  "kernelspec": {
   "display_name": "Python 3",
   "language": "python",
   "name": "python3"
  },
  "language_info": {
   "codemirror_mode": {
    "name": "ipython",
    "version": 3
   },
   "file_extension": ".py",
   "mimetype": "text/x-python",
   "name": "python",
   "nbconvert_exporter": "python",
   "pygments_lexer": "ipython3",
   "version": "3.8.10"
  }
 },
 "nbformat": 4,
 "nbformat_minor": 4
}
