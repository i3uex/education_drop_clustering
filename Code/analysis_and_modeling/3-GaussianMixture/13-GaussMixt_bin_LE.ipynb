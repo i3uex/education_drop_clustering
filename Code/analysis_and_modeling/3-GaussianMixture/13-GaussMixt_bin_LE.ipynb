{
 "cells": [
  {
   "cell_type": "code",
   "execution_count": 1,
   "metadata": {
    "ExecuteTime": {
     "start_time": "2025-06-14T17:26:56.382585Z",
     "end_time": "2025-06-14T17:26:57.533670Z"
    }
   },
   "outputs": [],
   "source": [
    "import pandas as pd\n",
    "import sys\n",
    "import os\n",
    "sys.path.append(os.path.relpath('../'))\n",
    "import dunn_index\n",
    "from sklearn import metrics\n",
    "import numpy as np\n",
    "%matplotlib inline"
   ]
  },
  {
   "cell_type": "code",
   "execution_count": 2,
   "metadata": {
    "ExecuteTime": {
     "start_time": "2025-06-14T17:26:57.539801Z",
     "end_time": "2025-06-14T17:26:57.573943Z"
    }
   },
   "outputs": [],
   "source": [
    "analys_personal_data = pd.read_csv('../../../Data/For_analysis_and_modeling/2nd_quadrimester/analys_personal_data.csv',sep='|')"
   ]
  },
  {
   "cell_type": "code",
   "execution_count": 3,
   "metadata": {
    "scrolled": true,
    "ExecuteTime": {
     "start_time": "2025-06-14T17:26:57.566253Z",
     "end_time": "2025-06-14T17:26:57.587739Z"
    }
   },
   "outputs": [
    {
     "data": {
      "text/plain": "   expediente  cod_plan                                           des_plan  \\\n0           2      1623  GRADO EN INGENIERÍA CIVIL - CONSTRUCCIONES CIV...   \n1           3      1623  GRADO EN INGENIERÍA CIVIL - CONSTRUCCIONES CIV...   \n2           4      1623  GRADO EN INGENIERÍA CIVIL - CONSTRUCCIONES CIV...   \n3           5      1623  GRADO EN INGENIERÍA CIVIL - CONSTRUCCIONES CIV...   \n4           6      1623  GRADO EN INGENIERÍA CIVIL - CONSTRUCCIONES CIV...   \n\n  anio_apertura_expediente  abandona convocatoria_acceso  \\\n0                  2009-10         0                 JUN   \n1                  2009-10         1                 JUN   \n2                  2009-10         0                 JUN   \n3                  2009-10         1                 JUN   \n4                  2009-10         0                 JUN   \n\n              des_acceso  nota_admision_def sexo  edad_acceso  distance  \\\n0           Selectividad              6.836    D           25  300.6305   \n1  Formación Profesional              6.836    H           31  667.4115   \n2  Formación Profesional              6.836    D           28   91.0020   \n3           Selectividad              6.730    D           25   91.0020   \n4           Selectividad              6.836    H           25   91.0020   \n\n  becario  cum_pass_ratio  cum_absent_ratio  std_deviation  cum_median  \\\n0       S        0.235294          0.176471       1.990064       4.175   \n1       S        0.312500          0.562500       1.566486       5.000   \n2       N        0.166667          0.444444       1.345324       3.825   \n3       N        0.263158          0.315789       1.850120       3.670   \n4       N        1.000000          0.000000       1.339003       7.000   \n\n   cum_pass_median  cum_fail_median  \n0              5.7             3.84  \n1              5.0             2.50  \n2              5.2             2.53  \n3              5.4             2.50  \n4              7.0             0.00  ",
      "text/html": "<div>\n<style scoped>\n    .dataframe tbody tr th:only-of-type {\n        vertical-align: middle;\n    }\n\n    .dataframe tbody tr th {\n        vertical-align: top;\n    }\n\n    .dataframe thead th {\n        text-align: right;\n    }\n</style>\n<table border=\"1\" class=\"dataframe\">\n  <thead>\n    <tr style=\"text-align: right;\">\n      <th></th>\n      <th>expediente</th>\n      <th>cod_plan</th>\n      <th>des_plan</th>\n      <th>anio_apertura_expediente</th>\n      <th>abandona</th>\n      <th>convocatoria_acceso</th>\n      <th>des_acceso</th>\n      <th>nota_admision_def</th>\n      <th>sexo</th>\n      <th>edad_acceso</th>\n      <th>distance</th>\n      <th>becario</th>\n      <th>cum_pass_ratio</th>\n      <th>cum_absent_ratio</th>\n      <th>std_deviation</th>\n      <th>cum_median</th>\n      <th>cum_pass_median</th>\n      <th>cum_fail_median</th>\n    </tr>\n  </thead>\n  <tbody>\n    <tr>\n      <th>0</th>\n      <td>2</td>\n      <td>1623</td>\n      <td>GRADO EN INGENIERÍA CIVIL - CONSTRUCCIONES CIV...</td>\n      <td>2009-10</td>\n      <td>0</td>\n      <td>JUN</td>\n      <td>Selectividad</td>\n      <td>6.836</td>\n      <td>D</td>\n      <td>25</td>\n      <td>300.6305</td>\n      <td>S</td>\n      <td>0.235294</td>\n      <td>0.176471</td>\n      <td>1.990064</td>\n      <td>4.175</td>\n      <td>5.7</td>\n      <td>3.84</td>\n    </tr>\n    <tr>\n      <th>1</th>\n      <td>3</td>\n      <td>1623</td>\n      <td>GRADO EN INGENIERÍA CIVIL - CONSTRUCCIONES CIV...</td>\n      <td>2009-10</td>\n      <td>1</td>\n      <td>JUN</td>\n      <td>Formación Profesional</td>\n      <td>6.836</td>\n      <td>H</td>\n      <td>31</td>\n      <td>667.4115</td>\n      <td>S</td>\n      <td>0.312500</td>\n      <td>0.562500</td>\n      <td>1.566486</td>\n      <td>5.000</td>\n      <td>5.0</td>\n      <td>2.50</td>\n    </tr>\n    <tr>\n      <th>2</th>\n      <td>4</td>\n      <td>1623</td>\n      <td>GRADO EN INGENIERÍA CIVIL - CONSTRUCCIONES CIV...</td>\n      <td>2009-10</td>\n      <td>0</td>\n      <td>JUN</td>\n      <td>Formación Profesional</td>\n      <td>6.836</td>\n      <td>D</td>\n      <td>28</td>\n      <td>91.0020</td>\n      <td>N</td>\n      <td>0.166667</td>\n      <td>0.444444</td>\n      <td>1.345324</td>\n      <td>3.825</td>\n      <td>5.2</td>\n      <td>2.53</td>\n    </tr>\n    <tr>\n      <th>3</th>\n      <td>5</td>\n      <td>1623</td>\n      <td>GRADO EN INGENIERÍA CIVIL - CONSTRUCCIONES CIV...</td>\n      <td>2009-10</td>\n      <td>1</td>\n      <td>JUN</td>\n      <td>Selectividad</td>\n      <td>6.730</td>\n      <td>D</td>\n      <td>25</td>\n      <td>91.0020</td>\n      <td>N</td>\n      <td>0.263158</td>\n      <td>0.315789</td>\n      <td>1.850120</td>\n      <td>3.670</td>\n      <td>5.4</td>\n      <td>2.50</td>\n    </tr>\n    <tr>\n      <th>4</th>\n      <td>6</td>\n      <td>1623</td>\n      <td>GRADO EN INGENIERÍA CIVIL - CONSTRUCCIONES CIV...</td>\n      <td>2009-10</td>\n      <td>0</td>\n      <td>JUN</td>\n      <td>Selectividad</td>\n      <td>6.836</td>\n      <td>H</td>\n      <td>25</td>\n      <td>91.0020</td>\n      <td>N</td>\n      <td>1.000000</td>\n      <td>0.000000</td>\n      <td>1.339003</td>\n      <td>7.000</td>\n      <td>7.0</td>\n      <td>0.00</td>\n    </tr>\n  </tbody>\n</table>\n</div>"
     },
     "execution_count": 3,
     "metadata": {},
     "output_type": "execute_result"
    }
   ],
   "source": [
    "analys_personal_data.head()"
   ]
  },
  {
   "cell_type": "code",
   "execution_count": 4,
   "metadata": {
    "ExecuteTime": {
     "start_time": "2025-06-14T17:26:57.589770Z",
     "end_time": "2025-06-14T17:26:57.594873Z"
    }
   },
   "outputs": [],
   "source": [
    "interval_cols = []"
   ]
  },
  {
   "cell_type": "code",
   "execution_count": 5,
   "metadata": {
    "ExecuteTime": {
     "start_time": "2025-06-14T17:26:57.594873Z",
     "end_time": "2025-06-14T17:26:57.614836Z"
    }
   },
   "outputs": [],
   "source": [
    "analys_personal_data_model = analys_personal_data.copy()"
   ]
  },
  {
   "cell_type": "code",
   "execution_count": 6,
   "metadata": {
    "scrolled": true,
    "ExecuteTime": {
     "start_time": "2025-06-14T17:26:57.604479Z",
     "end_time": "2025-06-14T17:26:57.663315Z"
    }
   },
   "outputs": [],
   "source": [
    "analys_personal_data_model.drop(['expediente','cod_plan','abandona'],axis=1,inplace=True)"
   ]
  },
  {
   "cell_type": "code",
   "execution_count": 7,
   "metadata": {
    "ExecuteTime": {
     "start_time": "2025-06-14T17:26:57.614836Z",
     "end_time": "2025-06-14T17:26:57.748814Z"
    }
   },
   "outputs": [
    {
     "data": {
      "text/plain": "                                            des_plan anio_apertura_expediente  \\\n0  GRADO EN INGENIERÍA CIVIL - CONSTRUCCIONES CIV...                  2009-10   \n1  GRADO EN INGENIERÍA CIVIL - CONSTRUCCIONES CIV...                  2009-10   \n2  GRADO EN INGENIERÍA CIVIL - CONSTRUCCIONES CIV...                  2009-10   \n3  GRADO EN INGENIERÍA CIVIL - CONSTRUCCIONES CIV...                  2009-10   \n4  GRADO EN INGENIERÍA CIVIL - CONSTRUCCIONES CIV...                  2009-10   \n\n  convocatoria_acceso             des_acceso  nota_admision_def sexo  \\\n0                 JUN           Selectividad              6.836    D   \n1                 JUN  Formación Profesional              6.836    H   \n2                 JUN  Formación Profesional              6.836    D   \n3                 JUN           Selectividad              6.730    D   \n4                 JUN           Selectividad              6.836    H   \n\n   edad_acceso  distance becario  cum_pass_ratio  cum_absent_ratio  \\\n0           25  300.6305       S        0.235294          0.176471   \n1           31  667.4115       S        0.312500          0.562500   \n2           28   91.0020       N        0.166667          0.444444   \n3           25   91.0020       N        0.263158          0.315789   \n4           25   91.0020       N        1.000000          0.000000   \n\n   std_deviation  cum_median  cum_pass_median  cum_fail_median  \n0       1.990064       4.175              5.7             3.84  \n1       1.566486       5.000              5.0             2.50  \n2       1.345324       3.825              5.2             2.53  \n3       1.850120       3.670              5.4             2.50  \n4       1.339003       7.000              7.0             0.00  ",
      "text/html": "<div>\n<style scoped>\n    .dataframe tbody tr th:only-of-type {\n        vertical-align: middle;\n    }\n\n    .dataframe tbody tr th {\n        vertical-align: top;\n    }\n\n    .dataframe thead th {\n        text-align: right;\n    }\n</style>\n<table border=\"1\" class=\"dataframe\">\n  <thead>\n    <tr style=\"text-align: right;\">\n      <th></th>\n      <th>des_plan</th>\n      <th>anio_apertura_expediente</th>\n      <th>convocatoria_acceso</th>\n      <th>des_acceso</th>\n      <th>nota_admision_def</th>\n      <th>sexo</th>\n      <th>edad_acceso</th>\n      <th>distance</th>\n      <th>becario</th>\n      <th>cum_pass_ratio</th>\n      <th>cum_absent_ratio</th>\n      <th>std_deviation</th>\n      <th>cum_median</th>\n      <th>cum_pass_median</th>\n      <th>cum_fail_median</th>\n    </tr>\n  </thead>\n  <tbody>\n    <tr>\n      <th>0</th>\n      <td>GRADO EN INGENIERÍA CIVIL - CONSTRUCCIONES CIV...</td>\n      <td>2009-10</td>\n      <td>JUN</td>\n      <td>Selectividad</td>\n      <td>6.836</td>\n      <td>D</td>\n      <td>25</td>\n      <td>300.6305</td>\n      <td>S</td>\n      <td>0.235294</td>\n      <td>0.176471</td>\n      <td>1.990064</td>\n      <td>4.175</td>\n      <td>5.7</td>\n      <td>3.84</td>\n    </tr>\n    <tr>\n      <th>1</th>\n      <td>GRADO EN INGENIERÍA CIVIL - CONSTRUCCIONES CIV...</td>\n      <td>2009-10</td>\n      <td>JUN</td>\n      <td>Formación Profesional</td>\n      <td>6.836</td>\n      <td>H</td>\n      <td>31</td>\n      <td>667.4115</td>\n      <td>S</td>\n      <td>0.312500</td>\n      <td>0.562500</td>\n      <td>1.566486</td>\n      <td>5.000</td>\n      <td>5.0</td>\n      <td>2.50</td>\n    </tr>\n    <tr>\n      <th>2</th>\n      <td>GRADO EN INGENIERÍA CIVIL - CONSTRUCCIONES CIV...</td>\n      <td>2009-10</td>\n      <td>JUN</td>\n      <td>Formación Profesional</td>\n      <td>6.836</td>\n      <td>D</td>\n      <td>28</td>\n      <td>91.0020</td>\n      <td>N</td>\n      <td>0.166667</td>\n      <td>0.444444</td>\n      <td>1.345324</td>\n      <td>3.825</td>\n      <td>5.2</td>\n      <td>2.53</td>\n    </tr>\n    <tr>\n      <th>3</th>\n      <td>GRADO EN INGENIERÍA CIVIL - CONSTRUCCIONES CIV...</td>\n      <td>2009-10</td>\n      <td>JUN</td>\n      <td>Selectividad</td>\n      <td>6.730</td>\n      <td>D</td>\n      <td>25</td>\n      <td>91.0020</td>\n      <td>N</td>\n      <td>0.263158</td>\n      <td>0.315789</td>\n      <td>1.850120</td>\n      <td>3.670</td>\n      <td>5.4</td>\n      <td>2.50</td>\n    </tr>\n    <tr>\n      <th>4</th>\n      <td>GRADO EN INGENIERÍA CIVIL - CONSTRUCCIONES CIV...</td>\n      <td>2009-10</td>\n      <td>JUN</td>\n      <td>Selectividad</td>\n      <td>6.836</td>\n      <td>H</td>\n      <td>25</td>\n      <td>91.0020</td>\n      <td>N</td>\n      <td>1.000000</td>\n      <td>0.000000</td>\n      <td>1.339003</td>\n      <td>7.000</td>\n      <td>7.0</td>\n      <td>0.00</td>\n    </tr>\n  </tbody>\n</table>\n</div>"
     },
     "execution_count": 7,
     "metadata": {},
     "output_type": "execute_result"
    }
   ],
   "source": [
    "analys_personal_data_model.head()"
   ]
  },
  {
   "cell_type": "code",
   "execution_count": 8,
   "metadata": {
    "ExecuteTime": {
     "start_time": "2025-06-14T17:26:57.644513Z",
     "end_time": "2025-06-14T17:26:57.796137Z"
    }
   },
   "outputs": [],
   "source": [
    "\n",
    "note_bcket_array = np.array([5, 6.5, 8, 9.5, 10, 11.5, 13, 14])\n",
    "analys_personal_data_model['nota_admision_def'] = pd.cut(\n",
    "    analys_personal_data_model['nota_admision_def'], note_bcket_array, include_lowest=True)\n",
    "interval_cols.append('nota_admision_def')\n",
    "\n",
    "year_bcket_array = np.array([18, 20, 25, 30, 35, 60])\n",
    "analys_personal_data_model['edad_acceso'] = pd.cut(\n",
    "    analys_personal_data_model['edad_acceso'], year_bcket_array, include_lowest=True)\n",
    "interval_cols.append('edad_acceso')\n",
    "\n",
    "\n",
    "distance_bcket_array = np.array([0, 45, 90, 135, 250, 500, 1892])\n",
    "analys_personal_data_model['distance'] = pd.cut(\n",
    "    analys_personal_data_model['distance'], distance_bcket_array, include_lowest=True)\n",
    "interval_cols.append('distance')\n",
    "\n",
    "note_bcket_array = np.array([0, 1.5, 3, 4.5, 6, 7.5, 9, 10])\n",
    "analys_personal_data_model['cum_median'] = pd.cut(\n",
    "    analys_personal_data_model['cum_median'], note_bcket_array, include_lowest=True)\n",
    "interval_cols.append('cum_median')\n",
    "note_bcket_array = np.array([0, 4.5, 6, 7.5, 9, 10])\n",
    "analys_personal_data_model['cum_pass_median'] = pd.cut(\n",
    "    analys_personal_data_model['cum_pass_median'], note_bcket_array, include_lowest=True)\n",
    "interval_cols.append('cum_pass_median')\n",
    "note_bcket_array = np.array([0, 1.5, 3, 5])\n",
    "analys_personal_data_model['cum_fail_median'] = pd.cut(\n",
    "    analys_personal_data_model['cum_fail_median'], note_bcket_array, include_lowest=True)\n",
    "interval_cols.append('cum_fail_median')\n",
    "\n",
    "ratio_bcket_array = np.array([0, 0.25, 0.5, 0.75, 1])\n",
    "analys_personal_data_model['cum_pass_ratio'] = pd.cut(\n",
    "    analys_personal_data_model['cum_pass_ratio'], ratio_bcket_array, include_lowest=True)\n",
    "interval_cols.append('cum_pass_ratio')\n",
    "\n",
    "analys_personal_data_model['cum_absent_ratio'] = pd.cut(\n",
    "    analys_personal_data_model['cum_absent_ratio'], ratio_bcket_array, include_lowest=True)\n",
    "interval_cols.append('cum_absent_ratio')\n",
    "\n",
    "std_bcket_array = np.array([0, 0.05,1.15,1.25,2.15,3.25])\n",
    "analys_personal_data_model['std_deviation'] = pd.cut(\n",
    "    analys_personal_data_model['std_deviation'], std_bcket_array, include_lowest=True)\n",
    "interval_cols.append('std_deviation')\n"
   ]
  },
  {
   "cell_type": "code",
   "execution_count": 9,
   "metadata": {
    "ExecuteTime": {
     "start_time": "2025-06-14T17:26:57.674411Z",
     "end_time": "2025-06-14T17:26:57.796137Z"
    }
   },
   "outputs": [],
   "source": [
    "def le_dataset(dset, le_cols, cat_cols):\n",
    "    from sklearn import preprocessing\n",
    "    for col in cat_cols:\n",
    "        le = preprocessing.LabelEncoder()\n",
    "        le.fit(dset[col].cat.categories)\n",
    "        le_cols.append(le)\n",
    "        dset[col] = le.transform(dset[col])"
   ]
  },
  {
   "cell_type": "code",
   "execution_count": 10,
   "metadata": {
    "ExecuteTime": {
     "start_time": "2025-06-14T17:26:57.680492Z",
     "end_time": "2025-06-14T17:26:57.796137Z"
    }
   },
   "outputs": [],
   "source": [
    "def inverse_le_dataset(dset, le_cols, cat_cols):\n",
    "    from sklearn import preprocessing\n",
    "    i = 0\n",
    "    for col in cat_cols:\n",
    "        le = le_cols[i]\n",
    "        from sklearn import preprocessing\n",
    "        dset[col] = le.inverse_transform(dset[col])\n",
    "        i +=1"
   ]
  },
  {
   "cell_type": "code",
   "execution_count": 11,
   "metadata": {
    "ExecuteTime": {
     "start_time": "2025-06-14T17:26:57.688775Z",
     "end_time": "2025-06-14T17:26:57.796137Z"
    }
   },
   "outputs": [],
   "source": [
    "def get_dunn_index(data, labels):\n",
    "    from sklearn.metrics.pairwise import euclidean_distances\n",
    "    distances = euclidean_distances(data)\n",
    "    return dunn_index.dunn(labels,distances)\n",
    "    "
   ]
  },
  {
   "cell_type": "code",
   "execution_count": 12,
   "metadata": {
    "ExecuteTime": {
     "start_time": "2025-06-14T17:26:57.699867Z",
     "end_time": "2025-06-14T17:26:57.796137Z"
    }
   },
   "outputs": [],
   "source": [
    "for col in analys_personal_data_model.columns:\n",
    "    if 'object' in str(analys_personal_data_model.dtypes[col]):\n",
    "        analys_personal_data_model[col] = analys_personal_data_model[col].astype('category')"
   ]
  },
  {
   "cell_type": "code",
   "execution_count": 13,
   "outputs": [],
   "source": [
    "le_cols = []\n",
    "cat_cols_le = [ 'convocatoria_acceso','nota_admision_def','edad_acceso','cum_median','cum_pass_median','cum_fail_median','cum_pass_ratio','cum_absent_ratio','std_deviation','distance']"
   ],
   "metadata": {
    "collapsed": false,
    "ExecuteTime": {
     "start_time": "2025-06-14T17:26:57.719774Z",
     "end_time": "2025-06-14T17:26:57.796137Z"
    }
   }
  },
  {
   "cell_type": "code",
   "execution_count": 14,
   "outputs": [
    {
     "data": {
      "text/plain": "   convocatoria_acceso  nota_admision_def  edad_acceso  distance  \\\n0                    4                  1            1         4   \n1                    4                  1            3         5   \n2                    4                  1            2         2   \n3                    4                  1            1         2   \n4                    4                  1            1         2   \n\n   cum_pass_ratio  cum_absent_ratio  std_deviation  cum_median  \\\n0               0                 0              3           2   \n1               1                 2              3           3   \n2               0                 1              3           2   \n3               1                 1              3           2   \n4               3                 0              3           4   \n\n   cum_pass_median  cum_fail_median  ...  anio_apertura_expediente_2016-17  \\\n0                1                2  ...                                 0   \n1                1                1  ...                                 0   \n2                1                1  ...                                 0   \n3                1                1  ...                                 0   \n4                2                0  ...                                 0   \n\n   des_acceso_Formación Profesional  des_acceso_Mayores de 25/40/45 años  \\\n0                                 0                                    0   \n1                                 1                                    0   \n2                                 1                                    0   \n3                                 0                                    0   \n4                                 0                                    0   \n\n   des_acceso_Selectividad  \\\n0                        1   \n1                        0   \n2                        0   \n3                        1   \n4                        1   \n\n   des_acceso_Traslado de Expediente (Estudios Españoles)  \\\n0                                                  0        \n1                                                  0        \n2                                                  0        \n3                                                  0        \n4                                                  0        \n\n   des_acceso_Título Universitario  sexo_D  sexo_H  becario_N  becario_S  \n0                                0       1       0          0          1  \n1                                0       0       1          0          1  \n2                                0       1       0          1          0  \n3                                0       1       0          1          0  \n4                                0       0       1          1          0  \n\n[5 rows x 35 columns]",
      "text/html": "<div>\n<style scoped>\n    .dataframe tbody tr th:only-of-type {\n        vertical-align: middle;\n    }\n\n    .dataframe tbody tr th {\n        vertical-align: top;\n    }\n\n    .dataframe thead th {\n        text-align: right;\n    }\n</style>\n<table border=\"1\" class=\"dataframe\">\n  <thead>\n    <tr style=\"text-align: right;\">\n      <th></th>\n      <th>convocatoria_acceso</th>\n      <th>nota_admision_def</th>\n      <th>edad_acceso</th>\n      <th>distance</th>\n      <th>cum_pass_ratio</th>\n      <th>cum_absent_ratio</th>\n      <th>std_deviation</th>\n      <th>cum_median</th>\n      <th>cum_pass_median</th>\n      <th>cum_fail_median</th>\n      <th>...</th>\n      <th>anio_apertura_expediente_2016-17</th>\n      <th>des_acceso_Formación Profesional</th>\n      <th>des_acceso_Mayores de 25/40/45 años</th>\n      <th>des_acceso_Selectividad</th>\n      <th>des_acceso_Traslado de Expediente (Estudios Españoles)</th>\n      <th>des_acceso_Título Universitario</th>\n      <th>sexo_D</th>\n      <th>sexo_H</th>\n      <th>becario_N</th>\n      <th>becario_S</th>\n    </tr>\n  </thead>\n  <tbody>\n    <tr>\n      <th>0</th>\n      <td>4</td>\n      <td>1</td>\n      <td>1</td>\n      <td>4</td>\n      <td>0</td>\n      <td>0</td>\n      <td>3</td>\n      <td>2</td>\n      <td>1</td>\n      <td>2</td>\n      <td>...</td>\n      <td>0</td>\n      <td>0</td>\n      <td>0</td>\n      <td>1</td>\n      <td>0</td>\n      <td>0</td>\n      <td>1</td>\n      <td>0</td>\n      <td>0</td>\n      <td>1</td>\n    </tr>\n    <tr>\n      <th>1</th>\n      <td>4</td>\n      <td>1</td>\n      <td>3</td>\n      <td>5</td>\n      <td>1</td>\n      <td>2</td>\n      <td>3</td>\n      <td>3</td>\n      <td>1</td>\n      <td>1</td>\n      <td>...</td>\n      <td>0</td>\n      <td>1</td>\n      <td>0</td>\n      <td>0</td>\n      <td>0</td>\n      <td>0</td>\n      <td>0</td>\n      <td>1</td>\n      <td>0</td>\n      <td>1</td>\n    </tr>\n    <tr>\n      <th>2</th>\n      <td>4</td>\n      <td>1</td>\n      <td>2</td>\n      <td>2</td>\n      <td>0</td>\n      <td>1</td>\n      <td>3</td>\n      <td>2</td>\n      <td>1</td>\n      <td>1</td>\n      <td>...</td>\n      <td>0</td>\n      <td>1</td>\n      <td>0</td>\n      <td>0</td>\n      <td>0</td>\n      <td>0</td>\n      <td>1</td>\n      <td>0</td>\n      <td>1</td>\n      <td>0</td>\n    </tr>\n    <tr>\n      <th>3</th>\n      <td>4</td>\n      <td>1</td>\n      <td>1</td>\n      <td>2</td>\n      <td>1</td>\n      <td>1</td>\n      <td>3</td>\n      <td>2</td>\n      <td>1</td>\n      <td>1</td>\n      <td>...</td>\n      <td>0</td>\n      <td>0</td>\n      <td>0</td>\n      <td>1</td>\n      <td>0</td>\n      <td>0</td>\n      <td>1</td>\n      <td>0</td>\n      <td>1</td>\n      <td>0</td>\n    </tr>\n    <tr>\n      <th>4</th>\n      <td>4</td>\n      <td>1</td>\n      <td>1</td>\n      <td>2</td>\n      <td>3</td>\n      <td>0</td>\n      <td>3</td>\n      <td>4</td>\n      <td>2</td>\n      <td>0</td>\n      <td>...</td>\n      <td>0</td>\n      <td>0</td>\n      <td>0</td>\n      <td>1</td>\n      <td>0</td>\n      <td>0</td>\n      <td>0</td>\n      <td>1</td>\n      <td>1</td>\n      <td>0</td>\n    </tr>\n  </tbody>\n</table>\n<p>5 rows × 35 columns</p>\n</div>"
     },
     "execution_count": 14,
     "metadata": {},
     "output_type": "execute_result"
    }
   ],
   "source": [
    "analys_personal_data_labels = analys_personal_data_model.copy()\n",
    "le_dataset(analys_personal_data_labels,le_cols,cat_cols_le)\n",
    "analys_personal_data_labels = pd.get_dummies(analys_personal_data_labels)\n",
    "analys_personal_data_labels.head()"
   ],
   "metadata": {
    "collapsed": false,
    "ExecuteTime": {
     "start_time": "2025-06-14T17:26:57.731445Z",
     "end_time": "2025-06-14T17:26:57.881275Z"
    }
   }
  },
  {
   "cell_type": "code",
   "execution_count": 15,
   "metadata": {
    "ExecuteTime": {
     "start_time": "2025-06-14T17:26:57.839662Z",
     "end_time": "2025-06-14T17:26:58.014531Z"
    }
   },
   "outputs": [],
   "source": [
    "from sklearn.preprocessing import MinMaxScaler\n",
    "\n",
    "norm = MinMaxScaler().fit(analys_personal_data_labels)\n",
    "analys_personal_data_labels[analys_personal_data_labels.columns] = norm.transform(analys_personal_data_labels)"
   ]
  },
  {
   "cell_type": "code",
   "execution_count": 16,
   "metadata": {
    "ExecuteTime": {
     "start_time": "2025-06-14T17:26:57.844432Z",
     "end_time": "2025-06-14T17:27:06.467037Z"
    }
   },
   "outputs": [
    {
     "name": "stderr",
     "output_type": "stream",
     "text": [
      "/home/franjmelchor/.virtualenvs/education_drop_clustering/lib/python3.10/site-packages/sklearn/cluster/_kmeans.py:1412: FutureWarning: The default value of `n_init` will change from 10 to 'auto' in 1.4. Set the value of `n_init` explicitly to suppress the warning\n",
      "  super()._check_params_vs_input(X, default_n_init=10)\n",
      "/home/franjmelchor/.virtualenvs/education_drop_clustering/lib/python3.10/site-packages/sklearn/cluster/_kmeans.py:1412: FutureWarning: The default value of `n_init` will change from 10 to 'auto' in 1.4. Set the value of `n_init` explicitly to suppress the warning\n",
      "  super()._check_params_vs_input(X, default_n_init=10)\n",
      "/home/franjmelchor/.virtualenvs/education_drop_clustering/lib/python3.10/site-packages/sklearn/cluster/_kmeans.py:1412: FutureWarning: The default value of `n_init` will change from 10 to 'auto' in 1.4. Set the value of `n_init` explicitly to suppress the warning\n",
      "  super()._check_params_vs_input(X, default_n_init=10)\n",
      "/home/franjmelchor/.virtualenvs/education_drop_clustering/lib/python3.10/site-packages/sklearn/cluster/_kmeans.py:1412: FutureWarning: The default value of `n_init` will change from 10 to 'auto' in 1.4. Set the value of `n_init` explicitly to suppress the warning\n",
      "  super()._check_params_vs_input(X, default_n_init=10)\n",
      "/home/franjmelchor/.virtualenvs/education_drop_clustering/lib/python3.10/site-packages/sklearn/cluster/_kmeans.py:1412: FutureWarning: The default value of `n_init` will change from 10 to 'auto' in 1.4. Set the value of `n_init` explicitly to suppress the warning\n",
      "  super()._check_params_vs_input(X, default_n_init=10)\n",
      "/home/franjmelchor/.virtualenvs/education_drop_clustering/lib/python3.10/site-packages/sklearn/cluster/_kmeans.py:1412: FutureWarning: The default value of `n_init` will change from 10 to 'auto' in 1.4. Set the value of `n_init` explicitly to suppress the warning\n",
      "  super()._check_params_vs_input(X, default_n_init=10)\n",
      "/home/franjmelchor/.virtualenvs/education_drop_clustering/lib/python3.10/site-packages/sklearn/cluster/_kmeans.py:1412: FutureWarning: The default value of `n_init` will change from 10 to 'auto' in 1.4. Set the value of `n_init` explicitly to suppress the warning\n",
      "  super()._check_params_vs_input(X, default_n_init=10)\n",
      "/home/franjmelchor/.virtualenvs/education_drop_clustering/lib/python3.10/site-packages/sklearn/cluster/_kmeans.py:1412: FutureWarning: The default value of `n_init` will change from 10 to 'auto' in 1.4. Set the value of `n_init` explicitly to suppress the warning\n",
      "  super()._check_params_vs_input(X, default_n_init=10)\n",
      "/home/franjmelchor/.virtualenvs/education_drop_clustering/lib/python3.10/site-packages/sklearn/cluster/_kmeans.py:1412: FutureWarning: The default value of `n_init` will change from 10 to 'auto' in 1.4. Set the value of `n_init` explicitly to suppress the warning\n",
      "  super()._check_params_vs_input(X, default_n_init=10)\n"
     ]
    }
   ],
   "source": [
    "from sklearn import cluster\n",
    "K = range(1, 10)\n",
    "sse = []\n",
    "for k in K:\n",
    "    kmeans = cluster.KMeans(n_clusters=k)\n",
    "    kmeans.fit(analys_personal_data_labels)\n",
    "    sse.append(kmeans.inertia_)\n"
   ]
  },
  {
   "cell_type": "code",
   "execution_count": 17,
   "metadata": {
    "scrolled": false,
    "ExecuteTime": {
     "start_time": "2025-06-14T17:27:06.481303Z",
     "end_time": "2025-06-14T17:27:06.752781Z"
    }
   },
   "outputs": [
    {
     "data": {
      "text/plain": "<Figure size 640x480 with 1 Axes>",
      "image/png": "[encoded data removed]"
     },
     "metadata": {},
     "output_type": "display_data"
    }
   ],
   "source": [
    "import matplotlib.pyplot as plt\n",
    "plt.plot(K, sse, marker='o')\n",
    "plt.xlabel('Number of clusters')\n",
    "plt.ylabel('Distortion')\n",
    "plt.show()"
   ]
  },
  {
   "cell_type": "code",
   "execution_count": 18,
   "metadata": {
    "ExecuteTime": {
     "start_time": "2025-06-14T17:27:06.752781Z",
     "end_time": "2025-06-14T17:27:07.177233Z"
    }
   },
   "outputs": [],
   "source": [
    "\n",
    "from sklearn.mixture import GaussianMixture as GMM\n",
    "\n",
    "gmm=GMM(2, n_init=2).fit(analys_personal_data_labels) \n",
    "analys_personal_data_clust = analys_personal_data_labels.copy()\n",
    "analys_personal_data_clust['labels'] = gmm.predict(analys_personal_data_labels)\n",
    "analys_personal_data['labels'] = analys_personal_data_clust['labels'].astype('category')"
   ]
  },
  {
   "cell_type": "code",
   "execution_count": 19,
   "metadata": {
    "ExecuteTime": {
     "start_time": "2025-06-14T17:27:07.201451Z",
     "end_time": "2025-06-14T17:27:07.337395Z"
    }
   },
   "outputs": [
    {
     "data": {
      "text/plain": "0.19935306568809394"
     },
     "execution_count": 19,
     "metadata": {},
     "output_type": "execute_result"
    }
   ],
   "source": [
    "metrics.silhouette_score(analys_personal_data_clust, analys_personal_data_clust['labels'])\n"
   ]
  },
  {
   "cell_type": "code",
   "execution_count": 20,
   "metadata": {
    "ExecuteTime": {
     "start_time": "2025-06-14T17:27:07.320380Z",
     "end_time": "2025-06-14T17:27:07.443041Z"
    }
   },
   "outputs": [
    {
     "data": {
      "text/plain": "468.9974953832511"
     },
     "execution_count": 20,
     "metadata": {},
     "output_type": "execute_result"
    }
   ],
   "source": [
    "metrics.calinski_harabasz_score(analys_personal_data_clust, analys_personal_data_clust['labels'])\n"
   ]
  },
  {
   "cell_type": "code",
   "execution_count": 21,
   "metadata": {
    "scrolled": true,
    "ExecuteTime": {
     "start_time": "2025-06-14T17:27:07.339495Z",
     "end_time": "2025-06-14T17:27:07.451429Z"
    }
   },
   "outputs": [
    {
     "data": {
      "text/plain": "1.924942183063768"
     },
     "execution_count": 21,
     "metadata": {},
     "output_type": "execute_result"
    }
   ],
   "source": [
    "metrics.davies_bouldin_score(analys_personal_data_clust, analys_personal_data_clust['labels'])\n"
   ]
  },
  {
   "cell_type": "code",
   "execution_count": 22,
   "metadata": {
    "scrolled": false,
    "ExecuteTime": {
     "start_time": "2025-06-14T17:27:07.364904Z",
     "end_time": "2025-06-14T17:27:09.356462Z"
    }
   },
   "outputs": [
    {
     "data": {
      "text/plain": "0.4586080289804953"
     },
     "execution_count": 22,
     "metadata": {},
     "output_type": "execute_result"
    }
   ],
   "source": [
    "get_dunn_index(analys_personal_data_clust,analys_personal_data_clust['labels'])"
   ]
  },
  {
   "cell_type": "code",
   "execution_count": 23,
   "metadata": {
    "ExecuteTime": {
     "start_time": "2025-06-14T17:27:09.334669Z",
     "end_time": "2025-06-14T17:27:09.356462Z"
    }
   },
   "outputs": [],
   "source": [
    "import pandas as pd\n",
    "def get_impurity(dropout_cl0: pd.core.series.Series, dropout_cl1:pd.core.series.Series):\n",
    "    impurity = -1\n",
    "    n = len (dropout_cl0) + len (dropout_cl1)\n",
    "    if len(dropout_cl0[dropout_cl0 == 0]) > len(dropout_cl0[dropout_cl0 == 1]):\n",
    "        impurity = (len(dropout_cl0) - len(dropout_cl0[dropout_cl0 == 0]))/n\n",
    "    else:\n",
    "        impurity = (len(dropout_cl0) - len(dropout_cl0[dropout_cl0 == 1]))/n\n",
    "    if len(dropout_cl1[dropout_cl1 == 0]) > len(dropout_cl1[dropout_cl1 == 1]):\n",
    "        impurity = impurity + ((len(dropout_cl1) - len(dropout_cl1[dropout_cl1 == 0]))/n)\n",
    "    else:\n",
    "        impurity = impurity + ((len(dropout_cl1) - len(dropout_cl1[dropout_cl1 == 1]))/n)\n",
    "        \n",
    "    return impurity"
   ]
  },
  {
   "cell_type": "code",
   "execution_count": 24,
   "metadata": {
    "ExecuteTime": {
     "start_time": "2025-06-14T17:27:09.341064Z",
     "end_time": "2025-06-14T17:27:09.369678Z"
    }
   },
   "outputs": [],
   "source": [
    "analys_personal_data_clust['abandona'] = analys_personal_data['abandona']"
   ]
  },
  {
   "cell_type": "code",
   "execution_count": 25,
   "metadata": {
    "ExecuteTime": {
     "start_time": "2025-06-14T17:27:09.361206Z",
     "end_time": "2025-06-14T17:27:09.391085Z"
    }
   },
   "outputs": [
    {
     "data": {
      "text/plain": "0.45741680767061477"
     },
     "execution_count": 25,
     "metadata": {},
     "output_type": "execute_result"
    }
   ],
   "source": [
    "get_impurity(analys_personal_data_clust[analys_personal_data_clust['labels']==0]['abandona'], analys_personal_data_clust[analys_personal_data_clust['labels']==1]['abandona'])"
   ]
  },
  {
   "cell_type": "code",
   "execution_count": 26,
   "metadata": {
    "ExecuteTime": {
     "start_time": "2025-06-14T17:27:09.379566Z",
     "end_time": "2025-06-14T17:27:09.391085Z"
    }
   },
   "outputs": [
    {
     "data": {
      "text/plain": "0    475\n1    440\nName: abandona, dtype: int64"
     },
     "execution_count": 26,
     "metadata": {},
     "output_type": "execute_result"
    }
   ],
   "source": [
    "analys_personal_data_clust[analys_personal_data_clust['labels']==0]['abandona'].value_counts()"
   ]
  },
  {
   "cell_type": "code",
   "execution_count": 27,
   "metadata": {
    "ExecuteTime": {
     "start_time": "2025-06-14T17:27:09.404227Z",
     "end_time": "2025-06-14T17:27:09.468057Z"
    }
   },
   "outputs": [
    {
     "data": {
      "text/plain": "1    487\n0    371\nName: abandona, dtype: int64"
     },
     "execution_count": 27,
     "metadata": {},
     "output_type": "execute_result"
    }
   ],
   "source": [
    "analys_personal_data_clust[analys_personal_data_clust['labels']==1]['abandona'].value_counts()"
   ]
  },
  {
   "cell_type": "code",
   "execution_count": 28,
   "metadata": {
    "ExecuteTime": {
     "start_time": "2025-06-14T17:27:09.412813Z",
     "end_time": "2025-06-14T17:27:09.483910Z"
    }
   },
   "outputs": [
    {
     "data": {
      "text/plain": "0    0.519126\n1    0.480874\nName: abandona, dtype: float64"
     },
     "execution_count": 28,
     "metadata": {},
     "output_type": "execute_result"
    }
   ],
   "source": [
    "analys_personal_data_clust[analys_personal_data_clust['labels']==0]['abandona'].value_counts(normalize=True)"
   ]
  },
  {
   "cell_type": "code",
   "execution_count": 29,
   "metadata": {
    "ExecuteTime": {
     "start_time": "2025-06-14T17:27:09.429754Z",
     "end_time": "2025-06-14T17:27:09.483910Z"
    }
   },
   "outputs": [
    {
     "data": {
      "text/plain": "1    0.567599\n0    0.432401\nName: abandona, dtype: float64"
     },
     "execution_count": 29,
     "metadata": {},
     "output_type": "execute_result"
    }
   ],
   "source": [
    "analys_personal_data_clust[analys_personal_data_clust['labels']==1]['abandona'].value_counts(normalize=True)"
   ]
  },
  {
   "cell_type": "code",
   "execution_count": 30,
   "metadata": {
    "ExecuteTime": {
     "start_time": "2025-06-14T17:27:09.441175Z",
     "end_time": "2025-06-14T17:27:09.487239Z"
    }
   },
   "outputs": [],
   "source": [
    "# from apitep_utils.report import Report\n",
    "# for label in analys_personal_data['labels'].cat.categories:\n",
    "#     dset = analys_personal_data[analys_personal_data['labels'] == label]\n",
    "#     report = Report()\n",
    "#     report.generate_advanced(dset,'KMeans_1st_year_2_cl_'+str(label),sys.path[0]+ '/'+ '1st_year_cat_'+ str(label))"
   ]
  }
 ],
 "metadata": {
  "kernelspec": {
   "display_name": "Python 3",
   "language": "python",
   "name": "python3"
  },
  "language_info": {
   "codemirror_mode": {
    "name": "ipython",
    "version": 3
   },
   "file_extension": ".py",
   "mimetype": "text/x-python",
   "name": "python",
   "nbconvert_exporter": "python",
   "pygments_lexer": "ipython3",
   "version": "3.8.10"
  }
 },
 "nbformat": 4,
 "nbformat_minor": 4
}
