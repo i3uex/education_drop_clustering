{
 "cells": [
  {
   "cell_type": "code",
   "execution_count": 1,
   "metadata": {
    "ExecuteTime": {
     "start_time": "2025-06-14T17:32:34.450484Z",
     "end_time": "2025-06-14T17:32:34.997412Z"
    }
   },
   "outputs": [],
   "source": [
    "import pandas as pd\n",
    "import numpy as np\n",
    "import sys\n",
    "import os\n",
    "sys.path.append(os.path.relpath('../'))"
   ]
  },
  {
   "cell_type": "code",
   "execution_count": 2,
   "metadata": {
    "ExecuteTime": {
     "start_time": "2025-06-14T17:32:34.791413Z",
     "end_time": "2025-06-14T17:32:34.997412Z"
    }
   },
   "outputs": [],
   "source": [
    "analys_personal_data = pd.read_csv('../../../Data/For_analysis_and_modeling/2nd_quadrimester/analys_personal_data.csv',sep='|')"
   ]
  },
  {
   "cell_type": "code",
   "execution_count": 3,
   "metadata": {
    "ExecuteTime": {
     "start_time": "2025-06-14T17:32:34.828145Z",
     "end_time": "2025-06-14T17:32:34.997412Z"
    }
   },
   "outputs": [
    {
     "data": {
      "text/plain": "   expediente  cod_plan                                           des_plan  \\\n0           2      1623  GRADO EN INGENIERÍA CIVIL - CONSTRUCCIONES CIV...   \n1           3      1623  GRADO EN INGENIERÍA CIVIL - CONSTRUCCIONES CIV...   \n2           4      1623  GRADO EN INGENIERÍA CIVIL - CONSTRUCCIONES CIV...   \n3           5      1623  GRADO EN INGENIERÍA CIVIL - CONSTRUCCIONES CIV...   \n4           6      1623  GRADO EN INGENIERÍA CIVIL - CONSTRUCCIONES CIV...   \n\n  anio_apertura_expediente  abandona convocatoria_acceso  \\\n0                  2009-10         0                 JUN   \n1                  2009-10         1                 JUN   \n2                  2009-10         0                 JUN   \n3                  2009-10         1                 JUN   \n4                  2009-10         0                 JUN   \n\n              des_acceso  nota_admision_def sexo  edad_acceso  distance  \\\n0           Selectividad              6.836    D           25  300.6305   \n1  Formación Profesional              6.836    H           31  667.4115   \n2  Formación Profesional              6.836    D           28   91.0020   \n3           Selectividad              6.730    D           25   91.0020   \n4           Selectividad              6.836    H           25   91.0020   \n\n  becario  cum_pass_ratio  cum_absent_ratio  std_deviation  cum_median  \\\n0       S        0.235294          0.176471       1.990064       4.175   \n1       S        0.312500          0.562500       1.566486       5.000   \n2       N        0.166667          0.444444       1.345324       3.825   \n3       N        0.263158          0.315789       1.850120       3.670   \n4       N        1.000000          0.000000       1.339003       7.000   \n\n   cum_pass_median  cum_fail_median  \n0              5.7             3.84  \n1              5.0             2.50  \n2              5.2             2.53  \n3              5.4             2.50  \n4              7.0             0.00  ",
      "text/html": "<div>\n<style scoped>\n    .dataframe tbody tr th:only-of-type {\n        vertical-align: middle;\n    }\n\n    .dataframe tbody tr th {\n        vertical-align: top;\n    }\n\n    .dataframe thead th {\n        text-align: right;\n    }\n</style>\n<table border=\"1\" class=\"dataframe\">\n  <thead>\n    <tr style=\"text-align: right;\">\n      <th></th>\n      <th>expediente</th>\n      <th>cod_plan</th>\n      <th>des_plan</th>\n      <th>anio_apertura_expediente</th>\n      <th>abandona</th>\n      <th>convocatoria_acceso</th>\n      <th>des_acceso</th>\n      <th>nota_admision_def</th>\n      <th>sexo</th>\n      <th>edad_acceso</th>\n      <th>distance</th>\n      <th>becario</th>\n      <th>cum_pass_ratio</th>\n      <th>cum_absent_ratio</th>\n      <th>std_deviation</th>\n      <th>cum_median</th>\n      <th>cum_pass_median</th>\n      <th>cum_fail_median</th>\n    </tr>\n  </thead>\n  <tbody>\n    <tr>\n      <th>0</th>\n      <td>2</td>\n      <td>1623</td>\n      <td>GRADO EN INGENIERÍA CIVIL - CONSTRUCCIONES CIV...</td>\n      <td>2009-10</td>\n      <td>0</td>\n      <td>JUN</td>\n      <td>Selectividad</td>\n      <td>6.836</td>\n      <td>D</td>\n      <td>25</td>\n      <td>300.6305</td>\n      <td>S</td>\n      <td>0.235294</td>\n      <td>0.176471</td>\n      <td>1.990064</td>\n      <td>4.175</td>\n      <td>5.7</td>\n      <td>3.84</td>\n    </tr>\n    <tr>\n      <th>1</th>\n      <td>3</td>\n      <td>1623</td>\n      <td>GRADO EN INGENIERÍA CIVIL - CONSTRUCCIONES CIV...</td>\n      <td>2009-10</td>\n      <td>1</td>\n      <td>JUN</td>\n      <td>Formación Profesional</td>\n      <td>6.836</td>\n      <td>H</td>\n      <td>31</td>\n      <td>667.4115</td>\n      <td>S</td>\n      <td>0.312500</td>\n      <td>0.562500</td>\n      <td>1.566486</td>\n      <td>5.000</td>\n      <td>5.0</td>\n      <td>2.50</td>\n    </tr>\n    <tr>\n      <th>2</th>\n      <td>4</td>\n      <td>1623</td>\n      <td>GRADO EN INGENIERÍA CIVIL - CONSTRUCCIONES CIV...</td>\n      <td>2009-10</td>\n      <td>0</td>\n      <td>JUN</td>\n      <td>Formación Profesional</td>\n      <td>6.836</td>\n      <td>D</td>\n      <td>28</td>\n      <td>91.0020</td>\n      <td>N</td>\n      <td>0.166667</td>\n      <td>0.444444</td>\n      <td>1.345324</td>\n      <td>3.825</td>\n      <td>5.2</td>\n      <td>2.53</td>\n    </tr>\n    <tr>\n      <th>3</th>\n      <td>5</td>\n      <td>1623</td>\n      <td>GRADO EN INGENIERÍA CIVIL - CONSTRUCCIONES CIV...</td>\n      <td>2009-10</td>\n      <td>1</td>\n      <td>JUN</td>\n      <td>Selectividad</td>\n      <td>6.730</td>\n      <td>D</td>\n      <td>25</td>\n      <td>91.0020</td>\n      <td>N</td>\n      <td>0.263158</td>\n      <td>0.315789</td>\n      <td>1.850120</td>\n      <td>3.670</td>\n      <td>5.4</td>\n      <td>2.50</td>\n    </tr>\n    <tr>\n      <th>4</th>\n      <td>6</td>\n      <td>1623</td>\n      <td>GRADO EN INGENIERÍA CIVIL - CONSTRUCCIONES CIV...</td>\n      <td>2009-10</td>\n      <td>0</td>\n      <td>JUN</td>\n      <td>Selectividad</td>\n      <td>6.836</td>\n      <td>H</td>\n      <td>25</td>\n      <td>91.0020</td>\n      <td>N</td>\n      <td>1.000000</td>\n      <td>0.000000</td>\n      <td>1.339003</td>\n      <td>7.000</td>\n      <td>7.0</td>\n      <td>0.00</td>\n    </tr>\n  </tbody>\n</table>\n</div>"
     },
     "execution_count": 3,
     "metadata": {},
     "output_type": "execute_result"
    }
   ],
   "source": [
    "analys_personal_data.head()"
   ]
  },
  {
   "cell_type": "code",
   "execution_count": 4,
   "metadata": {
    "ExecuteTime": {
     "start_time": "2025-06-14T17:32:34.839867Z",
     "end_time": "2025-06-14T17:32:34.997412Z"
    }
   },
   "outputs": [],
   "source": [
    "analys_personal_data_model = analys_personal_data.copy()"
   ]
  },
  {
   "cell_type": "code",
   "execution_count": 5,
   "outputs": [],
   "source": [
    "interval_cols = []"
   ],
   "metadata": {
    "collapsed": false,
    "ExecuteTime": {
     "start_time": "2025-06-14T17:32:34.843706Z",
     "end_time": "2025-06-14T17:32:34.997412Z"
    }
   }
  },
  {
   "cell_type": "code",
   "execution_count": 6,
   "metadata": {
    "ExecuteTime": {
     "start_time": "2025-06-14T17:32:34.874521Z",
     "end_time": "2025-06-14T17:32:34.997412Z"
    }
   },
   "outputs": [],
   "source": [
    "analys_personal_data_model.drop(['expediente','cod_plan'],axis=1,inplace=True)"
   ]
  },
  {
   "cell_type": "code",
   "execution_count": 7,
   "metadata": {
    "ExecuteTime": {
     "start_time": "2025-06-14T17:32:34.889881Z",
     "end_time": "2025-06-14T17:32:34.997412Z"
    }
   },
   "outputs": [],
   "source": [
    "\n",
    "note_bcket_array = np.array([5, 6.5, 8, 9.5, 10, 11.5, 13, 14])\n",
    "analys_personal_data_model['nota_admision_def'] = pd.cut(\n",
    "    analys_personal_data_model['nota_admision_def'], note_bcket_array, include_lowest=True)\n",
    "interval_cols.append('nota_admision_def')\n",
    "\n",
    "year_bcket_array = np.array([18, 20, 25, 30, 35, 60])\n",
    "analys_personal_data_model['edad_acceso'] = pd.cut(\n",
    "    analys_personal_data_model['edad_acceso'], year_bcket_array, include_lowest=True)\n",
    "interval_cols.append('edad_acceso')\n",
    "\n",
    "\n",
    "distance_bcket_array = np.array([0, 45, 90, 135, 250, 500, 1892])\n",
    "analys_personal_data_model['distance'] = pd.cut(\n",
    "    analys_personal_data_model['distance'], distance_bcket_array, include_lowest=True)\n",
    "interval_cols.append('distance')\n",
    "\n",
    "note_bcket_array = np.array([0, 1.5, 3, 4.5, 6, 7.5, 9, 10])\n",
    "analys_personal_data_model['cum_median'] = pd.cut(\n",
    "    analys_personal_data_model['cum_median'], note_bcket_array, include_lowest=True)\n",
    "interval_cols.append('cum_median')\n",
    "note_bcket_array = np.array([0, 4.5, 6, 7.5, 9, 10])\n",
    "analys_personal_data_model['cum_pass_median'] = pd.cut(\n",
    "    analys_personal_data_model['cum_pass_median'], note_bcket_array, include_lowest=True)\n",
    "interval_cols.append('cum_pass_median')\n",
    "note_bcket_array = np.array([0, 1.5, 3, 5])\n",
    "analys_personal_data_model['cum_fail_median'] = pd.cut(\n",
    "    analys_personal_data_model['cum_fail_median'], note_bcket_array, include_lowest=True)\n",
    "interval_cols.append('cum_fail_median')\n",
    "\n",
    "ratio_bcket_array = np.array([0, 0.25, 0.5, 0.75, 1])\n",
    "analys_personal_data_model['cum_pass_ratio'] = pd.cut(\n",
    "    analys_personal_data_model['cum_pass_ratio'], ratio_bcket_array, include_lowest=True)\n",
    "interval_cols.append('cum_pass_ratio')\n",
    "\n",
    "analys_personal_data_model['cum_absent_ratio'] = pd.cut(\n",
    "    analys_personal_data_model['cum_absent_ratio'], ratio_bcket_array, include_lowest=True)\n",
    "interval_cols.append('cum_absent_ratio')\n",
    "\n",
    "std_bcket_array = np.array([0, 0.05,1.15,1.25,2.15,3.25])\n",
    "analys_personal_data_model['std_deviation'] = pd.cut(\n",
    "    analys_personal_data_model['std_deviation'], std_bcket_array, include_lowest=True)\n",
    "interval_cols.append('std_deviation')\n"
   ]
  },
  {
   "cell_type": "code",
   "execution_count": 8,
   "metadata": {
    "scrolled": false,
    "ExecuteTime": {
     "start_time": "2025-06-14T17:32:34.919884Z",
     "end_time": "2025-06-14T17:32:34.997412Z"
    }
   },
   "outputs": [
    {
     "data": {
      "text/plain": "                                            des_plan anio_apertura_expediente  \\\n0  GRADO EN INGENIERÍA CIVIL - CONSTRUCCIONES CIV...                  2009-10   \n1  GRADO EN INGENIERÍA CIVIL - CONSTRUCCIONES CIV...                  2009-10   \n2  GRADO EN INGENIERÍA CIVIL - CONSTRUCCIONES CIV...                  2009-10   \n3  GRADO EN INGENIERÍA CIVIL - CONSTRUCCIONES CIV...                  2009-10   \n4  GRADO EN INGENIERÍA CIVIL - CONSTRUCCIONES CIV...                  2009-10   \n\n   abandona convocatoria_acceso             des_acceso nota_admision_def sexo  \\\n0         0                 JUN           Selectividad        (6.5, 8.0]    D   \n1         1                 JUN  Formación Profesional        (6.5, 8.0]    H   \n2         0                 JUN  Formación Profesional        (6.5, 8.0]    D   \n3         1                 JUN           Selectividad        (6.5, 8.0]    D   \n4         0                 JUN           Selectividad        (6.5, 8.0]    H   \n\n    edad_acceso         distance becario  cum_pass_ratio cum_absent_ratio  \\\n0  (20.0, 25.0]   (250.0, 500.0]       S  (-0.001, 0.25]   (-0.001, 0.25]   \n1  (30.0, 35.0]  (500.0, 1892.0]       S     (0.25, 0.5]      (0.5, 0.75]   \n2  (25.0, 30.0]    (90.0, 135.0]       N  (-0.001, 0.25]      (0.25, 0.5]   \n3  (20.0, 25.0]    (90.0, 135.0]       N     (0.25, 0.5]      (0.25, 0.5]   \n4  (20.0, 25.0]    (90.0, 135.0]       N     (0.75, 1.0]   (-0.001, 0.25]   \n\n  std_deviation  cum_median cum_pass_median cum_fail_median  \n0  (1.25, 2.15]  (3.0, 4.5]      (4.5, 6.0]      (3.0, 5.0]  \n1  (1.25, 2.15]  (4.5, 6.0]      (4.5, 6.0]      (1.5, 3.0]  \n2  (1.25, 2.15]  (3.0, 4.5]      (4.5, 6.0]      (1.5, 3.0]  \n3  (1.25, 2.15]  (3.0, 4.5]      (4.5, 6.0]      (1.5, 3.0]  \n4  (1.25, 2.15]  (6.0, 7.5]      (6.0, 7.5]   (-0.001, 1.5]  ",
      "text/html": "<div>\n<style scoped>\n    .dataframe tbody tr th:only-of-type {\n        vertical-align: middle;\n    }\n\n    .dataframe tbody tr th {\n        vertical-align: top;\n    }\n\n    .dataframe thead th {\n        text-align: right;\n    }\n</style>\n<table border=\"1\" class=\"dataframe\">\n  <thead>\n    <tr style=\"text-align: right;\">\n      <th></th>\n      <th>des_plan</th>\n      <th>anio_apertura_expediente</th>\n      <th>abandona</th>\n      <th>convocatoria_acceso</th>\n      <th>des_acceso</th>\n      <th>nota_admision_def</th>\n      <th>sexo</th>\n      <th>edad_acceso</th>\n      <th>distance</th>\n      <th>becario</th>\n      <th>cum_pass_ratio</th>\n      <th>cum_absent_ratio</th>\n      <th>std_deviation</th>\n      <th>cum_median</th>\n      <th>cum_pass_median</th>\n      <th>cum_fail_median</th>\n    </tr>\n  </thead>\n  <tbody>\n    <tr>\n      <th>0</th>\n      <td>GRADO EN INGENIERÍA CIVIL - CONSTRUCCIONES CIV...</td>\n      <td>2009-10</td>\n      <td>0</td>\n      <td>JUN</td>\n      <td>Selectividad</td>\n      <td>(6.5, 8.0]</td>\n      <td>D</td>\n      <td>(20.0, 25.0]</td>\n      <td>(250.0, 500.0]</td>\n      <td>S</td>\n      <td>(-0.001, 0.25]</td>\n      <td>(-0.001, 0.25]</td>\n      <td>(1.25, 2.15]</td>\n      <td>(3.0, 4.5]</td>\n      <td>(4.5, 6.0]</td>\n      <td>(3.0, 5.0]</td>\n    </tr>\n    <tr>\n      <th>1</th>\n      <td>GRADO EN INGENIERÍA CIVIL - CONSTRUCCIONES CIV...</td>\n      <td>2009-10</td>\n      <td>1</td>\n      <td>JUN</td>\n      <td>Formación Profesional</td>\n      <td>(6.5, 8.0]</td>\n      <td>H</td>\n      <td>(30.0, 35.0]</td>\n      <td>(500.0, 1892.0]</td>\n      <td>S</td>\n      <td>(0.25, 0.5]</td>\n      <td>(0.5, 0.75]</td>\n      <td>(1.25, 2.15]</td>\n      <td>(4.5, 6.0]</td>\n      <td>(4.5, 6.0]</td>\n      <td>(1.5, 3.0]</td>\n    </tr>\n    <tr>\n      <th>2</th>\n      <td>GRADO EN INGENIERÍA CIVIL - CONSTRUCCIONES CIV...</td>\n      <td>2009-10</td>\n      <td>0</td>\n      <td>JUN</td>\n      <td>Formación Profesional</td>\n      <td>(6.5, 8.0]</td>\n      <td>D</td>\n      <td>(25.0, 30.0]</td>\n      <td>(90.0, 135.0]</td>\n      <td>N</td>\n      <td>(-0.001, 0.25]</td>\n      <td>(0.25, 0.5]</td>\n      <td>(1.25, 2.15]</td>\n      <td>(3.0, 4.5]</td>\n      <td>(4.5, 6.0]</td>\n      <td>(1.5, 3.0]</td>\n    </tr>\n    <tr>\n      <th>3</th>\n      <td>GRADO EN INGENIERÍA CIVIL - CONSTRUCCIONES CIV...</td>\n      <td>2009-10</td>\n      <td>1</td>\n      <td>JUN</td>\n      <td>Selectividad</td>\n      <td>(6.5, 8.0]</td>\n      <td>D</td>\n      <td>(20.0, 25.0]</td>\n      <td>(90.0, 135.0]</td>\n      <td>N</td>\n      <td>(0.25, 0.5]</td>\n      <td>(0.25, 0.5]</td>\n      <td>(1.25, 2.15]</td>\n      <td>(3.0, 4.5]</td>\n      <td>(4.5, 6.0]</td>\n      <td>(1.5, 3.0]</td>\n    </tr>\n    <tr>\n      <th>4</th>\n      <td>GRADO EN INGENIERÍA CIVIL - CONSTRUCCIONES CIV...</td>\n      <td>2009-10</td>\n      <td>0</td>\n      <td>JUN</td>\n      <td>Selectividad</td>\n      <td>(6.5, 8.0]</td>\n      <td>H</td>\n      <td>(20.0, 25.0]</td>\n      <td>(90.0, 135.0]</td>\n      <td>N</td>\n      <td>(0.75, 1.0]</td>\n      <td>(-0.001, 0.25]</td>\n      <td>(1.25, 2.15]</td>\n      <td>(6.0, 7.5]</td>\n      <td>(6.0, 7.5]</td>\n      <td>(-0.001, 1.5]</td>\n    </tr>\n  </tbody>\n</table>\n</div>"
     },
     "execution_count": 8,
     "metadata": {},
     "output_type": "execute_result"
    }
   ],
   "source": [
    "analys_personal_data_model.head()"
   ]
  },
  {
   "cell_type": "code",
   "execution_count": 9,
   "metadata": {
    "ExecuteTime": {
     "start_time": "2025-06-14T17:32:34.939852Z",
     "end_time": "2025-06-14T17:32:35.014668Z"
    }
   },
   "outputs": [],
   "source": [
    "analys_personal_data_model.to_csv('./analys_personal_data_model.csv',index=False)"
   ]
  },
  {
   "cell_type": "code",
   "execution_count": 10,
   "metadata": {
    "ExecuteTime": {
     "start_time": "2025-06-14T17:32:35.008684Z",
     "end_time": "2025-06-14T17:32:35.091631Z"
    }
   },
   "outputs": [],
   "source": [
    "analys_personal_data_clust = pd.read_csv('./analys_personal_data_clust.csv',index_col=0)"
   ]
  },
  {
   "cell_type": "code",
   "execution_count": 11,
   "metadata": {
    "ExecuteTime": {
     "start_time": "2025-06-14T17:32:35.044459Z",
     "end_time": "2025-06-14T17:32:35.138741Z"
    }
   },
   "outputs": [],
   "source": [
    "analys_personal_data_clust['labels'] = analys_personal_data_clust['labels'].astype('category')\n",
    "analys_personal_data_model['labels'] = analys_personal_data_clust['labels']"
   ]
  },
  {
   "cell_type": "code",
   "execution_count": 13,
   "metadata": {
    "ExecuteTime": {
     "start_time": "2025-06-14T17:32:35.055428Z",
     "end_time": "2025-06-14T17:32:35.194144Z"
    }
   },
   "outputs": [
    {
     "data": {
      "text/plain": "                                            des_plan anio_apertura_expediente  \\\n1  GRADO EN INGENIERÍA CIVIL - CONSTRUCCIONES CIV...                  2009-10   \n2  GRADO EN INGENIERÍA CIVIL - CONSTRUCCIONES CIV...                  2009-10   \n3  GRADO EN INGENIERÍA CIVIL - CONSTRUCCIONES CIV...                  2009-10   \n4  GRADO EN INGENIERÍA CIVIL - CONSTRUCCIONES CIV...                  2009-10   \n5  GRADO EN INGENIERÍA CIVIL - CONSTRUCCIONES CIV...                  2009-10   \n\n   abandona convocatoria_acceso nota_admision_def sexo   edad_acceso  \\\n1         0                 JUN        (6.5, 8.0]    D  (20.0, 25.0]   \n2         1                 JUN        (6.5, 8.0]    H  (30.0, 35.0]   \n3         0                 JUN        (6.5, 8.0]    D  (25.0, 30.0]   \n4         1                 JUN        (6.5, 8.0]    D  (20.0, 25.0]   \n5         0                 JUN        (6.5, 8.0]    H  (20.0, 25.0]   \n\n   cum_pass_ratio cum_absent_ratio std_deviation  cum_median cum_pass_median  \\\n1  (-0.001, 0.25]   (-0.001, 0.25]  (1.25, 2.15]  (3.0, 4.5]      (4.5, 6.0]   \n2     (0.25, 0.5]      (0.5, 0.75]  (1.25, 2.15]  (4.5, 6.0]      (4.5, 6.0]   \n3  (-0.001, 0.25]      (0.25, 0.5]  (1.25, 2.15]  (3.0, 4.5]      (4.5, 6.0]   \n4     (0.25, 0.5]      (0.25, 0.5]  (1.25, 2.15]  (3.0, 4.5]      (4.5, 6.0]   \n5     (0.75, 1.0]   (-0.001, 0.25]  (1.25, 2.15]  (6.0, 7.5]      (6.0, 7.5]   \n\n  cum_fail_median labels  \n1      (3.0, 4.5]      2  \n2      (1.5, 3.0]      2  \n3      (1.5, 3.0]      2  \n4      (1.5, 3.0]      2  \n5   (-0.001, 1.5]      2  ",
      "text/html": "<div>\n<style scoped>\n    .dataframe tbody tr th:only-of-type {\n        vertical-align: middle;\n    }\n\n    .dataframe tbody tr th {\n        vertical-align: top;\n    }\n\n    .dataframe thead th {\n        text-align: right;\n    }\n</style>\n<table border=\"1\" class=\"dataframe\">\n  <thead>\n    <tr style=\"text-align: right;\">\n      <th></th>\n      <th>des_plan</th>\n      <th>anio_apertura_expediente</th>\n      <th>abandona</th>\n      <th>convocatoria_acceso</th>\n      <th>nota_admision_def</th>\n      <th>sexo</th>\n      <th>edad_acceso</th>\n      <th>cum_pass_ratio</th>\n      <th>cum_absent_ratio</th>\n      <th>std_deviation</th>\n      <th>cum_median</th>\n      <th>cum_pass_median</th>\n      <th>cum_fail_median</th>\n      <th>labels</th>\n    </tr>\n  </thead>\n  <tbody>\n    <tr>\n      <th>1</th>\n      <td>GRADO EN INGENIERÍA CIVIL - CONSTRUCCIONES CIV...</td>\n      <td>2009-10</td>\n      <td>0</td>\n      <td>JUN</td>\n      <td>(6.5, 8.0]</td>\n      <td>D</td>\n      <td>(20.0, 25.0]</td>\n      <td>(-0.001, 0.25]</td>\n      <td>(-0.001, 0.25]</td>\n      <td>(1.25, 2.15]</td>\n      <td>(3.0, 4.5]</td>\n      <td>(4.5, 6.0]</td>\n      <td>(3.0, 4.5]</td>\n      <td>2</td>\n    </tr>\n    <tr>\n      <th>2</th>\n      <td>GRADO EN INGENIERÍA CIVIL - CONSTRUCCIONES CIV...</td>\n      <td>2009-10</td>\n      <td>1</td>\n      <td>JUN</td>\n      <td>(6.5, 8.0]</td>\n      <td>H</td>\n      <td>(30.0, 35.0]</td>\n      <td>(0.25, 0.5]</td>\n      <td>(0.5, 0.75]</td>\n      <td>(1.25, 2.15]</td>\n      <td>(4.5, 6.0]</td>\n      <td>(4.5, 6.0]</td>\n      <td>(1.5, 3.0]</td>\n      <td>2</td>\n    </tr>\n    <tr>\n      <th>3</th>\n      <td>GRADO EN INGENIERÍA CIVIL - CONSTRUCCIONES CIV...</td>\n      <td>2009-10</td>\n      <td>0</td>\n      <td>JUN</td>\n      <td>(6.5, 8.0]</td>\n      <td>D</td>\n      <td>(25.0, 30.0]</td>\n      <td>(-0.001, 0.25]</td>\n      <td>(0.25, 0.5]</td>\n      <td>(1.25, 2.15]</td>\n      <td>(3.0, 4.5]</td>\n      <td>(4.5, 6.0]</td>\n      <td>(1.5, 3.0]</td>\n      <td>2</td>\n    </tr>\n    <tr>\n      <th>4</th>\n      <td>GRADO EN INGENIERÍA CIVIL - CONSTRUCCIONES CIV...</td>\n      <td>2009-10</td>\n      <td>1</td>\n      <td>JUN</td>\n      <td>(6.5, 8.0]</td>\n      <td>D</td>\n      <td>(20.0, 25.0]</td>\n      <td>(0.25, 0.5]</td>\n      <td>(0.25, 0.5]</td>\n      <td>(1.25, 2.15]</td>\n      <td>(3.0, 4.5]</td>\n      <td>(4.5, 6.0]</td>\n      <td>(1.5, 3.0]</td>\n      <td>2</td>\n    </tr>\n    <tr>\n      <th>5</th>\n      <td>GRADO EN INGENIERÍA CIVIL - CONSTRUCCIONES CIV...</td>\n      <td>2009-10</td>\n      <td>0</td>\n      <td>JUN</td>\n      <td>(6.5, 8.0]</td>\n      <td>H</td>\n      <td>(20.0, 25.0]</td>\n      <td>(0.75, 1.0]</td>\n      <td>(-0.001, 0.25]</td>\n      <td>(1.25, 2.15]</td>\n      <td>(6.0, 7.5]</td>\n      <td>(6.0, 7.5]</td>\n      <td>(-0.001, 1.5]</td>\n      <td>2</td>\n    </tr>\n  </tbody>\n</table>\n</div>"
     },
     "execution_count": 13,
     "metadata": {},
     "output_type": "execute_result"
    }
   ],
   "source": [
    "analys_personal_data_clust.head()"
   ]
  },
  {
   "cell_type": "code",
   "execution_count": 14,
   "metadata": {
    "ExecuteTime": {
     "start_time": "2025-06-14T17:32:35.080560Z",
     "end_time": "2025-06-14T17:32:35.194144Z"
    }
   },
   "outputs": [],
   "source": [
    "for col in interval_cols:\n",
    "    analys_personal_data_model[col] = analys_personal_data_model[col].apply(lambda func: str(func))"
   ]
  },
  {
   "cell_type": "code",
   "execution_count": 15,
   "metadata": {
    "ExecuteTime": {
     "start_time": "2025-06-14T17:32:35.091631Z",
     "end_time": "2025-06-14T17:32:35.196163Z"
    }
   },
   "outputs": [
    {
     "data": {
      "text/plain": "1    1175\n2     597\nName: labels, dtype: int64"
     },
     "execution_count": 15,
     "metadata": {},
     "output_type": "execute_result"
    }
   ],
   "source": [
    "analys_personal_data_model['labels'].value_counts()"
   ]
  },
  {
   "cell_type": "code",
   "execution_count": 16,
   "metadata": {
    "ExecuteTime": {
     "start_time": "2025-06-14T17:32:35.092636Z",
     "end_time": "2025-06-14T17:32:35.196163Z"
    }
   },
   "outputs": [],
   "source": [
    "def le_dataset(dset, le_cols, cat_cols):\n",
    "    from sklearn import preprocessing\n",
    "    for col in cat_cols:\n",
    "        le = preprocessing.LabelEncoder()\n",
    "        le.fit(dset[col].cat.categories)\n",
    "        le_cols.append(le)\n",
    "        dset[col] = le.transform(dset[col])"
   ]
  },
  {
   "cell_type": "code",
   "execution_count": 17,
   "metadata": {
    "ExecuteTime": {
     "start_time": "2025-06-14T17:32:35.102932Z",
     "end_time": "2025-06-14T17:32:35.524154Z"
    }
   },
   "outputs": [
    {
     "data": {
      "text/plain": "   des_plan  anio_apertura_expediente  abandona  convocatoria_acceso  \\\n1         1                         1         0                    4   \n2         1                         1         1                    4   \n3         1                         1         0                    4   \n4         1                         1         1                    4   \n5         1                         1         0                    4   \n\n   nota_admision_def  sexo  edad_acceso  cum_pass_ratio  cum_absent_ratio  \\\n1                  4     0            1               0                 0   \n2                  4     1            3               1                 2   \n3                  4     0            2               0                 1   \n4                  4     0            1               1                 1   \n5                  4     1            1               3                 0   \n\n   std_deviation  cum_median  cum_pass_median  cum_fail_median  labels  \n1              3           2                1                2       1  \n2              3           3                1                1       1  \n3              3           2                1                1       1  \n4              3           2                1                1       1  \n5              3           4                2                0       1  ",
      "text/html": "<div>\n<style scoped>\n    .dataframe tbody tr th:only-of-type {\n        vertical-align: middle;\n    }\n\n    .dataframe tbody tr th {\n        vertical-align: top;\n    }\n\n    .dataframe thead th {\n        text-align: right;\n    }\n</style>\n<table border=\"1\" class=\"dataframe\">\n  <thead>\n    <tr style=\"text-align: right;\">\n      <th></th>\n      <th>des_plan</th>\n      <th>anio_apertura_expediente</th>\n      <th>abandona</th>\n      <th>convocatoria_acceso</th>\n      <th>nota_admision_def</th>\n      <th>sexo</th>\n      <th>edad_acceso</th>\n      <th>cum_pass_ratio</th>\n      <th>cum_absent_ratio</th>\n      <th>std_deviation</th>\n      <th>cum_median</th>\n      <th>cum_pass_median</th>\n      <th>cum_fail_median</th>\n      <th>labels</th>\n    </tr>\n  </thead>\n  <tbody>\n    <tr>\n      <th>1</th>\n      <td>1</td>\n      <td>1</td>\n      <td>0</td>\n      <td>4</td>\n      <td>4</td>\n      <td>0</td>\n      <td>1</td>\n      <td>0</td>\n      <td>0</td>\n      <td>3</td>\n      <td>2</td>\n      <td>1</td>\n      <td>2</td>\n      <td>1</td>\n    </tr>\n    <tr>\n      <th>2</th>\n      <td>1</td>\n      <td>1</td>\n      <td>1</td>\n      <td>4</td>\n      <td>4</td>\n      <td>1</td>\n      <td>3</td>\n      <td>1</td>\n      <td>2</td>\n      <td>3</td>\n      <td>3</td>\n      <td>1</td>\n      <td>1</td>\n      <td>1</td>\n    </tr>\n    <tr>\n      <th>3</th>\n      <td>1</td>\n      <td>1</td>\n      <td>0</td>\n      <td>4</td>\n      <td>4</td>\n      <td>0</td>\n      <td>2</td>\n      <td>0</td>\n      <td>1</td>\n      <td>3</td>\n      <td>2</td>\n      <td>1</td>\n      <td>1</td>\n      <td>1</td>\n    </tr>\n    <tr>\n      <th>4</th>\n      <td>1</td>\n      <td>1</td>\n      <td>1</td>\n      <td>4</td>\n      <td>4</td>\n      <td>0</td>\n      <td>1</td>\n      <td>1</td>\n      <td>1</td>\n      <td>3</td>\n      <td>2</td>\n      <td>1</td>\n      <td>1</td>\n      <td>1</td>\n    </tr>\n    <tr>\n      <th>5</th>\n      <td>1</td>\n      <td>1</td>\n      <td>0</td>\n      <td>4</td>\n      <td>4</td>\n      <td>1</td>\n      <td>1</td>\n      <td>3</td>\n      <td>0</td>\n      <td>3</td>\n      <td>4</td>\n      <td>2</td>\n      <td>0</td>\n      <td>1</td>\n    </tr>\n  </tbody>\n</table>\n</div>"
     },
     "execution_count": 17,
     "metadata": {},
     "output_type": "execute_result"
    }
   ],
   "source": [
    "for col in analys_personal_data_clust.columns:\n",
    "    if 'object' in str(analys_personal_data_clust.dtypes[col]):\n",
    "        analys_personal_data_clust[col] = analys_personal_data_clust[col].astype('category')\n",
    "        \n",
    "le_cols = []\n",
    "cat_cols = analys_personal_data_clust.select_dtypes('category').columns\n",
    "analys_personal_data_labels = analys_personal_data_clust.copy()\n",
    "le_dataset(analys_personal_data_labels,le_cols,cat_cols)\n",
    "analys_personal_data_labels.head()"
   ]
  },
  {
   "cell_type": "code",
   "execution_count": 18,
   "metadata": {
    "scrolled": true,
    "ExecuteTime": {
     "start_time": "2025-06-14T17:32:35.524154Z",
     "end_time": "2025-06-14T17:32:35.532149Z"
    }
   },
   "outputs": [
    {
     "data": {
      "text/plain": "0    1176\n1     597\nName: labels, dtype: int64"
     },
     "execution_count": 18,
     "metadata": {},
     "output_type": "execute_result"
    }
   ],
   "source": [
    "analys_personal_data_labels['labels'].value_counts()"
   ]
  },
  {
   "cell_type": "code",
   "execution_count": 19,
   "metadata": {
    "ExecuteTime": {
     "start_time": "2025-06-14T17:32:35.529474Z",
     "end_time": "2025-06-14T17:32:35.641355Z"
    }
   },
   "outputs": [],
   "source": [
    "from sklearn import metrics\n"
   ]
  },
  {
   "cell_type": "code",
   "execution_count": 20,
   "metadata": {
    "ExecuteTime": {
     "start_time": "2025-06-14T17:32:35.559903Z",
     "end_time": "2025-06-14T17:32:35.673814Z"
    }
   },
   "outputs": [],
   "source": [
    "def get_dunn_index(data, labels):\n",
    "    import dunn_index\n",
    "    from sklearn.metrics.pairwise import euclidean_distances\n",
    "    distances = euclidean_distances(data)\n",
    "    return dunn_index.dunn(labels,distances)\n",
    "    "
   ]
  },
  {
   "cell_type": "code",
   "execution_count": 21,
   "metadata": {
    "ExecuteTime": {
     "start_time": "2025-06-14T17:32:35.563335Z",
     "end_time": "2025-06-14T17:32:35.673814Z"
    }
   },
   "outputs": [
    {
     "data": {
      "text/plain": "0    1176\n1     597\nName: labels, dtype: int64"
     },
     "execution_count": 21,
     "metadata": {},
     "output_type": "execute_result"
    }
   ],
   "source": [
    "analys_personal_data_labels['labels'].value_counts()"
   ]
  },
  {
   "cell_type": "code",
   "execution_count": 22,
   "metadata": {
    "ExecuteTime": {
     "start_time": "2025-06-14T17:32:35.579811Z",
     "end_time": "2025-06-14T17:32:35.770994Z"
    }
   },
   "outputs": [
    {
     "data": {
      "text/plain": "0.0846014623939522"
     },
     "execution_count": 22,
     "metadata": {},
     "output_type": "execute_result"
    }
   ],
   "source": [
    "metrics.silhouette_score(analys_personal_data_labels, analys_personal_data_labels['labels'])\n"
   ]
  },
  {
   "cell_type": "code",
   "execution_count": 23,
   "metadata": {
    "ExecuteTime": {
     "start_time": "2025-06-14T17:32:35.728899Z",
     "end_time": "2025-06-14T17:32:35.770994Z"
    }
   },
   "outputs": [
    {
     "data": {
      "text/plain": "176.9588107000183"
     },
     "execution_count": 23,
     "metadata": {},
     "output_type": "execute_result"
    }
   ],
   "source": [
    "metrics.calinski_harabasz_score(analys_personal_data_labels, analys_personal_data_labels['labels'])\n"
   ]
  },
  {
   "cell_type": "code",
   "execution_count": 24,
   "metadata": {
    "ExecuteTime": {
     "start_time": "2025-06-14T17:32:35.749499Z",
     "end_time": "2025-06-14T17:32:35.770994Z"
    }
   },
   "outputs": [
    {
     "data": {
      "text/plain": "2.802561904828608"
     },
     "execution_count": 24,
     "metadata": {},
     "output_type": "execute_result"
    }
   ],
   "source": [
    "metrics.davies_bouldin_score(analys_personal_data_labels, analys_personal_data_labels['labels'])\n"
   ]
  },
  {
   "cell_type": "code",
   "execution_count": 25,
   "metadata": {
    "ExecuteTime": {
     "start_time": "2025-06-14T17:32:35.767945Z",
     "end_time": "2025-06-14T17:32:37.769859Z"
    }
   },
   "outputs": [
    {
     "data": {
      "text/plain": "0.10259783520851541"
     },
     "execution_count": 25,
     "metadata": {},
     "output_type": "execute_result"
    }
   ],
   "source": [
    "get_dunn_index(analys_personal_data_labels, analys_personal_data_labels['labels'])"
   ]
  },
  {
   "cell_type": "code",
   "execution_count": 26,
   "metadata": {
    "ExecuteTime": {
     "start_time": "2025-06-14T17:32:37.769859Z",
     "end_time": "2025-06-14T17:32:37.779872Z"
    }
   },
   "outputs": [],
   "source": [
    "import pandas as pd\n",
    "def get_impurity(dropout_cl0: pd.core.series.Series, dropout_cl1:pd.core.series.Series):\n",
    "    impurity = -1\n",
    "    n = len (dropout_cl0) + len (dropout_cl1)\n",
    "    if len(dropout_cl0[dropout_cl0 == 0]) > len(dropout_cl0[dropout_cl0 == 1]):\n",
    "        impurity = (len(dropout_cl0) - len(dropout_cl0[dropout_cl0 == 0]))/n\n",
    "    else:\n",
    "        impurity = (len(dropout_cl0) - len(dropout_cl0[dropout_cl0 == 1]))/n\n",
    "    if len(dropout_cl1[dropout_cl1 == 0]) > len(dropout_cl1[dropout_cl1 == 1]):\n",
    "        impurity = impurity + ((len(dropout_cl1) - len(dropout_cl1[dropout_cl1 == 0]))/n)\n",
    "    else:\n",
    "        impurity = impurity + ((len(dropout_cl1) - len(dropout_cl1[dropout_cl1 == 1]))/n)\n",
    "        \n",
    "    return impurity"
   ]
  },
  {
   "cell_type": "code",
   "execution_count": 27,
   "metadata": {
    "ExecuteTime": {
     "start_time": "2025-06-14T17:32:37.778850Z",
     "end_time": "2025-06-14T17:32:37.789597Z"
    }
   },
   "outputs": [],
   "source": [
    "analys_personal_data_labels['abandona'] = analys_personal_data['abandona']"
   ]
  },
  {
   "cell_type": "code",
   "execution_count": 28,
   "metadata": {
    "ExecuteTime": {
     "start_time": "2025-06-14T17:32:37.789597Z",
     "end_time": "2025-06-14T17:32:37.905263Z"
    }
   },
   "outputs": [
    {
     "data": {
      "text/plain": "0.4506486181613085"
     },
     "execution_count": 28,
     "metadata": {},
     "output_type": "execute_result"
    }
   ],
   "source": [
    "get_impurity(analys_personal_data_labels[analys_personal_data_labels['labels']==0]['abandona'], analys_personal_data_labels[analys_personal_data_labels['labels']==1]['abandona'])"
   ]
  },
  {
   "cell_type": "code",
   "execution_count": 29,
   "metadata": {
    "ExecuteTime": {
     "start_time": "2025-06-14T17:32:37.819926Z",
     "end_time": "2025-06-14T17:32:37.905263Z"
    }
   },
   "outputs": [
    {
     "data": {
      "text/plain": "1.0    0.554894\n0.0    0.445106\nName: abandona, dtype: float64"
     },
     "execution_count": 29,
     "metadata": {},
     "output_type": "execute_result"
    }
   ],
   "source": [
    "analys_personal_data_labels[analys_personal_data_labels['labels']==0]['abandona'].value_counts(normalize=True)"
   ]
  },
  {
   "cell_type": "code",
   "execution_count": 30,
   "metadata": {
    "ExecuteTime": {
     "start_time": "2025-06-14T17:32:37.845998Z",
     "end_time": "2025-06-14T17:32:37.907275Z"
    }
   },
   "outputs": [
    {
     "data": {
      "text/plain": "0.0    0.539363\n1.0    0.460637\nName: abandona, dtype: float64"
     },
     "execution_count": 30,
     "metadata": {},
     "output_type": "execute_result"
    }
   ],
   "source": [
    "analys_personal_data_labels[analys_personal_data_labels['labels']==1]['abandona'].value_counts(normalize=True)"
   ]
  },
  {
   "cell_type": "code",
   "execution_count": 30,
   "metadata": {
    "ExecuteTime": {
     "start_time": "2025-06-14T17:32:37.860784Z",
     "end_time": "2025-06-14T17:32:37.990765Z"
    }
   },
   "outputs": [],
   "source": []
  }
 ],
 "metadata": {
  "kernelspec": {
   "display_name": "Python 3",
   "language": "python",
   "name": "python3"
  },
  "language_info": {
   "codemirror_mode": {
    "name": "ipython",
    "version": 3
   },
   "file_extension": ".py",
   "mimetype": "text/x-python",
   "name": "python",
   "nbconvert_exporter": "python",
   "pygments_lexer": "ipython3",
   "version": "3.8.10"
  }
 },
 "nbformat": 4,
 "nbformat_minor": 4
}
