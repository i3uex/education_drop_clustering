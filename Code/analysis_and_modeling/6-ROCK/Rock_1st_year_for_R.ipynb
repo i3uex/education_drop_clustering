{
 "cells": [
  {
   "cell_type": "code",
   "execution_count": 28,
   "metadata": {
    "ExecuteTime": {
     "start_time": "2025-06-14T17:38:34.749629Z",
     "end_time": "2025-06-14T17:38:35.178559Z"
    }
   },
   "outputs": [],
   "source": [
    "import numpy as np\n",
    "import pandas as pd\n",
    "import sys \n",
    "import os\n",
    "sys.path.append(os.path.relpath('../'))\n",
    "from sklearn import metrics\n",
    "%matplotlib inline"
   ]
  },
  {
   "cell_type": "code",
   "execution_count": 29,
   "metadata": {
    "ExecuteTime": {
     "start_time": "2025-06-14T17:38:34.753644Z",
     "end_time": "2025-06-14T17:38:35.259516Z"
    }
   },
   "outputs": [],
   "source": [
    "analys_personal_data = pd.read_csv('../../../Data/For_analysis_and_modeling/2nd_quadrimester/analys_personal_data.csv',sep='|')"
   ]
  },
  {
   "cell_type": "code",
   "execution_count": 30,
   "metadata": {
    "ExecuteTime": {
     "start_time": "2025-06-14T17:38:34.784852Z",
     "end_time": "2025-06-14T17:38:35.259516Z"
    }
   },
   "outputs": [
    {
     "data": {
      "text/plain": "   expediente  cod_plan                                           des_plan  \\\n0           2      1623  GRADO EN INGENIERÍA CIVIL - CONSTRUCCIONES CIV...   \n1           3      1623  GRADO EN INGENIERÍA CIVIL - CONSTRUCCIONES CIV...   \n2           4      1623  GRADO EN INGENIERÍA CIVIL - CONSTRUCCIONES CIV...   \n3           5      1623  GRADO EN INGENIERÍA CIVIL - CONSTRUCCIONES CIV...   \n4           6      1623  GRADO EN INGENIERÍA CIVIL - CONSTRUCCIONES CIV...   \n\n  anio_apertura_expediente  abandona convocatoria_acceso  \\\n0                  2009-10         0                 JUN   \n1                  2009-10         1                 JUN   \n2                  2009-10         0                 JUN   \n3                  2009-10         1                 JUN   \n4                  2009-10         0                 JUN   \n\n              des_acceso  nota_admision_def sexo  edad_acceso  distance  \\\n0           Selectividad              6.836    D           25  300.6305   \n1  Formación Profesional              6.836    H           31  667.4115   \n2  Formación Profesional              6.836    D           28   91.0020   \n3           Selectividad              6.730    D           25   91.0020   \n4           Selectividad              6.836    H           25   91.0020   \n\n  becario  cum_pass_ratio  cum_absent_ratio  std_deviation  cum_median  \\\n0       S        0.235294          0.176471       1.990064       4.175   \n1       S        0.312500          0.562500       1.566486       5.000   \n2       N        0.166667          0.444444       1.345324       3.825   \n3       N        0.263158          0.315789       1.850120       3.670   \n4       N        1.000000          0.000000       1.339003       7.000   \n\n   cum_pass_median  cum_fail_median  \n0              5.7             3.84  \n1              5.0             2.50  \n2              5.2             2.53  \n3              5.4             2.50  \n4              7.0             0.00  ",
      "text/html": "<div>\n<style scoped>\n    .dataframe tbody tr th:only-of-type {\n        vertical-align: middle;\n    }\n\n    .dataframe tbody tr th {\n        vertical-align: top;\n    }\n\n    .dataframe thead th {\n        text-align: right;\n    }\n</style>\n<table border=\"1\" class=\"dataframe\">\n  <thead>\n    <tr style=\"text-align: right;\">\n      <th></th>\n      <th>expediente</th>\n      <th>cod_plan</th>\n      <th>des_plan</th>\n      <th>anio_apertura_expediente</th>\n      <th>abandona</th>\n      <th>convocatoria_acceso</th>\n      <th>des_acceso</th>\n      <th>nota_admision_def</th>\n      <th>sexo</th>\n      <th>edad_acceso</th>\n      <th>distance</th>\n      <th>becario</th>\n      <th>cum_pass_ratio</th>\n      <th>cum_absent_ratio</th>\n      <th>std_deviation</th>\n      <th>cum_median</th>\n      <th>cum_pass_median</th>\n      <th>cum_fail_median</th>\n    </tr>\n  </thead>\n  <tbody>\n    <tr>\n      <th>0</th>\n      <td>2</td>\n      <td>1623</td>\n      <td>GRADO EN INGENIERÍA CIVIL - CONSTRUCCIONES CIV...</td>\n      <td>2009-10</td>\n      <td>0</td>\n      <td>JUN</td>\n      <td>Selectividad</td>\n      <td>6.836</td>\n      <td>D</td>\n      <td>25</td>\n      <td>300.6305</td>\n      <td>S</td>\n      <td>0.235294</td>\n      <td>0.176471</td>\n      <td>1.990064</td>\n      <td>4.175</td>\n      <td>5.7</td>\n      <td>3.84</td>\n    </tr>\n    <tr>\n      <th>1</th>\n      <td>3</td>\n      <td>1623</td>\n      <td>GRADO EN INGENIERÍA CIVIL - CONSTRUCCIONES CIV...</td>\n      <td>2009-10</td>\n      <td>1</td>\n      <td>JUN</td>\n      <td>Formación Profesional</td>\n      <td>6.836</td>\n      <td>H</td>\n      <td>31</td>\n      <td>667.4115</td>\n      <td>S</td>\n      <td>0.312500</td>\n      <td>0.562500</td>\n      <td>1.566486</td>\n      <td>5.000</td>\n      <td>5.0</td>\n      <td>2.50</td>\n    </tr>\n    <tr>\n      <th>2</th>\n      <td>4</td>\n      <td>1623</td>\n      <td>GRADO EN INGENIERÍA CIVIL - CONSTRUCCIONES CIV...</td>\n      <td>2009-10</td>\n      <td>0</td>\n      <td>JUN</td>\n      <td>Formación Profesional</td>\n      <td>6.836</td>\n      <td>D</td>\n      <td>28</td>\n      <td>91.0020</td>\n      <td>N</td>\n      <td>0.166667</td>\n      <td>0.444444</td>\n      <td>1.345324</td>\n      <td>3.825</td>\n      <td>5.2</td>\n      <td>2.53</td>\n    </tr>\n    <tr>\n      <th>3</th>\n      <td>5</td>\n      <td>1623</td>\n      <td>GRADO EN INGENIERÍA CIVIL - CONSTRUCCIONES CIV...</td>\n      <td>2009-10</td>\n      <td>1</td>\n      <td>JUN</td>\n      <td>Selectividad</td>\n      <td>6.730</td>\n      <td>D</td>\n      <td>25</td>\n      <td>91.0020</td>\n      <td>N</td>\n      <td>0.263158</td>\n      <td>0.315789</td>\n      <td>1.850120</td>\n      <td>3.670</td>\n      <td>5.4</td>\n      <td>2.50</td>\n    </tr>\n    <tr>\n      <th>4</th>\n      <td>6</td>\n      <td>1623</td>\n      <td>GRADO EN INGENIERÍA CIVIL - CONSTRUCCIONES CIV...</td>\n      <td>2009-10</td>\n      <td>0</td>\n      <td>JUN</td>\n      <td>Selectividad</td>\n      <td>6.836</td>\n      <td>H</td>\n      <td>25</td>\n      <td>91.0020</td>\n      <td>N</td>\n      <td>1.000000</td>\n      <td>0.000000</td>\n      <td>1.339003</td>\n      <td>7.000</td>\n      <td>7.0</td>\n      <td>0.00</td>\n    </tr>\n  </tbody>\n</table>\n</div>"
     },
     "execution_count": 30,
     "metadata": {},
     "output_type": "execute_result"
    }
   ],
   "source": [
    "analys_personal_data.head()"
   ]
  },
  {
   "cell_type": "code",
   "execution_count": 31,
   "metadata": {
    "ExecuteTime": {
     "start_time": "2025-06-14T17:38:34.791719Z",
     "end_time": "2025-06-14T17:38:35.259516Z"
    }
   },
   "outputs": [],
   "source": [
    "interval_cols = []"
   ]
  },
  {
   "cell_type": "code",
   "execution_count": 32,
   "metadata": {
    "ExecuteTime": {
     "start_time": "2025-06-14T17:38:34.797243Z",
     "end_time": "2025-06-14T17:38:35.259516Z"
    }
   },
   "outputs": [],
   "source": [
    "analys_personal_data_model = analys_personal_data.copy()"
   ]
  },
  {
   "cell_type": "code",
   "execution_count": 33,
   "metadata": {
    "ExecuteTime": {
     "start_time": "2025-06-14T17:38:34.801520Z",
     "end_time": "2025-06-14T17:38:35.259516Z"
    }
   },
   "outputs": [],
   "source": [
    "analys_personal_data_model.drop(['expediente','cod_plan'],axis=1,inplace=True)"
   ]
  },
  {
   "cell_type": "code",
   "execution_count": 34,
   "metadata": {
    "ExecuteTime": {
     "start_time": "2025-06-14T17:38:34.820698Z",
     "end_time": "2025-06-14T17:38:35.259516Z"
    }
   },
   "outputs": [],
   "source": [
    "\n",
    "note_bcket_array = np.array([5, 6.5, 8, 9.5, 10, 11.5, 13, 14])\n",
    "analys_personal_data_model['nota_admision_def'] = pd.cut(\n",
    "    analys_personal_data_model['nota_admision_def'], note_bcket_array, include_lowest=True)\n",
    "interval_cols.append('nota_admision_def')\n",
    "\n",
    "year_bcket_array = np.array([18, 20, 25, 30, 35, 60])\n",
    "analys_personal_data_model['edad_acceso'] = pd.cut(\n",
    "    analys_personal_data_model['edad_acceso'], year_bcket_array, include_lowest=True)\n",
    "interval_cols.append('edad_acceso')\n",
    "\n",
    "\n",
    "distance_bcket_array = np.array([0, 45, 90, 135, 250, 500, 1892])\n",
    "analys_personal_data_model['distance'] = pd.cut(\n",
    "    analys_personal_data_model['distance'], distance_bcket_array, include_lowest=True)\n",
    "interval_cols.append('distance')\n",
    "\n",
    "note_bcket_array = np.array([0, 1.5, 3, 4.5, 6, 7.5, 9, 10])\n",
    "analys_personal_data_model['cum_median'] = pd.cut(\n",
    "    analys_personal_data_model['cum_median'], note_bcket_array, include_lowest=True)\n",
    "interval_cols.append('cum_median')\n",
    "note_bcket_array = np.array([0, 4.5, 6, 7.5, 9, 10])\n",
    "analys_personal_data_model['cum_pass_median'] = pd.cut(\n",
    "    analys_personal_data_model['cum_pass_median'], note_bcket_array, include_lowest=True)\n",
    "interval_cols.append('cum_pass_median')\n",
    "note_bcket_array = np.array([0, 1.5, 3, 5])\n",
    "analys_personal_data_model['cum_fail_median'] = pd.cut(\n",
    "    analys_personal_data_model['cum_fail_median'], note_bcket_array, include_lowest=True)\n",
    "interval_cols.append('cum_fail_median')\n",
    "\n",
    "ratio_bcket_array = np.array([0, 0.25, 0.5, 0.75, 1])\n",
    "analys_personal_data_model['cum_pass_ratio'] = pd.cut(\n",
    "    analys_personal_data_model['cum_pass_ratio'], ratio_bcket_array, include_lowest=True)\n",
    "interval_cols.append('cum_pass_ratio')\n",
    "\n",
    "analys_personal_data_model['cum_absent_ratio'] = pd.cut(\n",
    "    analys_personal_data_model['cum_absent_ratio'], ratio_bcket_array, include_lowest=True)\n",
    "interval_cols.append('cum_absent_ratio')\n",
    "\n",
    "std_bcket_array = np.array([0, 0.05,1.15,1.25,2.15,3.25])\n",
    "analys_personal_data_model['std_deviation'] = pd.cut(\n",
    "    analys_personal_data_model['std_deviation'], std_bcket_array, include_lowest=True)\n",
    "interval_cols.append('std_deviation')\n"
   ]
  },
  {
   "cell_type": "code",
   "execution_count": 35,
   "metadata": {
    "scrolled": false,
    "ExecuteTime": {
     "start_time": "2025-06-14T17:38:34.861349Z",
     "end_time": "2025-06-14T17:38:35.259516Z"
    }
   },
   "outputs": [
    {
     "data": {
      "text/plain": "                                            des_plan anio_apertura_expediente  \\\n0  GRADO EN INGENIERÍA CIVIL - CONSTRUCCIONES CIV...                  2009-10   \n1  GRADO EN INGENIERÍA CIVIL - CONSTRUCCIONES CIV...                  2009-10   \n2  GRADO EN INGENIERÍA CIVIL - CONSTRUCCIONES CIV...                  2009-10   \n3  GRADO EN INGENIERÍA CIVIL - CONSTRUCCIONES CIV...                  2009-10   \n4  GRADO EN INGENIERÍA CIVIL - CONSTRUCCIONES CIV...                  2009-10   \n\n   abandona convocatoria_acceso             des_acceso nota_admision_def sexo  \\\n0         0                 JUN           Selectividad        (6.5, 8.0]    D   \n1         1                 JUN  Formación Profesional        (6.5, 8.0]    H   \n2         0                 JUN  Formación Profesional        (6.5, 8.0]    D   \n3         1                 JUN           Selectividad        (6.5, 8.0]    D   \n4         0                 JUN           Selectividad        (6.5, 8.0]    H   \n\n    edad_acceso         distance becario  cum_pass_ratio cum_absent_ratio  \\\n0  (20.0, 25.0]   (250.0, 500.0]       S  (-0.001, 0.25]   (-0.001, 0.25]   \n1  (30.0, 35.0]  (500.0, 1892.0]       S     (0.25, 0.5]      (0.5, 0.75]   \n2  (25.0, 30.0]    (90.0, 135.0]       N  (-0.001, 0.25]      (0.25, 0.5]   \n3  (20.0, 25.0]    (90.0, 135.0]       N     (0.25, 0.5]      (0.25, 0.5]   \n4  (20.0, 25.0]    (90.0, 135.0]       N     (0.75, 1.0]   (-0.001, 0.25]   \n\n  std_deviation  cum_median cum_pass_median cum_fail_median  \n0  (1.25, 2.15]  (3.0, 4.5]      (4.5, 6.0]      (3.0, 5.0]  \n1  (1.25, 2.15]  (4.5, 6.0]      (4.5, 6.0]      (1.5, 3.0]  \n2  (1.25, 2.15]  (3.0, 4.5]      (4.5, 6.0]      (1.5, 3.0]  \n3  (1.25, 2.15]  (3.0, 4.5]      (4.5, 6.0]      (1.5, 3.0]  \n4  (1.25, 2.15]  (6.0, 7.5]      (6.0, 7.5]   (-0.001, 1.5]  ",
      "text/html": "<div>\n<style scoped>\n    .dataframe tbody tr th:only-of-type {\n        vertical-align: middle;\n    }\n\n    .dataframe tbody tr th {\n        vertical-align: top;\n    }\n\n    .dataframe thead th {\n        text-align: right;\n    }\n</style>\n<table border=\"1\" class=\"dataframe\">\n  <thead>\n    <tr style=\"text-align: right;\">\n      <th></th>\n      <th>des_plan</th>\n      <th>anio_apertura_expediente</th>\n      <th>abandona</th>\n      <th>convocatoria_acceso</th>\n      <th>des_acceso</th>\n      <th>nota_admision_def</th>\n      <th>sexo</th>\n      <th>edad_acceso</th>\n      <th>distance</th>\n      <th>becario</th>\n      <th>cum_pass_ratio</th>\n      <th>cum_absent_ratio</th>\n      <th>std_deviation</th>\n      <th>cum_median</th>\n      <th>cum_pass_median</th>\n      <th>cum_fail_median</th>\n    </tr>\n  </thead>\n  <tbody>\n    <tr>\n      <th>0</th>\n      <td>GRADO EN INGENIERÍA CIVIL - CONSTRUCCIONES CIV...</td>\n      <td>2009-10</td>\n      <td>0</td>\n      <td>JUN</td>\n      <td>Selectividad</td>\n      <td>(6.5, 8.0]</td>\n      <td>D</td>\n      <td>(20.0, 25.0]</td>\n      <td>(250.0, 500.0]</td>\n      <td>S</td>\n      <td>(-0.001, 0.25]</td>\n      <td>(-0.001, 0.25]</td>\n      <td>(1.25, 2.15]</td>\n      <td>(3.0, 4.5]</td>\n      <td>(4.5, 6.0]</td>\n      <td>(3.0, 5.0]</td>\n    </tr>\n    <tr>\n      <th>1</th>\n      <td>GRADO EN INGENIERÍA CIVIL - CONSTRUCCIONES CIV...</td>\n      <td>2009-10</td>\n      <td>1</td>\n      <td>JUN</td>\n      <td>Formación Profesional</td>\n      <td>(6.5, 8.0]</td>\n      <td>H</td>\n      <td>(30.0, 35.0]</td>\n      <td>(500.0, 1892.0]</td>\n      <td>S</td>\n      <td>(0.25, 0.5]</td>\n      <td>(0.5, 0.75]</td>\n      <td>(1.25, 2.15]</td>\n      <td>(4.5, 6.0]</td>\n      <td>(4.5, 6.0]</td>\n      <td>(1.5, 3.0]</td>\n    </tr>\n    <tr>\n      <th>2</th>\n      <td>GRADO EN INGENIERÍA CIVIL - CONSTRUCCIONES CIV...</td>\n      <td>2009-10</td>\n      <td>0</td>\n      <td>JUN</td>\n      <td>Formación Profesional</td>\n      <td>(6.5, 8.0]</td>\n      <td>D</td>\n      <td>(25.0, 30.0]</td>\n      <td>(90.0, 135.0]</td>\n      <td>N</td>\n      <td>(-0.001, 0.25]</td>\n      <td>(0.25, 0.5]</td>\n      <td>(1.25, 2.15]</td>\n      <td>(3.0, 4.5]</td>\n      <td>(4.5, 6.0]</td>\n      <td>(1.5, 3.0]</td>\n    </tr>\n    <tr>\n      <th>3</th>\n      <td>GRADO EN INGENIERÍA CIVIL - CONSTRUCCIONES CIV...</td>\n      <td>2009-10</td>\n      <td>1</td>\n      <td>JUN</td>\n      <td>Selectividad</td>\n      <td>(6.5, 8.0]</td>\n      <td>D</td>\n      <td>(20.0, 25.0]</td>\n      <td>(90.0, 135.0]</td>\n      <td>N</td>\n      <td>(0.25, 0.5]</td>\n      <td>(0.25, 0.5]</td>\n      <td>(1.25, 2.15]</td>\n      <td>(3.0, 4.5]</td>\n      <td>(4.5, 6.0]</td>\n      <td>(1.5, 3.0]</td>\n    </tr>\n    <tr>\n      <th>4</th>\n      <td>GRADO EN INGENIERÍA CIVIL - CONSTRUCCIONES CIV...</td>\n      <td>2009-10</td>\n      <td>0</td>\n      <td>JUN</td>\n      <td>Selectividad</td>\n      <td>(6.5, 8.0]</td>\n      <td>H</td>\n      <td>(20.0, 25.0]</td>\n      <td>(90.0, 135.0]</td>\n      <td>N</td>\n      <td>(0.75, 1.0]</td>\n      <td>(-0.001, 0.25]</td>\n      <td>(1.25, 2.15]</td>\n      <td>(6.0, 7.5]</td>\n      <td>(6.0, 7.5]</td>\n      <td>(-0.001, 1.5]</td>\n    </tr>\n  </tbody>\n</table>\n</div>"
     },
     "execution_count": 35,
     "metadata": {},
     "output_type": "execute_result"
    }
   ],
   "source": [
    "analys_personal_data_model.head()"
   ]
  },
  {
   "cell_type": "code",
   "execution_count": 36,
   "metadata": {
    "ExecuteTime": {
     "start_time": "2025-06-14T17:38:34.869799Z",
     "end_time": "2025-06-14T17:38:35.259516Z"
    }
   },
   "outputs": [],
   "source": [
    "analys_personal_data_model.to_csv('./analys_personal_data_model.csv',index=False)"
   ]
  },
  {
   "cell_type": "code",
   "execution_count": 37,
   "metadata": {
    "ExecuteTime": {
     "start_time": "2025-06-14T17:38:34.908833Z",
     "end_time": "2025-06-14T17:38:35.259516Z"
    }
   },
   "outputs": [],
   "source": [
    "analys_personal_data_clust = pd.read_csv('./analys_personal_data_clust.csv',index_col=0)"
   ]
  },
  {
   "cell_type": "code",
   "execution_count": 38,
   "metadata": {
    "ExecuteTime": {
     "start_time": "2025-06-14T17:38:34.950761Z",
     "end_time": "2025-06-14T17:38:35.259516Z"
    }
   },
   "outputs": [
    {
     "data": {
      "text/plain": "   des_plan GRADO EN EDIFICACIÓN  \\\n1                          False   \n2                          False   \n3                          False   \n4                          False   \n5                          False   \n\n   des_plan GRADO EN INGENIERÍA CIVIL - CONSTRUCCIONES CIVILES  \\\n1                                               True             \n2                                               True             \n3                                               True             \n4                                               True             \n5                                               True             \n\n   des_plan GRADO EN INGENIERÍA CIVIL - HIDROLOGÍA  \\\n1                                            False   \n2                                            False   \n3                                            False   \n4                                            False   \n5                                            False   \n\n   des_plan GRADO EN INGENIERÍA CIVIL - TRANSPORTES Y SERVICIOS URBANOS  \\\n1                                              False                      \n2                                              False                      \n3                                              False                      \n4                                              False                      \n5                                              False                      \n\n   des_plan GRADO EN INGENIERÍA DE SONIDO E IMAGEN EN TELECOMUNICACIÓN  \\\n1                                              False                     \n2                                              False                     \n3                                              False                     \n4                                              False                     \n5                                              False                     \n\n   des_plan GRADO EN INGENIERÍA INFORMÁTICA EN INGENIERÍA DE COMPUTADORES  \\\n1                                              False                        \n2                                              False                        \n3                                              False                        \n4                                              False                        \n5                                              False                        \n\n   des_plan GRADO EN INGENIERÍA INFORMÁTICA EN INGENIERÍA DEL SOFTWARE  \\\n1                                              False                     \n2                                              False                     \n3                                              False                     \n4                                              False                     \n5                                              False                     \n\n   anio_apertura_expediente 2008-09  anio_apertura_expediente 2009-10  \\\n1                             False                              True   \n2                             False                              True   \n3                             False                              True   \n4                             False                              True   \n5                             False                              True   \n\n   anio_apertura_expediente 2010-11  ...  cum_pass_median (-0.001, 4.5]  \\\n1                             False  ...                          False   \n2                             False  ...                          False   \n3                             False  ...                          False   \n4                             False  ...                          False   \n5                             False  ...                          False   \n\n   cum_pass_median (4.5, 6.0]  cum_pass_median (6.0, 7.5]  \\\n1                        True                       False   \n2                        True                       False   \n3                        True                       False   \n4                        True                       False   \n5                       False                        True   \n\n   cum_pass_median (7.5, 9.0]  cum_pass_median (9.0, 10.0]  \\\n1                       False                        False   \n2                       False                        False   \n3                       False                        False   \n4                       False                        False   \n5                       False                        False   \n\n   cum_fail_median (-0.001, 1.5]  cum_fail_median (1.5, 3.0]  \\\n1                          False                       False   \n2                          False                        True   \n3                          False                        True   \n4                          False                        True   \n5                           True                       False   \n\n   cum_fail_median (3.0, 5.0]  labels  abandona  \n1                        True       2         0  \n2                       False       1         1  \n3                       False       1         0  \n4                       False       2         1  \n5                       False       2         0  \n\n[5 rows x 79 columns]",
      "text/html": "<div>\n<style scoped>\n    .dataframe tbody tr th:only-of-type {\n        vertical-align: middle;\n    }\n\n    .dataframe tbody tr th {\n        vertical-align: top;\n    }\n\n    .dataframe thead th {\n        text-align: right;\n    }\n</style>\n<table border=\"1\" class=\"dataframe\">\n  <thead>\n    <tr style=\"text-align: right;\">\n      <th></th>\n      <th>des_plan GRADO EN EDIFICACIÓN</th>\n      <th>des_plan GRADO EN INGENIERÍA CIVIL - CONSTRUCCIONES CIVILES</th>\n      <th>des_plan GRADO EN INGENIERÍA CIVIL - HIDROLOGÍA</th>\n      <th>des_plan GRADO EN INGENIERÍA CIVIL - TRANSPORTES Y SERVICIOS URBANOS</th>\n      <th>des_plan GRADO EN INGENIERÍA DE SONIDO E IMAGEN EN TELECOMUNICACIÓN</th>\n      <th>des_plan GRADO EN INGENIERÍA INFORMÁTICA EN INGENIERÍA DE COMPUTADORES</th>\n      <th>des_plan GRADO EN INGENIERÍA INFORMÁTICA EN INGENIERÍA DEL SOFTWARE</th>\n      <th>anio_apertura_expediente 2008-09</th>\n      <th>anio_apertura_expediente 2009-10</th>\n      <th>anio_apertura_expediente 2010-11</th>\n      <th>...</th>\n      <th>cum_pass_median (-0.001, 4.5]</th>\n      <th>cum_pass_median (4.5, 6.0]</th>\n      <th>cum_pass_median (6.0, 7.5]</th>\n      <th>cum_pass_median (7.5, 9.0]</th>\n      <th>cum_pass_median (9.0, 10.0]</th>\n      <th>cum_fail_median (-0.001, 1.5]</th>\n      <th>cum_fail_median (1.5, 3.0]</th>\n      <th>cum_fail_median (3.0, 5.0]</th>\n      <th>labels</th>\n      <th>abandona</th>\n    </tr>\n  </thead>\n  <tbody>\n    <tr>\n      <th>1</th>\n      <td>False</td>\n      <td>True</td>\n      <td>False</td>\n      <td>False</td>\n      <td>False</td>\n      <td>False</td>\n      <td>False</td>\n      <td>False</td>\n      <td>True</td>\n      <td>False</td>\n      <td>...</td>\n      <td>False</td>\n      <td>True</td>\n      <td>False</td>\n      <td>False</td>\n      <td>False</td>\n      <td>False</td>\n      <td>False</td>\n      <td>True</td>\n      <td>2</td>\n      <td>0</td>\n    </tr>\n    <tr>\n      <th>2</th>\n      <td>False</td>\n      <td>True</td>\n      <td>False</td>\n      <td>False</td>\n      <td>False</td>\n      <td>False</td>\n      <td>False</td>\n      <td>False</td>\n      <td>True</td>\n      <td>False</td>\n      <td>...</td>\n      <td>False</td>\n      <td>True</td>\n      <td>False</td>\n      <td>False</td>\n      <td>False</td>\n      <td>False</td>\n      <td>True</td>\n      <td>False</td>\n      <td>1</td>\n      <td>1</td>\n    </tr>\n    <tr>\n      <th>3</th>\n      <td>False</td>\n      <td>True</td>\n      <td>False</td>\n      <td>False</td>\n      <td>False</td>\n      <td>False</td>\n      <td>False</td>\n      <td>False</td>\n      <td>True</td>\n      <td>False</td>\n      <td>...</td>\n      <td>False</td>\n      <td>True</td>\n      <td>False</td>\n      <td>False</td>\n      <td>False</td>\n      <td>False</td>\n      <td>True</td>\n      <td>False</td>\n      <td>1</td>\n      <td>0</td>\n    </tr>\n    <tr>\n      <th>4</th>\n      <td>False</td>\n      <td>True</td>\n      <td>False</td>\n      <td>False</td>\n      <td>False</td>\n      <td>False</td>\n      <td>False</td>\n      <td>False</td>\n      <td>True</td>\n      <td>False</td>\n      <td>...</td>\n      <td>False</td>\n      <td>True</td>\n      <td>False</td>\n      <td>False</td>\n      <td>False</td>\n      <td>False</td>\n      <td>True</td>\n      <td>False</td>\n      <td>2</td>\n      <td>1</td>\n    </tr>\n    <tr>\n      <th>5</th>\n      <td>False</td>\n      <td>True</td>\n      <td>False</td>\n      <td>False</td>\n      <td>False</td>\n      <td>False</td>\n      <td>False</td>\n      <td>False</td>\n      <td>True</td>\n      <td>False</td>\n      <td>...</td>\n      <td>False</td>\n      <td>False</td>\n      <td>True</td>\n      <td>False</td>\n      <td>False</td>\n      <td>True</td>\n      <td>False</td>\n      <td>False</td>\n      <td>2</td>\n      <td>0</td>\n    </tr>\n  </tbody>\n</table>\n<p>5 rows × 79 columns</p>\n</div>"
     },
     "execution_count": 38,
     "metadata": {},
     "output_type": "execute_result"
    }
   ],
   "source": [
    "analys_personal_data_clust.head()"
   ]
  },
  {
   "cell_type": "code",
   "execution_count": 39,
   "outputs": [],
   "source": [
    "def get_dunn_index(data, labels):\n",
    "    import dunn_index\n",
    "    from sklearn.metrics.pairwise import euclidean_distances\n",
    "    distances = euclidean_distances(data)\n",
    "    return dunn_index.dunn(labels,distances)"
   ],
   "metadata": {
    "collapsed": false,
    "ExecuteTime": {
     "start_time": "2025-06-14T17:38:34.962103Z",
     "end_time": "2025-06-14T17:38:35.259516Z"
    }
   }
  },
  {
   "cell_type": "code",
   "execution_count": 40,
   "metadata": {
    "scrolled": true,
    "ExecuteTime": {
     "start_time": "2025-06-14T17:38:34.962103Z",
     "end_time": "2025-06-14T17:38:35.259516Z"
    }
   },
   "outputs": [
    {
     "data": {
      "text/plain": "0.06263218378538227"
     },
     "execution_count": 40,
     "metadata": {},
     "output_type": "execute_result"
    }
   ],
   "source": [
    "metrics.silhouette_score(analys_personal_data_clust, analys_personal_data_clust['labels'])\n"
   ]
  },
  {
   "cell_type": "code",
   "execution_count": 41,
   "metadata": {
    "ExecuteTime": {
     "start_time": "2025-06-14T17:38:35.067007Z",
     "end_time": "2025-06-14T17:38:35.259516Z"
    }
   },
   "outputs": [
    {
     "data": {
      "text/plain": "61.86225097859311"
     },
     "execution_count": 41,
     "metadata": {},
     "output_type": "execute_result"
    }
   ],
   "source": [
    "metrics.calinski_harabasz_score(analys_personal_data_clust, analys_personal_data_clust['labels'])\n"
   ]
  },
  {
   "cell_type": "code",
   "execution_count": 42,
   "metadata": {
    "scrolled": true,
    "ExecuteTime": {
     "start_time": "2025-06-14T17:38:35.083981Z",
     "end_time": "2025-06-14T17:38:35.259516Z"
    }
   },
   "outputs": [
    {
     "data": {
      "text/plain": "3.717861655294941"
     },
     "execution_count": 42,
     "metadata": {},
     "output_type": "execute_result"
    }
   ],
   "source": [
    "metrics.davies_bouldin_score(analys_personal_data_clust, analys_personal_data_clust['labels'])\n"
   ]
  },
  {
   "cell_type": "code",
   "execution_count": 43,
   "metadata": {
    "scrolled": false,
    "ExecuteTime": {
     "start_time": "2025-06-14T17:38:35.111697Z",
     "end_time": "2025-06-14T17:38:37.001191Z"
    }
   },
   "outputs": [
    {
     "data": {
      "text/plain": "0.3110855084191276"
     },
     "execution_count": 43,
     "metadata": {},
     "output_type": "execute_result"
    }
   ],
   "source": [
    "get_dunn_index(analys_personal_data_clust,analys_personal_data_clust['labels'])"
   ]
  },
  {
   "cell_type": "code",
   "execution_count": 44,
   "metadata": {
    "ExecuteTime": {
     "start_time": "2025-06-14T17:38:36.980505Z",
     "end_time": "2025-06-14T17:38:37.001191Z"
    }
   },
   "outputs": [],
   "source": [
    "import pandas as pd\n",
    "def get_impurity(dropout_cl0: pd.core.series.Series, dropout_cl1:pd.core.series.Series):\n",
    "    impurity = -1\n",
    "    n = len (dropout_cl0) + len (dropout_cl1)\n",
    "    if len(dropout_cl0[dropout_cl0 == 0]) > len(dropout_cl0[dropout_cl0 == 1]):\n",
    "        impurity = (len(dropout_cl0) - len(dropout_cl0[dropout_cl0 == 0]))/n\n",
    "    else:\n",
    "        impurity = (len(dropout_cl0) - len(dropout_cl0[dropout_cl0 == 1]))/n\n",
    "    if len(dropout_cl1[dropout_cl1 == 0]) > len(dropout_cl1[dropout_cl1 == 1]):\n",
    "        impurity = impurity + ((len(dropout_cl1) - len(dropout_cl1[dropout_cl1 == 0]))/n)\n",
    "    else:\n",
    "        impurity = impurity + ((len(dropout_cl1) - len(dropout_cl1[dropout_cl1 == 1]))/n)\n",
    "        \n",
    "    return impurity"
   ]
  },
  {
   "cell_type": "code",
   "execution_count": 45,
   "metadata": {
    "ExecuteTime": {
     "start_time": "2025-06-14T17:38:36.982370Z",
     "end_time": "2025-06-14T17:38:37.008750Z"
    }
   },
   "outputs": [
    {
     "data": {
      "text/plain": "0.395375070501974"
     },
     "execution_count": 45,
     "metadata": {},
     "output_type": "execute_result"
    }
   ],
   "source": [
    "get_impurity(analys_personal_data_clust[analys_personal_data_clust['labels']==1]['abandona'], analys_personal_data_clust[analys_personal_data_clust['labels']==2]['abandona'])"
   ]
  },
  {
   "cell_type": "code",
   "execution_count": 46,
   "metadata": {
    "ExecuteTime": {
     "start_time": "2025-06-14T17:38:36.982370Z",
     "end_time": "2025-06-14T17:38:37.008750Z"
    }
   },
   "outputs": [
    {
     "data": {
      "text/plain": "0    0.786561\n1    0.213439\nName: abandona, dtype: float64"
     },
     "execution_count": 46,
     "metadata": {},
     "output_type": "execute_result"
    }
   ],
   "source": [
    "analys_personal_data_clust[analys_personal_data_clust['labels']==1]['abandona'].value_counts(normalize=True)"
   ]
  },
  {
   "cell_type": "code",
   "execution_count": 47,
   "metadata": {
    "ExecuteTime": {
     "start_time": "2025-06-14T17:38:36.982370Z",
     "end_time": "2025-06-14T17:38:37.008750Z"
    }
   },
   "outputs": [
    {
     "data": {
      "text/plain": "1    0.574342\n0    0.425658\nName: abandona, dtype: float64"
     },
     "execution_count": 47,
     "metadata": {},
     "output_type": "execute_result"
    }
   ],
   "source": [
    "analys_personal_data_clust[analys_personal_data_clust['labels']==2]['abandona'].value_counts(normalize=True)"
   ]
  }
 ],
 "metadata": {
  "kernelspec": {
   "display_name": "Python 3",
   "language": "python",
   "name": "python3"
  },
  "language_info": {
   "codemirror_mode": {
    "name": "ipython",
    "version": 3
   },
   "file_extension": ".py",
   "mimetype": "text/x-python",
   "name": "python",
   "nbconvert_exporter": "python",
   "pygments_lexer": "ipython3",
   "version": "3.8.10"
  }
 },
 "nbformat": 4,
 "nbformat_minor": 4
}
