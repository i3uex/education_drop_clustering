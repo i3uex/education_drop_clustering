{
 "cells": [
  {
   "cell_type": "code",
   "execution_count": 1,
   "outputs": [],
   "source": [
    "import numpy as np\n",
    "import pandas as pd"
   ],
   "metadata": {
    "collapsed": false,
    "ExecuteTime": {
     "start_time": "2025-06-14T17:13:01.762673Z",
     "end_time": "2025-06-14T17:13:02.872158Z"
    }
   }
  },
  {
   "cell_type": "code",
   "execution_count": 2,
   "metadata": {
    "ExecuteTime": {
     "start_time": "2025-06-14T17:13:02.872158Z",
     "end_time": "2025-06-14T17:13:02.916826Z"
    }
   },
   "outputs": [],
   "source": [
    "analys_personal_data = pd.read_csv('../../../Data/For_analysis_and_modeling/2nd_quadrimester/analys_personal_data.csv',sep='|')"
   ]
  },
  {
   "cell_type": "code",
   "execution_count": 3,
   "metadata": {
    "scrolled": true,
    "ExecuteTime": {
     "start_time": "2025-06-14T17:13:02.911780Z",
     "end_time": "2025-06-14T17:13:02.941178Z"
    }
   },
   "outputs": [
    {
     "data": {
      "text/plain": "   expediente  cod_plan                                           des_plan  \\\n0           2      1623  GRADO EN INGENIERÍA CIVIL - CONSTRUCCIONES CIV...   \n1           3      1623  GRADO EN INGENIERÍA CIVIL - CONSTRUCCIONES CIV...   \n2           4      1623  GRADO EN INGENIERÍA CIVIL - CONSTRUCCIONES CIV...   \n3           5      1623  GRADO EN INGENIERÍA CIVIL - CONSTRUCCIONES CIV...   \n4           6      1623  GRADO EN INGENIERÍA CIVIL - CONSTRUCCIONES CIV...   \n\n  anio_apertura_expediente  abandona convocatoria_acceso  \\\n0                  2009-10         0                 JUN   \n1                  2009-10         1                 JUN   \n2                  2009-10         0                 JUN   \n3                  2009-10         1                 JUN   \n4                  2009-10         0                 JUN   \n\n              des_acceso  nota_admision_def sexo  edad_acceso  distance  \\\n0           Selectividad              6.836    D           25  300.6305   \n1  Formación Profesional              6.836    H           31  667.4115   \n2  Formación Profesional              6.836    D           28   91.0020   \n3           Selectividad              6.730    D           25   91.0020   \n4           Selectividad              6.836    H           25   91.0020   \n\n  becario  cum_pass_ratio  cum_absent_ratio  std_deviation  cum_median  \\\n0       S        0.235294          0.176471       1.990064       4.175   \n1       S        0.312500          0.562500       1.566486       5.000   \n2       N        0.166667          0.444444       1.345324       3.825   \n3       N        0.263158          0.315789       1.850120       3.670   \n4       N        1.000000          0.000000       1.339003       7.000   \n\n   cum_pass_median  cum_fail_median  \n0              5.7             3.84  \n1              5.0             2.50  \n2              5.2             2.53  \n3              5.4             2.50  \n4              7.0             0.00  ",
      "text/html": "<div>\n<style scoped>\n    .dataframe tbody tr th:only-of-type {\n        vertical-align: middle;\n    }\n\n    .dataframe tbody tr th {\n        vertical-align: top;\n    }\n\n    .dataframe thead th {\n        text-align: right;\n    }\n</style>\n<table border=\"1\" class=\"dataframe\">\n  <thead>\n    <tr style=\"text-align: right;\">\n      <th></th>\n      <th>expediente</th>\n      <th>cod_plan</th>\n      <th>des_plan</th>\n      <th>anio_apertura_expediente</th>\n      <th>abandona</th>\n      <th>convocatoria_acceso</th>\n      <th>des_acceso</th>\n      <th>nota_admision_def</th>\n      <th>sexo</th>\n      <th>edad_acceso</th>\n      <th>distance</th>\n      <th>becario</th>\n      <th>cum_pass_ratio</th>\n      <th>cum_absent_ratio</th>\n      <th>std_deviation</th>\n      <th>cum_median</th>\n      <th>cum_pass_median</th>\n      <th>cum_fail_median</th>\n    </tr>\n  </thead>\n  <tbody>\n    <tr>\n      <th>0</th>\n      <td>2</td>\n      <td>1623</td>\n      <td>GRADO EN INGENIERÍA CIVIL - CONSTRUCCIONES CIV...</td>\n      <td>2009-10</td>\n      <td>0</td>\n      <td>JUN</td>\n      <td>Selectividad</td>\n      <td>6.836</td>\n      <td>D</td>\n      <td>25</td>\n      <td>300.6305</td>\n      <td>S</td>\n      <td>0.235294</td>\n      <td>0.176471</td>\n      <td>1.990064</td>\n      <td>4.175</td>\n      <td>5.7</td>\n      <td>3.84</td>\n    </tr>\n    <tr>\n      <th>1</th>\n      <td>3</td>\n      <td>1623</td>\n      <td>GRADO EN INGENIERÍA CIVIL - CONSTRUCCIONES CIV...</td>\n      <td>2009-10</td>\n      <td>1</td>\n      <td>JUN</td>\n      <td>Formación Profesional</td>\n      <td>6.836</td>\n      <td>H</td>\n      <td>31</td>\n      <td>667.4115</td>\n      <td>S</td>\n      <td>0.312500</td>\n      <td>0.562500</td>\n      <td>1.566486</td>\n      <td>5.000</td>\n      <td>5.0</td>\n      <td>2.50</td>\n    </tr>\n    <tr>\n      <th>2</th>\n      <td>4</td>\n      <td>1623</td>\n      <td>GRADO EN INGENIERÍA CIVIL - CONSTRUCCIONES CIV...</td>\n      <td>2009-10</td>\n      <td>0</td>\n      <td>JUN</td>\n      <td>Formación Profesional</td>\n      <td>6.836</td>\n      <td>D</td>\n      <td>28</td>\n      <td>91.0020</td>\n      <td>N</td>\n      <td>0.166667</td>\n      <td>0.444444</td>\n      <td>1.345324</td>\n      <td>3.825</td>\n      <td>5.2</td>\n      <td>2.53</td>\n    </tr>\n    <tr>\n      <th>3</th>\n      <td>5</td>\n      <td>1623</td>\n      <td>GRADO EN INGENIERÍA CIVIL - CONSTRUCCIONES CIV...</td>\n      <td>2009-10</td>\n      <td>1</td>\n      <td>JUN</td>\n      <td>Selectividad</td>\n      <td>6.730</td>\n      <td>D</td>\n      <td>25</td>\n      <td>91.0020</td>\n      <td>N</td>\n      <td>0.263158</td>\n      <td>0.315789</td>\n      <td>1.850120</td>\n      <td>3.670</td>\n      <td>5.4</td>\n      <td>2.50</td>\n    </tr>\n    <tr>\n      <th>4</th>\n      <td>6</td>\n      <td>1623</td>\n      <td>GRADO EN INGENIERÍA CIVIL - CONSTRUCCIONES CIV...</td>\n      <td>2009-10</td>\n      <td>0</td>\n      <td>JUN</td>\n      <td>Selectividad</td>\n      <td>6.836</td>\n      <td>H</td>\n      <td>25</td>\n      <td>91.0020</td>\n      <td>N</td>\n      <td>1.000000</td>\n      <td>0.000000</td>\n      <td>1.339003</td>\n      <td>7.000</td>\n      <td>7.0</td>\n      <td>0.00</td>\n    </tr>\n  </tbody>\n</table>\n</div>"
     },
     "execution_count": 3,
     "metadata": {},
     "output_type": "execute_result"
    }
   ],
   "source": [
    "analys_personal_data.head()"
   ]
  },
  {
   "cell_type": "code",
   "execution_count": 4,
   "outputs": [
    {
     "name": "stdout",
     "output_type": "stream",
     "text": [
      "                   intra_variance  inter_variance    F_ratio  R2_explained\n",
      "cum_pass_median          0.113517        5.732911  50.502714      0.980584\n",
      "cum_median               0.185502        3.500254  18.869052      0.949670\n",
      "cum_absent_ratio         0.006069        0.073035  12.034328      0.923280\n",
      "cum_pass_ratio           0.006206        0.060786   9.794204      0.907358\n",
      "nota_admision_def        0.203781        1.806111   8.862983      0.898611\n",
      "distance              2588.685412    19459.485860   7.517130      0.882590\n",
      "std_deviation            0.053724        0.351748   6.547279      0.867502\n",
      "edad_acceso              1.843093       11.325504   6.144835      0.860039\n",
      "cum_fail_median          0.204864        1.018388   4.971057      0.832525\n"
     ]
    }
   ],
   "source": [
    "def bin_variance_report(series, bin_edges):\n",
    "    \"\"\"Devuelve métricas intra/inter-bin para una serie numérica.\"\"\"\n",
    "    groups = pd.cut(series, bins=bin_edges, include_lowest=True)\n",
    "    n_total    = series.size\n",
    "    global_var = series.var(ddof=0)\n",
    "\n",
    "    # Varianza interna ponderada\n",
    "    intra = sum(g.var(ddof=0) * g.size for _, g in series.groupby(groups)) / n_total\n",
    "\n",
    "    # Varianza entre bins\n",
    "    means  = series.groupby(groups).mean()\n",
    "    counts = series.groupby(groups).size()\n",
    "    grand_mean = series.mean()\n",
    "    inter = sum(counts[g] * (means[g] - grand_mean)**2 for g in means.index) / n_total\n",
    "\n",
    "    return {\n",
    "        \"intra_variance\": intra,\n",
    "        \"inter_variance\": inter,\n",
    "        \"F_ratio\": inter / intra if intra else np.nan,\n",
    "        \"R2_explained\": inter / global_var if global_var else np.nan,\n",
    "    }\n",
    "\n",
    "# --- Límites que definiste --------------------------------------------------\n",
    "edges = {\n",
    "    \"nota_admision_def\": np.array([5, 6.5, 8, 9.5, 10, 11.5, 13, 14]),\n",
    "    \"distance\":          np.array([0, 45, 90, 135, 250, 500, 1892]),\n",
    "    \"cum_median\":        np.array([0, 1.5, 3, 4.5, 6, 7.5, 9, 10]),\n",
    "    \"cum_pass_median\":   np.array([0, 4.5, 6, 7.5, 9, 10]),\n",
    "    \"cum_fail_median\":   np.array([0, 1.5, 3, 5]),\n",
    "    \"cum_pass_ratio\":    np.array([0, 0.25, 0.5, 0.75, 1]),\n",
    "    \"cum_absent_ratio\":  np.array([0, 0.25, 0.5, 0.75, 1]),\n",
    "    \"std_deviation\":     np.array([0, 0.05, 1.15, 1.25, 2.15, 3.25]),\n",
    "    \"edad_acceso\":       np.array([18, 20, 25, 30, 35, 60])\n",
    "}\n",
    "\n",
    "# --- Generar los informes ---------------------------------------------------\n",
    "reports = {\n",
    "    col: bin_variance_report(analys_personal_data[col], edge_arr)\n",
    "    for col, edge_arr in edges.items()\n",
    "}\n",
    "\n",
    "report_df = (\n",
    "    pd.DataFrame(reports).T            # variables como filas\n",
    "      .sort_values(\"R2_explained\", ascending=False))\n",
    "\n",
    "print(report_df)\n"
   ],
   "metadata": {
    "collapsed": false,
    "ExecuteTime": {
     "start_time": "2025-06-14T17:13:02.952413Z",
     "end_time": "2025-06-14T17:13:03.091309Z"
    }
   }
  },
  {
   "cell_type": "code",
   "execution_count": 4,
   "outputs": [],
   "source": [],
   "metadata": {
    "collapsed": false,
    "ExecuteTime": {
     "start_time": "2025-06-14T17:13:03.054488Z",
     "end_time": "2025-06-14T17:13:03.091309Z"
    }
   }
  }
 ],
 "metadata": {
  "kernelspec": {
   "display_name": "Python 3",
   "language": "python",
   "name": "python3"
  },
  "language_info": {
   "codemirror_mode": {
    "name": "ipython",
    "version": 3
   },
   "file_extension": ".py",
   "mimetype": "text/x-python",
   "name": "python",
   "nbconvert_exporter": "python",
   "pygments_lexer": "ipython3",
   "version": "3.8.10"
  }
 },
 "nbformat": 4,
 "nbformat_minor": 4
}
